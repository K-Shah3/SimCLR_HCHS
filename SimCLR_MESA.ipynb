{
 "metadata": {
  "language_info": {
   "codemirror_mode": {
    "name": "ipython",
    "version": 3
   },
   "file_extension": ".py",
   "mimetype": "text/x-python",
   "name": "python",
   "nbconvert_exporter": "python",
   "pygments_lexer": "ipython3",
   "version": "3.8.3-final"
  },
  "orig_nbformat": 2,
  "kernelspec": {
   "name": "python3",
   "display_name": "Python 3",
   "language": "python"
  }
 },
 "nbformat": 4,
 "nbformat_minor": 2,
 "cells": [
  {
   "cell_type": "code",
   "execution_count": 1,
   "metadata": {},
   "outputs": [],
   "source": [
    "import pickle\n",
    "import scipy.constants\n",
    "import datetime\n",
    "import tensorflow as tf\n",
    "import numpy as np\n",
    "import tqdm\n",
    "import os\n",
    "import pandas as pd"
   ]
  },
  {
   "cell_type": "code",
   "execution_count": 2,
   "metadata": {},
   "outputs": [],
   "source": [
    "import hchs_data_pre_processing\n",
    "import hchs_transformations\n",
    "import simclr_models\n",
    "import simclr_utitlities"
   ]
  },
  {
   "cell_type": "code",
   "execution_count": 19,
   "metadata": {},
   "outputs": [],
   "source": [
    "working_directory = 'test_run_mesa'\n",
    "dataset_save_path = os.path.join(os.getcwd(), \"PickledData\", \"mesa\")\n",
    "user_datasets_path = os.path.join(dataset_save_path, \"mesaid_to_data_label_dict.pickle\")\n",
    "user_dataset_float_path = os.path.join(dataset_save_path, \"user_dataset_resized.pickle\")\n",
    "path_to_test_train_split_dict = os.path.join(dataset_save_path, \"test_train_split_dict.pickle\")\n",
    "path_to_reduced_test_train_split_dict = os.path.join(dataset_save_path, \"reduced_test_train_split_dict.pickle\")\n",
    "sample_key = 3950\n",
    "path_to_np_train = os.path.join(dataset_save_path, \"np_train.pickle\")\n",
    "path_to_np_test = os.path.join(dataset_save_path, \"np_test.pickle\")\n",
    "path_to_np_val = os.path.join(dataset_save_path, \"np_val.pickle\")\n"
   ]
  },
  {
   "source": [
    "# Load mesa data"
   ],
   "cell_type": "markdown",
   "metadata": {}
  },
  {
   "cell_type": "code",
   "execution_count": 16,
   "metadata": {},
   "outputs": [],
   "source": [
    "with open(user_datasets_path, 'rb') as f:\n",
    "    user_datasets = pickle.load(f)"
   ]
  },
  {
   "cell_type": "code",
   "execution_count": 18,
   "metadata": {},
   "outputs": [
    {
     "output_type": "execute_result",
     "data": {
      "text/plain": [
       "[array([[9.000e+00, 2.652e+01, 2.880e+00, 2.270e+00, 2.720e-01],\n",
       "        [1.450e+02, 1.180e+01, 2.170e+00, 7.850e-01, 1.140e-01],\n",
       "        [1.800e+01, 3.309e+01, 5.060e+00, 2.420e+00, 6.600e-01],\n",
       "        ...,\n",
       "        [0.000e+00, 7.610e+00, 4.190e-01, 7.350e-01, 2.230e-01],\n",
       "        [1.840e+02, 8.230e+00, 4.190e-01, 8.020e-01, 2.600e-01],\n",
       "        [3.930e+02, 9.440e+00, 5.090e-01, 9.130e-01, 2.900e-01]]),\n",
       " array(['ACTIVE', 'ACTIVE', 'ACTIVE', ..., 'ACTIVE', 'ACTIVE', 'ACTIVE'],\n",
       "       dtype='<U6')]"
      ]
     },
     "metadata": {},
     "execution_count": 18
    }
   ],
   "source": [
    "user_datasets[sample_key]"
   ]
  },
  {
   "source": [
    "# Pre Processing"
   ],
   "cell_type": "markdown",
   "metadata": {}
  },
  {
   "cell_type": "code",
   "execution_count": 20,
   "metadata": {},
   "outputs": [
    {
     "output_type": "stream",
     "name": "stdout",
     "text": [
      "Test Numbers: 2, Train Numbers: 8\n"
     ]
    }
   ],
   "source": [
    "# Parameters\n",
    "window_size = 500\n",
    "input_shape = (window_size, 5)\n",
    "\n",
    "# Dataset Metadata \n",
    "transformation_multiple = 1\n",
    "dataset_name = 'mesa.pkl'\n",
    "dataset_name_user_split = 'hchs_user_split.pkl'\n",
    "\n",
    "label_list = [\"ACTIVE\", \"REST\", \"REST-S\"]\n",
    "label_list_full_name = label_list\n",
    "has_null_class = False\n",
    "\n",
    "label_map = dict([(l, i) for i, l in enumerate(label_list)])\n",
    "\n",
    "output_shape = len(label_list)\n",
    "\n",
    "model_save_name = f\"mesa_acc\"\n",
    "\n",
    "sampling_rate = 50.0\n",
    "unit_conversion = scipy.constants.g\n",
    "\n",
    "# a fixed user-split\n",
    "\n",
    "with open(path_to_reduced_test_train_split_dict, 'rb') as f:\n",
    "    test_train_user_dict = pickle.load(f)\n",
    "\n",
    "test_users = test_train_user_dict['test']\n",
    "train_users = test_train_user_dict['train']\n",
    "\n",
    "print(f'Test Numbers: {len(test_users)}, Train Numbers: {len(train_users)}')"
   ]
  },
  {
   "cell_type": "code",
   "execution_count": 21,
   "metadata": {},
   "outputs": [
    {
     "output_type": "stream",
     "name": "stdout",
     "text": [
      "step 1 done\n",
      "step 2 done\n",
      "step 3 done\n",
      "Test\n",
      "(array(['ACTIVE', 'REST', 'REST-S'], dtype='<U6'), array([103175,      2,  54818], dtype=int64))\n",
      "(array([0, 1, 2]), array([103175,      2,  54818], dtype=int64))\n",
      "-----------------\n",
      "Train\n",
      "(array(['ACTIVE', 'REST-S'], dtype='<U6'), array([351, 184], dtype=int64))\n",
      "(array([0, 2]), array([351, 184], dtype=int64))\n",
      "-----------------\n",
      "step 4 done\n",
      "step 5 done\n",
      "(428, 500, 5)\n",
      "(107, 500, 5)\n",
      "(157995, 500, 5)\n",
      "step 6 done\n"
     ]
    }
   ],
   "source": [
    "np_train, np_val, np_test = hchs_data_pre_processing.pre_process_dataset_composite(\n",
    "    user_datasets=user_datasets, \n",
    "    label_map=label_map, \n",
    "    output_shape=output_shape, \n",
    "    train_users=train_users, \n",
    "    test_users=test_users, \n",
    "    window_size=window_size, \n",
    "    shift=window_size//2, \n",
    "    normalise_dataset=True, \n",
    "    verbose=1\n",
    ")"
   ]
  },
  {
   "cell_type": "code",
   "execution_count": 22,
   "metadata": {},
   "outputs": [],
   "source": [
    "batch_size = 512\n",
    "decay_steps = 1000\n",
    "# epochs = 200\n",
    "epochs = 3\n",
    "temperature = 0.1\n",
    "trasnformation_indices = [1, 2] # Use Scaling and rotation trasnformation\n",
    "\n",
    "transform_funcs_vectorised = [\n",
    "    hchs_transformations.noise_transform_vectorized, \n",
    "    hchs_transformations.scaling_transform_vectorized, \n",
    "    # transformations.rotation_transform_vectorized, \n",
    "    hchs_transformations.negate_transform_vectorized, \n",
    "    hchs_transformations.time_flip_transform_vectorized, \n",
    "    hchs_transformations.time_segment_permutation_transform_improved, \n",
    "    hchs_transformations.time_warp_transform_low_cost, \n",
    "    hchs_transformations.channel_shuffle_transform_vectorized\n",
    "]\n",
    "# transform_funcs_names = ['noised', 'scaled', 'rotated', 'negated', 'time_flipped', 'permuted', 'time_warped', 'channel_shuffled']\n",
    "transform_funcs_names = ['noised', 'scaled', 'negated', 'time_flipped', 'permuted', 'time_warped', 'channel_shuffled']\n",
    "\n"
   ]
  },
  {
   "cell_type": "code",
   "execution_count": 23,
   "metadata": {},
   "outputs": [
    {
     "output_type": "stream",
     "name": "stdout",
     "text": [
      "<function scaling_transform_vectorized at 0x00000272A2F81700>\n",
      "<function negate_transform_vectorized at 0x00000272A2F81790>\n",
      "Model: \"base_model_simclr\"\n",
      "_________________________________________________________________\n",
      "Layer (type)                 Output Shape              Param #   \n",
      "=================================================================\n",
      "input (InputLayer)           [(None, 500, 5)]          0         \n",
      "_________________________________________________________________\n",
      "conv1d (Conv1D)              (None, 477, 32)           3872      \n",
      "_________________________________________________________________\n",
      "dropout (Dropout)            (None, 477, 32)           0         \n",
      "_________________________________________________________________\n",
      "conv1d_1 (Conv1D)            (None, 462, 64)           32832     \n",
      "_________________________________________________________________\n",
      "dropout_1 (Dropout)          (None, 462, 64)           0         \n",
      "_________________________________________________________________\n",
      "conv1d_2 (Conv1D)            (None, 455, 96)           49248     \n",
      "_________________________________________________________________\n",
      "dropout_2 (Dropout)          (None, 455, 96)           0         \n",
      "_________________________________________________________________\n",
      "global_max_pooling1d (Global (None, 96)                0         \n",
      "_________________________________________________________________\n",
      "dense (Dense)                (None, 256)               24832     \n",
      "_________________________________________________________________\n",
      "activation (Activation)      (None, 256)               0         \n",
      "_________________________________________________________________\n",
      "dense_1 (Dense)              (None, 128)               32896     \n",
      "_________________________________________________________________\n",
      "activation_1 (Activation)    (None, 128)               0         \n",
      "_________________________________________________________________\n",
      "dense_2 (Dense)              (None, 50)                6450      \n",
      "=================================================================\n",
      "Total params: 150,130\n",
      "Trainable params: 150,130\n",
      "Non-trainable params: 0\n",
      "_________________________________________________________________\n",
      "epoch: 1 loss: 12.121\n",
      "epoch: 2 loss: 11.526\n",
      "epoch: 3 loss: 11.254\n"
     ]
    }
   ],
   "source": [
    "start_time = datetime.datetime.now()\n",
    "start_time_str = start_time.strftime(\"%Y%m%d-%H%M%S\")\n",
    "tf.keras.backend.set_floatx('float32')\n",
    "\n",
    "lr_decayed_fn = tf.keras.experimental.CosineDecay(initial_learning_rate=0.1, decay_steps=decay_steps)\n",
    "optimizer = tf.keras.optimizers.SGD(lr_decayed_fn)\n",
    "transformation_function = simclr_utitlities.generate_combined_transform_function(transform_funcs_vectorised, indices=trasnformation_indices)\n",
    "\n",
    "base_model = simclr_models.create_base_model(input_shape, model_name=\"base_model\")\n",
    "simclr_model = simclr_models.attach_simclr_head(base_model)\n",
    "simclr_model.summary()\n",
    "\n",
    "trained_simclr_model, epoch_losses = simclr_utitlities.simclr_train_model(simclr_model, np_train[0], optimizer, batch_size, transformation_function, temperature=temperature, epochs=epochs, is_trasnform_function_vectorized=True, verbose=1)\n",
    "\n",
    "simclr_model_save_path = f\"{working_directory}{start_time_str}_simclr.hdf5\"\n",
    "trained_simclr_model.save(simclr_model_save_path)\n",
    "\n"
   ]
  },
  {
   "cell_type": "code",
   "execution_count": 24,
   "metadata": {},
   "outputs": [
    {
     "output_type": "stream",
     "name": "stdout",
     "text": [
      "WARNING:tensorflow:No training configuration found in the save file, so the model was *not* compiled. Compile it manually.\n",
      "Epoch 1/5\n",
      "3/3 [==============================] - 1s 285ms/step - loss: 0.9548 - categorical_accuracy: 0.3458 - auc: 0.6494 - precision: 0.6578 - recall: 0.3458 - val_loss: 0.6143 - val_categorical_accuracy: 0.6916 - val_auc: 0.9048 - val_precision: 0.7875 - val_recall: 0.5888\n",
      "Epoch 2/5\n",
      "3/3 [==============================] - 0s 97ms/step - loss: 0.6168 - categorical_accuracy: 0.6682 - auc: 0.8994 - precision: 0.8295 - recall: 0.5911 - val_loss: 0.5630 - val_categorical_accuracy: 0.7850 - val_auc: 0.9294 - val_precision: 0.8451 - val_recall: 0.5607\n",
      "Epoch 3/5\n",
      "3/3 [==============================] - 0s 98ms/step - loss: 0.5380 - categorical_accuracy: 0.8294 - auc: 0.9430 - precision: 0.8628 - recall: 0.5584 - val_loss: 0.5475 - val_categorical_accuracy: 0.7477 - val_auc: 0.9325 - val_precision: 0.8676 - val_recall: 0.5514\n",
      "Epoch 4/5\n",
      "3/3 [==============================] - 0s 102ms/step - loss: 0.5141 - categorical_accuracy: 0.8224 - auc: 0.9480 - precision: 0.8627 - recall: 0.7780 - val_loss: 0.5365 - val_categorical_accuracy: 0.7570 - val_auc: 0.9342 - val_precision: 0.8676 - val_recall: 0.5514\n",
      "Epoch 5/5\n",
      "3/3 [==============================] - 0s 104ms/step - loss: 0.4970 - categorical_accuracy: 0.8201 - auc: 0.9503 - precision: 0.8546 - recall: 0.7967 - val_loss: 0.5309 - val_categorical_accuracy: 0.7757 - val_auc: 0.9354 - val_precision: 0.8933 - val_recall: 0.6262\n",
      "Model with lowest validation Loss:\n",
      "{'Confusion Matrix': array([[90429,     0, 12746],\n",
      "       [    1,     0,     1],\n",
      "       [15963,     0, 38855]], dtype=int64), 'F1 Macro': 0.5310745924015938, 'F1 Micro': 0.8182790594639071, 'F1 Weighted': 0.8169221830287947, 'Precision': 0.5343090751249021, 'Recall': 0.5284207834954192, 'Kappa': 0.5934072303161199}\n",
      "Model in last epoch\n",
      "{'Confusion Matrix': array([[90429,     0, 12746],\n",
      "       [    1,     0,     1],\n",
      "       [15963,     0, 38855]], dtype=int64), 'F1 Macro': 0.5310745924015938, 'F1 Micro': 0.8182790594639071, 'F1 Weighted': 0.8169221830287947, 'Precision': 0.5343090751249021, 'Recall': 0.5284207834954192, 'Kappa': 0.5934072303161199}\n"
     ]
    }
   ],
   "source": [
    "\n",
    "total_epochs = 5\n",
    "batch_size = 200\n",
    "tag = \"linear_eval\"\n",
    "\n",
    "simclr_model = tf.keras.models.load_model(simclr_model_save_path)\n",
    "linear_evaluation_model = simclr_models.create_linear_model_from_base_model(simclr_model, output_shape, intermediate_layer=7)\n",
    "\n",
    "best_model_file_name = f\"{working_directory}{start_time_str}_simclr_{tag}.hdf5\"\n",
    "best_model_callback = tf.keras.callbacks.ModelCheckpoint(best_model_file_name,\n",
    "    monitor='val_loss', mode='min', save_best_only=True, save_weights_only=False, verbose=0\n",
    ")\n",
    "\n",
    "training_history = linear_evaluation_model.fit(\n",
    "    x = np_train[0],\n",
    "    y = np_train[1],\n",
    "    batch_size=batch_size,\n",
    "    shuffle=True,\n",
    "    epochs=total_epochs,\n",
    "    callbacks=[best_model_callback],\n",
    "    validation_data=np_val\n",
    ")\n",
    "\n",
    "best_model = tf.keras.models.load_model(best_model_file_name)\n",
    "\n",
    "print(\"Model with lowest validation Loss:\")\n",
    "print(simclr_utitlities.evaluate_model_simple(best_model.predict(np_test[0]), np_test[1], return_dict=True))\n",
    "print(\"Model in last epoch\")\n",
    "print(simclr_utitlities.evaluate_model_simple(linear_evaluation_model.predict(np_test[0]), np_test[1], return_dict=True))\n"
   ]
  },
  {
   "cell_type": "code",
   "execution_count": null,
   "metadata": {},
   "outputs": [],
   "source": []
  }
 ]
}