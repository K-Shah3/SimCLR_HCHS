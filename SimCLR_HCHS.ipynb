{
 "cells": [
  {
   "cell_type": "code",
   "execution_count": 19,
   "metadata": {},
   "outputs": [],
   "source": [
    "%load_ext autoreload\n",
    "%autoreload 2"
   ]
  },
  {
   "cell_type": "code",
   "execution_count": 30,
   "metadata": {},
   "outputs": [],
   "source": [
    "import os\n",
    "import pickle\n",
    "import scipy\n",
    "import datetime\n",
    "import numpy as np\n",
    "import tensorflow as tf\n",
    "import pandas as pd\n",
    "import tqdm\n",
    "import matplotlib.pyplot as plt\n",
    "from matplotlib.lines import Line2D\n",
    "import random\n",
    "import sklearn.linear_model\n",
    "import scipy.optimize\n",
    "import sklearn.decomposition\n",
    "import sklearn.manifold\n",
    "import sklearn.model_selection\n",
    "# Libraries for plotting\n",
    "import matplotlib as mpl\n",
    "import matplotlib.pyplot as plt\n",
    "import seaborn as sns\n",
    "import sklearn.manifold\n",
    "\n",
    "sns.set_context('poster')"
   ]
  },
  {
   "cell_type": "code",
   "execution_count": 31,
   "metadata": {},
   "outputs": [],
   "source": [
    "import hchs_data_pre_processing\n",
    "import hchs_transformations\n",
    "import simclr_models\n",
    "import simclr_utitlities"
   ]
  },
  {
   "cell_type": "code",
   "execution_count": 32,
   "metadata": {},
   "outputs": [],
   "source": [
    "working_directory = 'test_run_hchs'\n",
    "dataset_save_path = os.path.join(os.getcwd(), \"PickledData\", \"hchs\")\n",
    "user_datasets_path = os.path.join(dataset_save_path, \"pid_to_data_label_dict.pickle\")\n",
    "user_dataset_resized_path = os.path.join(dataset_save_path, \"user_dataset_resized.pickle\")\n",
    "path_to_test_train_split_dict = os.path.join(dataset_save_path, \"test_train_split_dict.pickle\")\n",
    "path_to_reduced_test_train_split_dict = os.path.join(dataset_save_path, \"reduced_test_train_split_dict.pickle\")\n",
    "sample_key = 163225\n",
    "path_to_np_train = os.path.join(dataset_save_path, \"np_train.pickle\")\n",
    "path_to_np_test = os.path.join(dataset_save_path, \"np_test.pickle\")\n",
    "path_to_np_val = os.path.join(dataset_save_path, \"np_val.pickle\")\n",
    "path_to_baseline_sueno_merge_no_na = os.path.join(dataset_save_path, \"baseline_sueno_merge_no_na.pickle\")"
   ]
  },
  {
   "cell_type": "markdown",
   "metadata": {},
   "source": [
    "# Load hchs data from pickle path"
   ]
  },
  {
   "cell_type": "code",
   "execution_count": 33,
   "metadata": {},
   "outputs": [],
   "source": [
    "# with open(user_datasets_path, 'rb') as f:\n",
    "#     user_datasets = pickle.load(f)"
   ]
  },
  {
   "cell_type": "code",
   "execution_count": 34,
   "metadata": {
    "tags": []
   },
   "outputs": [],
   "source": [
    "# user_datasets_resized = {}\n",
    "\n",
    "# for user, user_data_labels in user_datasets.items():\n",
    "#     user_data = user_data_labels[0]\n",
    "#     user_labels = user_data_labels[1]\n",
    "#     print(user_data.shape, user_labels.shape, user)\n",
    "#     new_data = np.array(user_data.values.tolist())[:, :-1].astype(np.float64)\n",
    "#     new_labels = np.array([label[0] for label in user_labels.values.tolist()])\n",
    "#     user_datasets_resized[user] = [new_data, new_labels]"
   ]
  },
  {
   "cell_type": "code",
   "execution_count": 35,
   "metadata": {},
   "outputs": [],
   "source": [
    "# with open(user_dataset_resized_path, 'wb') as f:\n",
    "#     pickle.dump(user_datasets_resized, f)"
   ]
  },
  {
   "cell_type": "code",
   "execution_count": 36,
   "metadata": {},
   "outputs": [],
   "source": [
    "with open(user_dataset_resized_path, 'rb') as f:\n",
    "    user_datasets = pickle.load(f)"
   ]
  },
  {
   "cell_type": "code",
   "execution_count": 37,
   "metadata": {},
   "outputs": [
    {
     "output_type": "execute_result",
     "data": {
      "text/plain": [
       "1886"
      ]
     },
     "metadata": {},
     "execution_count": 37
    }
   ],
   "source": [
    "len(user_datasets.keys())"
   ]
  },
  {
   "cell_type": "markdown",
   "metadata": {},
   "source": [
    "# Pre Processing"
   ]
  },
  {
   "cell_type": "code",
   "execution_count": 38,
   "metadata": {},
   "outputs": [
    {
     "output_type": "stream",
     "name": "stdout",
     "text": [
      "10\nTest Numbers: 2, Train Numbers: 8\n"
     ]
    }
   ],
   "source": [
    "# Parameters\n",
    "window_size = 500\n",
    "input_shape = (window_size, 5)\n",
    "\n",
    "# Dataset Metadata \n",
    "transformation_multiple = 1\n",
    "dataset_name = 'hchs.pkl'\n",
    "dataset_name_user_split = 'hchs_user_split.pkl'\n",
    "\n",
    "label_list = [\"ACTIVE\", \"REST\", \"REST-S\"]\n",
    "label_list_full_name = label_list\n",
    "has_null_class = False\n",
    "\n",
    "label_map = dict([(l, i) for i, l in enumerate(label_list)])\n",
    "\n",
    "output_shape = len(label_list)\n",
    "\n",
    "model_save_name = f\"hchs_acc\"\n",
    "\n",
    "sampling_rate = 50.0\n",
    "unit_conversion = scipy.constants.g\n",
    "\n",
    "# a fixed user-split\n",
    "\n",
    "with open(path_to_reduced_test_train_split_dict, 'rb') as f:\n",
    "    test_train_user_dict = pickle.load(f)\n",
    "\n",
    "test_users = test_train_user_dict['test']\n",
    "train_users = test_train_user_dict['train']\n",
    "\n",
    "reduced_user_datasets = {}\n",
    "for user, data in user_datasets.items():\n",
    "    if user in test_users or user in train_users:\n",
    "        reduced_user_datasets[user] = data\n",
    "\n",
    "print(len(reduced_user_datasets.keys()))\n",
    "    \n",
    "\n",
    "print(f'Test Numbers: {len(test_users)}, Train Numbers: {len(train_users)}')"
   ]
  },
  {
   "cell_type": "code",
   "execution_count": 39,
   "metadata": {},
   "outputs": [
    {
     "output_type": "stream",
     "name": "stdout",
     "text": [
      "step 1 done\nstep 2 done\nstep 3 done\nTest\n(array(['ACTIVE', 'REST-S'], dtype='<U6'), array([101,  58], dtype=int64))\n(array([0, 2]), array([101,  58], dtype=int64))\n-----------------\nTrain\n(array(['ACTIVE', 'REST-S'], dtype='<U6'), array([424, 211], dtype=int64))\n(array([0, 2]), array([424, 211], dtype=int64))\n-----------------\nstep 4 done\nstep 5 done\n(508, 500, 5)\n(127, 500, 5)\n(159, 500, 5)\nstep 6 done\n"
     ]
    }
   ],
   "source": [
    "np_train, np_val, np_test = hchs_data_pre_processing.pre_process_dataset_composite(\n",
    "    # user_datasets=user_datasets,\n",
    "    user_datasets=reduced_user_datasets, \n",
    "    label_map=label_map, \n",
    "    output_shape=output_shape, \n",
    "    train_users=train_users, \n",
    "    test_users=test_users, \n",
    "    window_size=window_size, \n",
    "    shift=window_size//2, \n",
    "    normalise_dataset=True, \n",
    "    verbose=1\n",
    ")"
   ]
  },
  {
   "cell_type": "code",
   "execution_count": 40,
   "metadata": {},
   "outputs": [],
   "source": [
    "# with open(path_to_np_train, 'wb') as f:\n",
    "#     pickle.dump(np_train, f)\n",
    "# with open(path_to_np_test, 'wb') as f:\n",
    "#     pickle.dump(np_test, f)\n",
    "# with open(path_to_np_val, 'wb') as f:\n",
    "#     pickle.dump(np_val, f)"
   ]
  },
  {
   "source": [
    "## SimCLR Training"
   ],
   "cell_type": "markdown",
   "metadata": {}
  },
  {
   "cell_type": "code",
   "execution_count": 41,
   "metadata": {},
   "outputs": [],
   "source": [
    "batch_size = 512\n",
    "decay_steps = 1000\n",
    "# epochs = 200\n",
    "epochs = 3\n",
    "temperature = 0.1\n",
    "trasnformation_indices = [1, 2] # Use Scaling and rotation trasnformation\n",
    "\n",
    "transform_funcs_vectorised = [\n",
    "    hchs_transformations.noise_transform_vectorized, \n",
    "    hchs_transformations.scaling_transform_vectorized, \n",
    "    # transformations.rotation_transform_vectorized, \n",
    "    hchs_transformations.negate_transform_vectorized, \n",
    "    hchs_transformations.time_flip_transform_vectorized, \n",
    "    hchs_transformations.time_segment_permutation_transform_improved, \n",
    "    hchs_transformations.time_warp_transform_low_cost, \n",
    "    hchs_transformations.channel_shuffle_transform_vectorized\n",
    "]\n",
    "# transform_funcs_names = ['noised', 'scaled', 'rotated', 'negated', 'time_flipped', 'permuted', 'time_warped', 'channel_shuffled']\n",
    "transform_funcs_names = ['noised', 'scaled', 'negated', 'time_flipped', 'permuted', 'time_warped', 'channel_shuffled']\n",
    "\n"
   ]
  },
  {
   "cell_type": "code",
   "execution_count": 42,
   "metadata": {},
   "outputs": [
    {
     "output_type": "stream",
     "name": "stdout",
     "text": [
      "<function scaling_transform_vectorized at 0x000002445903BAF0>\n",
      "<function negate_transform_vectorized at 0x000002445903BB80>\n",
      "Model: \"base_model_simclr\"\n",
      "_________________________________________________________________\n",
      "Layer (type)                 Output Shape              Param #   \n",
      "=================================================================\n",
      "input (InputLayer)           [(None, 500, 5)]          0         \n",
      "_________________________________________________________________\n",
      "conv1d (Conv1D)              (None, 477, 32)           3872      \n",
      "_________________________________________________________________\n",
      "dropout (Dropout)            (None, 477, 32)           0         \n",
      "_________________________________________________________________\n",
      "conv1d_1 (Conv1D)            (None, 462, 64)           32832     \n",
      "_________________________________________________________________\n",
      "dropout_1 (Dropout)          (None, 462, 64)           0         \n",
      "_________________________________________________________________\n",
      "conv1d_2 (Conv1D)            (None, 455, 96)           49248     \n",
      "_________________________________________________________________\n",
      "dropout_2 (Dropout)          (None, 455, 96)           0         \n",
      "_________________________________________________________________\n",
      "global_max_pooling1d (Global (None, 96)                0         \n",
      "_________________________________________________________________\n",
      "dense (Dense)                (None, 256)               24832     \n",
      "_________________________________________________________________\n",
      "activation (Activation)      (None, 256)               0         \n",
      "_________________________________________________________________\n",
      "dense_1 (Dense)              (None, 128)               32896     \n",
      "_________________________________________________________________\n",
      "activation_1 (Activation)    (None, 128)               0         \n",
      "_________________________________________________________________\n",
      "dense_2 (Dense)              (None, 50)                6450      \n",
      "=================================================================\n",
      "Total params: 150,130\n",
      "Trainable params: 150,130\n",
      "Non-trainable params: 0\n",
      "_________________________________________________________________\n",
      "epoch: 1 loss: 13.077\n",
      "epoch: 2 loss: 12.414\n",
      "epoch: 3 loss: 12.018\n"
     ]
    }
   ],
   "source": [
    "start_time = datetime.datetime.now()\n",
    "start_time_str = start_time.strftime(\"%Y%m%d-%H%M%S\")\n",
    "tf.keras.backend.set_floatx('float32')\n",
    "\n",
    "lr_decayed_fn = tf.keras.experimental.CosineDecay(initial_learning_rate=0.1, decay_steps=decay_steps)\n",
    "optimizer = tf.keras.optimizers.SGD(lr_decayed_fn)\n",
    "transformation_function = simclr_utitlities.generate_combined_transform_function(transform_funcs_vectorised, indices=trasnformation_indices)\n",
    "\n",
    "base_model = simclr_models.create_base_model(input_shape, model_name=\"base_model\")\n",
    "simclr_model = simclr_models.attach_simclr_head(base_model)\n",
    "simclr_model.summary()\n",
    "\n",
    "trained_simclr_model, epoch_losses = simclr_utitlities.simclr_train_model(simclr_model, np_train[0], optimizer, batch_size, transformation_function, temperature=temperature, epochs=epochs, is_trasnform_function_vectorized=True, verbose=1)\n",
    "\n",
    "simclr_model_save_path = f\"{working_directory}{start_time_str}_simclr.hdf5\"\n",
    "trained_simclr_model.save(simclr_model_save_path)\n",
    "\n"
   ]
  },
  {
   "source": [
    "## Linear Model"
   ],
   "cell_type": "markdown",
   "metadata": {}
  },
  {
   "cell_type": "code",
   "execution_count": null,
   "metadata": {},
   "outputs": [],
   "source": []
  },
  {
   "cell_type": "code",
   "execution_count": 43,
   "metadata": {},
   "outputs": [
    {
     "output_type": "stream",
     "name": "stdout",
     "text": [
      "WARNING:tensorflow:No training configuration found in the save file, so the model was *not* compiled. Compile it manually.\n",
      "Epoch 1/3\n",
      "3/3 [==============================] - 1s 320ms/step - loss: 1.0815 - categorical_accuracy: 0.7165 - auc: 0.8118 - precision: 0.7577 - recall: 0.3878 - val_loss: 0.6948 - val_categorical_accuracy: 0.6693 - val_auc: 0.8999 - val_precision: 0.8500 - val_recall: 0.6693\n",
      "Epoch 2/3\n",
      "3/3 [==============================] - 0s 129ms/step - loss: 0.6109 - categorical_accuracy: 0.6713 - auc: 0.9081 - precision: 0.8240 - recall: 0.6634 - val_loss: 0.5755 - val_categorical_accuracy: 0.8425 - val_auc: 0.9284 - val_precision: 0.8586 - val_recall: 0.6693\n",
      "Epoch 3/3\n",
      "3/3 [==============================] - 0s 125ms/step - loss: 0.5322 - categorical_accuracy: 0.8130 - auc: 0.9317 - precision: 0.8380 - recall: 0.6516 - val_loss: 0.5699 - val_categorical_accuracy: 0.8504 - val_auc: 0.9285 - val_precision: 0.8586 - val_recall: 0.6693\n",
      "Model with lowest validation Loss:\n",
      "{'Confusion Matrix': array([[99,  2],\n",
      "       [25, 33]], dtype=int64), 'F1 Macro': 0.7948387096774194, 'F1 Micro': 0.8301886792452831, 'F1 Weighted': 0.817869750456482, 'Precision': 0.8706221198156682, 'Recall': 0.7745817685216798, 'Kappa': 0.5997949100400857}\n",
      "Model in last epoch\n",
      "{'Confusion Matrix': array([[99,  2],\n",
      "       [25, 33]], dtype=int64), 'F1 Macro': 0.7948387096774194, 'F1 Micro': 0.8301886792452831, 'F1 Weighted': 0.817869750456482, 'Precision': 0.8706221198156682, 'Recall': 0.7745817685216798, 'Kappa': 0.5997949100400857}\n"
     ]
    }
   ],
   "source": [
    "total_epochs = 3\n",
    "# total_epochs = 50\n",
    "batch_size = 200\n",
    "tag = \"linear_eval\"\n",
    "\n",
    "simclr_model = tf.keras.models.load_model(simclr_model_save_path)\n",
    "linear_evaluation_model = simclr_models.create_linear_model_from_base_model(simclr_model, output_shape, intermediate_layer=7)\n",
    "\n",
    "best_model_file_name = f\"{working_directory}{start_time_str}_simclr_{tag}.hdf5\"\n",
    "best_model_callback = tf.keras.callbacks.ModelCheckpoint(best_model_file_name,\n",
    "    monitor='val_loss', mode='min', save_best_only=True, save_weights_only=False, verbose=0\n",
    ")\n",
    "\n",
    "training_history = linear_evaluation_model.fit(\n",
    "    x = np_train[0],\n",
    "    y = np_train[1],\n",
    "    batch_size=batch_size,\n",
    "    shuffle=True,\n",
    "    epochs=total_epochs,\n",
    "    callbacks=[best_model_callback],\n",
    "    validation_data=np_val\n",
    ")\n",
    "\n",
    "best_model = tf.keras.models.load_model(best_model_file_name)\n",
    "\n",
    "print(\"Model with lowest validation Loss:\")\n",
    "print(simclr_utitlities.evaluate_model_simple(best_model.predict(np_test[0]), np_test[1], return_dict=True))\n",
    "print(\"Model in last epoch\")\n",
    "print(simclr_utitlities.evaluate_model_simple(linear_evaluation_model.predict(np_test[0]), np_test[1], return_dict=True))\n"
   ]
  },
  {
   "source": [
    "# Window-Level to User-Level Embeddings"
   ],
   "cell_type": "markdown",
   "metadata": {}
  },
  {
   "cell_type": "code",
   "execution_count": 44,
   "metadata": {},
   "outputs": [
    {
     "output_type": "stream",
     "name": "stdout",
     "text": [
      "Model: \"base_model_simclr_layer_7\"\n_________________________________________________________________\nLayer (type)                 Output Shape              Param #   \n=================================================================\ninput (InputLayer)           [(None, 500, 5)]          0         \n_________________________________________________________________\nconv1d (Conv1D)              (None, 477, 32)           3872      \n_________________________________________________________________\ndropout (Dropout)            (None, 477, 32)           0         \n_________________________________________________________________\nconv1d_1 (Conv1D)            (None, 462, 64)           32832     \n_________________________________________________________________\ndropout_1 (Dropout)          (None, 462, 64)           0         \n_________________________________________________________________\nconv1d_2 (Conv1D)            (None, 455, 96)           49248     \n_________________________________________________________________\ndropout_2 (Dropout)          (None, 455, 96)           0         \n_________________________________________________________________\nglobal_max_pooling1d (Global (None, 96)                0         \n=================================================================\nTotal params: 85,952\nTrainable params: 0\nNon-trainable params: 85,952\n_________________________________________________________________\n"
     ]
    }
   ],
   "source": [
    "target_model = simclr_model \n",
    "intermediate_model = simclr_models.extract_intermediate_model_from_base_model(target_model, intermediate_layer=7)\n",
    "intermediate_model.summary()\n",
    "\n",
    "embeddings = intermediate_model.predict(np_test[0], batch_size=batch_size)"
   ]
  },
  {
   "cell_type": "code",
   "execution_count": 45,
   "metadata": {},
   "outputs": [],
   "source": [
    "user_datasets_windowed = hchs_data_pre_processing.get_windows_dataset_from_user_list_format(user_datasets, window_size, shift=window_size//2)\n",
    "train_x, train_y, test_x, test_y = hchs_data_pre_processing.combine_windowed_dataset(user_datasets_windowed, train_users, test_users)"
   ]
  },
  {
   "cell_type": "code",
   "execution_count": 46,
   "metadata": {},
   "outputs": [
    {
     "output_type": "stream",
     "name": "stdout",
     "text": [
      "159\n"
     ]
    }
   ],
   "source": [
    "total_length = 0\n",
    "\n",
    "for user in user_datasets_windowed.keys():\n",
    "    if user in test_users:\n",
    "        total_length += user_datasets_windowed[user][0].shape[0]\n",
    "\n",
    "print(total_length)"
   ]
  },
  {
   "cell_type": "code",
   "execution_count": 47,
   "metadata": {
    "tags": []
   },
   "outputs": [],
   "source": [
    "test_user_window_list = []\n",
    "for user in user_datasets_windowed.keys():\n",
    "    if user in test_users:\n",
    "        user_to_add = [user] * user_datasets_windowed[user][0].shape[0]\n",
    "        test_user_window_list += user_to_add"
   ]
  },
  {
   "cell_type": "code",
   "execution_count": 48,
   "metadata": {},
   "outputs": [],
   "source": [
    "embeddings_dataframe = pd.DataFrame(embeddings)\n",
    "# embeddings_dataframe['user'] = test_user_window_list\n",
    "embeddings_dataframe.index = test_user_window_list\n",
    "user_level_activations = embeddings_dataframe.groupby(embeddings_dataframe.index).mean()\n",
    "user_level_activations_x = user_level_activations.shape[0]\n",
    "user_level_activations_y = user_level_activations.shape[1]"
   ]
  },
  {
   "cell_type": "code",
   "execution_count": 49,
   "metadata": {},
   "outputs": [
    {
     "output_type": "execute_result",
     "data": {
      "text/plain": [
       "                0         1         2         3         4         5   \\\n",
       "13151529  3.240394  0.233922  0.815657  0.409711  0.187438  0.245699   \n",
       "82056021  4.710656  0.198849  1.168390  0.506425  0.209499  0.310902   \n",
       "\n",
       "                6         7         8         9   ...        86        87  \\\n",
       "13151529  0.019450  0.950534  0.001092  0.025740  ...  1.967225  6.858905   \n",
       "82056021  0.013729  1.257404  0.002649  0.026706  ...  2.705784  9.959938   \n",
       "\n",
       "                88        89        90        91        92        93  \\\n",
       "13151529  0.205626  2.316396  0.042064  0.117874  0.001366  1.598977   \n",
       "82056021  0.231816  3.394259  0.040237  0.136909  0.003830  2.098455   \n",
       "\n",
       "                94        95  \n",
       "13151529  0.087515  0.021122  \n",
       "82056021  0.098415  0.022066  \n",
       "\n",
       "[2 rows x 96 columns]"
      ],
      "text/html": "<div>\n<style scoped>\n    .dataframe tbody tr th:only-of-type {\n        vertical-align: middle;\n    }\n\n    .dataframe tbody tr th {\n        vertical-align: top;\n    }\n\n    .dataframe thead th {\n        text-align: right;\n    }\n</style>\n<table border=\"1\" class=\"dataframe\">\n  <thead>\n    <tr style=\"text-align: right;\">\n      <th></th>\n      <th>0</th>\n      <th>1</th>\n      <th>2</th>\n      <th>3</th>\n      <th>4</th>\n      <th>5</th>\n      <th>6</th>\n      <th>7</th>\n      <th>8</th>\n      <th>9</th>\n      <th>...</th>\n      <th>86</th>\n      <th>87</th>\n      <th>88</th>\n      <th>89</th>\n      <th>90</th>\n      <th>91</th>\n      <th>92</th>\n      <th>93</th>\n      <th>94</th>\n      <th>95</th>\n    </tr>\n  </thead>\n  <tbody>\n    <tr>\n      <th>13151529</th>\n      <td>3.240394</td>\n      <td>0.233922</td>\n      <td>0.815657</td>\n      <td>0.409711</td>\n      <td>0.187438</td>\n      <td>0.245699</td>\n      <td>0.019450</td>\n      <td>0.950534</td>\n      <td>0.001092</td>\n      <td>0.025740</td>\n      <td>...</td>\n      <td>1.967225</td>\n      <td>6.858905</td>\n      <td>0.205626</td>\n      <td>2.316396</td>\n      <td>0.042064</td>\n      <td>0.117874</td>\n      <td>0.001366</td>\n      <td>1.598977</td>\n      <td>0.087515</td>\n      <td>0.021122</td>\n    </tr>\n    <tr>\n      <th>82056021</th>\n      <td>4.710656</td>\n      <td>0.198849</td>\n      <td>1.168390</td>\n      <td>0.506425</td>\n      <td>0.209499</td>\n      <td>0.310902</td>\n      <td>0.013729</td>\n      <td>1.257404</td>\n      <td>0.002649</td>\n      <td>0.026706</td>\n      <td>...</td>\n      <td>2.705784</td>\n      <td>9.959938</td>\n      <td>0.231816</td>\n      <td>3.394259</td>\n      <td>0.040237</td>\n      <td>0.136909</td>\n      <td>0.003830</td>\n      <td>2.098455</td>\n      <td>0.098415</td>\n      <td>0.022066</td>\n    </tr>\n  </tbody>\n</table>\n<p>2 rows × 96 columns</p>\n</div>"
     },
     "metadata": {},
     "execution_count": 49
    }
   ],
   "source": [
    "user_level_activations"
   ]
  },
  {
   "source": [
    "# tSNE with user level activations"
   ],
   "cell_type": "markdown",
   "metadata": {}
  },
  {
   "cell_type": "code",
   "execution_count": 50,
   "metadata": {},
   "outputs": [
    {
     "output_type": "execute_result",
     "data": {
      "text/plain": [
       "(1, 10)"
      ]
     },
     "metadata": {},
     "execution_count": 50
    }
   ],
   "source": [
    "disease_labels = {'diabetes': {1: 'Non-diabetic', 2: 'Pre-diabetic', 3: 'Diabetic'}, 'sleep_apnea': {0: 'No', 1: 'Yes'}, 'hypertension': {0: 'No', 1: 'Yes'}, 'metabolic_syndrome': {0: 'No', 1: 'Yes'}, 'insomnia': {1: 'No clinically significant insomnia', 2: 'Subthreshold insomnia', 3: 'Clinical insomnia'}, 'gender': {0: 'female', 1: 'male'}}\n",
    "\n",
    "baseline_sueno_merged_no_na = pd.read_pickle(path_to_baseline_sueno_merge_no_na)\n",
    "test_baseline_sueno_merged_no_na_mask = baseline_sueno_merged_no_na.index.isin(test_users)\n",
    "test_baseline_sueno_merged_no_na = baseline_sueno_merged_no_na[test_baseline_sueno_merged_no_na_mask]\n",
    "test_baseline_sueno_merged_no_na.shape"
   ]
  },
  {
   "cell_type": "code",
   "execution_count": 51,
   "metadata": {},
   "outputs": [
    {
     "output_type": "execute_result",
     "data": {
      "text/plain": [
       "(1, 96)"
      ]
     },
     "metadata": {},
     "execution_count": 51
    }
   ],
   "source": [
    "user_level_activation_no_na_mask = user_level_activations.index.isin(test_baseline_sueno_merged_no_na.index)\n",
    "user_level_activation_no_na = user_level_activations[user_level_activation_no_na_mask]\n",
    "user_level_activation_no_na.shape"
   ]
  },
  {
   "cell_type": "code",
   "execution_count": 52,
   "metadata": {},
   "outputs": [
    {
     "output_type": "stream",
     "name": "stdout",
     "text": [
      "(2, 96)\nFalse\nTrue\n"
     ]
    }
   ],
   "source": [
    "X = user_level_activations.values\n",
    "print(X.shape)\n",
    "for k in range(user_level_activations_y):\n",
    "    std = np.std(X[:,k])\n",
    "    if std==0.0:\n",
    "        continue\n",
    "    else:\n",
    "        X[:,k] = (X[:,k] / np.std(X[:,k]))\n",
    "print(np.any(np.isnan(X)))\n",
    "print(np.all(np.isfinite(X)))"
   ]
  },
  {
   "cell_type": "code",
   "execution_count": 53,
   "metadata": {},
   "outputs": [
    {
     "output_type": "stream",
     "name": "stdout",
     "text": [
      "[t-SNE] Computing 1 nearest neighbors...\n[t-SNE] Indexed 2 samples in 0.000s...\n[t-SNE] Computed neighbors for 2 samples in 0.199s...\n[t-SNE] Computed conditional probabilities for sample 2 / 2\n[t-SNE] Mean sigma: 1125899906842624.000000\n[t-SNE] KL divergence after 250 iterations with early exaggeration: 29.818880\n[t-SNE] KL divergence after 300 iterations: 0.000000\n"
     ]
    }
   ],
   "source": [
    "tsne = sklearn.manifold.TSNE(n_components=2, verbose=1, perplexity=50)\n",
    "tsne_results = tsne.fit_transform(X)"
   ]
  },
  {
   "cell_type": "code",
   "execution_count": 54,
   "metadata": {},
   "outputs": [
    {
     "output_type": "execute_result",
     "data": {
      "text/plain": [
       "(2,)"
      ]
     },
     "metadata": {},
     "execution_count": 54
    },
    {
     "output_type": "display_data",
     "data": {
      "text/plain": "<Figure size 864x720 with 1 Axes>",
      "image/svg+xml": "<?xml version=\"1.0\" encoding=\"utf-8\" standalone=\"no\"?>\r\n<!DOCTYPE svg PUBLIC \"-//W3C//DTD SVG 1.1//EN\"\r\n  \"http://www.w3.org/Graphics/SVG/1.1/DTD/svg11.dtd\">\r\n<!-- Created with matplotlib (https://matplotlib.org/) -->\r\n<svg height=\"594.791875pt\" version=\"1.1\" viewBox=\"0 0 769.663743 594.791875\" width=\"769.663743pt\" xmlns=\"http://www.w3.org/2000/svg\" xmlns:xlink=\"http://www.w3.org/1999/xlink\">\r\n <defs>\r\n  <style type=\"text/css\">\r\n*{stroke-linecap:butt;stroke-linejoin:round;}\r\n  </style>\r\n </defs>\r\n <g id=\"figure_1\">\r\n  <g id=\"patch_1\">\r\n   <path d=\"M 0 594.791875 \r\nL 769.663743 594.791875 \r\nL 769.663743 0 \r\nL 0 0 \r\nz\r\n\" style=\"fill:none;\"/>\r\n  </g>\r\n  <g id=\"axes_1\">\r\n   <g id=\"patch_2\">\r\n    <path d=\"M 69.130313 550.8 \r\nL 738.730313 550.8 \r\nL 738.730313 7.2 \r\nL 69.130313 7.2 \r\nz\r\n\" style=\"fill:#ffffff;\"/>\r\n   </g>\r\n   <g id=\"PathCollection_1\">\r\n    <defs>\r\n     <path d=\"M 0 6 \r\nC 1.591219 6 3.117479 5.367802 4.242641 4.242641 \r\nC 5.367802 3.117479 6 1.591219 6 0 \r\nC 6 -1.591219 5.367802 -3.117479 4.242641 -4.242641 \r\nC 3.117479 -5.367802 1.591219 -6 0 -6 \r\nC -1.591219 -6 -3.117479 -5.367802 -4.242641 -4.242641 \r\nC -5.367802 -3.117479 -6 -1.591219 -6 0 \r\nC -6 1.591219 -5.367802 3.117479 -4.242641 4.242641 \r\nC -3.117479 5.367802 -1.591219 6 0 6 \r\nz\r\n\" id=\"m2a7ef00dce\" style=\"stroke:#1f77b4;stroke-opacity:0.4;stroke-width:2;\"/>\r\n    </defs>\r\n    <g clip-path=\"url(#p226a804127)\">\r\n     <use style=\"fill:#1f77b4;fill-opacity:0.4;stroke:#1f77b4;stroke-opacity:0.4;stroke-width:2;\" x=\"99.566676\" xlink:href=\"#m2a7ef00dce\" y=\"31.909091\"/>\r\n     <use style=\"fill:#1f77b4;fill-opacity:0.4;stroke:#1f77b4;stroke-opacity:0.4;stroke-width:2;\" x=\"708.293949\" xlink:href=\"#m2a7ef00dce\" y=\"526.090909\"/>\r\n    </g>\r\n   </g>\r\n   <g id=\"matplotlib.axis_1\">\r\n    <g id=\"xtick_1\">\r\n     <g id=\"line2d_1\">\r\n      <defs>\r\n       <path d=\"M 0 0 \r\nL 0 12 \r\n\" id=\"mb9aa97d1ad\" style=\"stroke:#000000;stroke-width:2.5;\"/>\r\n      </defs>\r\n      <g>\r\n       <use style=\"stroke:#000000;stroke-width:2.5;\" x=\"73.391882\" xlink:href=\"#mb9aa97d1ad\" y=\"550.8\"/>\r\n      </g>\r\n     </g>\r\n     <g id=\"text_1\">\r\n      <!-- −1000 -->\r\n      <defs>\r\n       <path d=\"M 10.59375 35.5 \r\nL 73.1875 35.5 \r\nL 73.1875 27.203125 \r\nL 10.59375 27.203125 \r\nz\r\n\" id=\"DejaVuSans-8722\"/>\r\n       <path d=\"M 12.40625 8.296875 \r\nL 28.515625 8.296875 \r\nL 28.515625 63.921875 \r\nL 10.984375 60.40625 \r\nL 10.984375 69.390625 \r\nL 28.421875 72.90625 \r\nL 38.28125 72.90625 \r\nL 38.28125 8.296875 \r\nL 54.390625 8.296875 \r\nL 54.390625 0 \r\nL 12.40625 0 \r\nz\r\n\" id=\"DejaVuSans-49\"/>\r\n       <path d=\"M 31.78125 66.40625 \r\nQ 24.171875 66.40625 20.328125 58.90625 \r\nQ 16.5 51.421875 16.5 36.375 \r\nQ 16.5 21.390625 20.328125 13.890625 \r\nQ 24.171875 6.390625 31.78125 6.390625 \r\nQ 39.453125 6.390625 43.28125 13.890625 \r\nQ 47.125 21.390625 47.125 36.375 \r\nQ 47.125 51.421875 43.28125 58.90625 \r\nQ 39.453125 66.40625 31.78125 66.40625 \r\nz\r\nM 31.78125 74.21875 \r\nQ 44.046875 74.21875 50.515625 64.515625 \r\nQ 56.984375 54.828125 56.984375 36.375 \r\nQ 56.984375 17.96875 50.515625 8.265625 \r\nQ 44.046875 -1.421875 31.78125 -1.421875 \r\nQ 19.53125 -1.421875 13.0625 8.265625 \r\nQ 6.59375 17.96875 6.59375 36.375 \r\nQ 6.59375 54.828125 13.0625 64.515625 \r\nQ 19.53125 74.21875 31.78125 74.21875 \r\nz\r\n\" id=\"DejaVuSans-48\"/>\r\n      </defs>\r\n      <g transform=\"translate(36.179225 583.016563)scale(0.22 -0.22)\">\r\n       <use xlink:href=\"#DejaVuSans-8722\"/>\r\n       <use x=\"83.789062\" xlink:href=\"#DejaVuSans-49\"/>\r\n       <use x=\"147.412109\" xlink:href=\"#DejaVuSans-48\"/>\r\n       <use x=\"211.035156\" xlink:href=\"#DejaVuSans-48\"/>\r\n       <use x=\"274.658203\" xlink:href=\"#DejaVuSans-48\"/>\r\n      </g>\r\n     </g>\r\n    </g>\r\n    <g id=\"xtick_2\">\r\n     <g id=\"line2d_2\">\r\n      <g>\r\n       <use style=\"stroke:#000000;stroke-width:2.5;\" x=\"156.026489\" xlink:href=\"#mb9aa97d1ad\" y=\"550.8\"/>\r\n      </g>\r\n     </g>\r\n     <g id=\"text_2\">\r\n      <!-- −750 -->\r\n      <defs>\r\n       <path d=\"M 8.203125 72.90625 \r\nL 55.078125 72.90625 \r\nL 55.078125 68.703125 \r\nL 28.609375 0 \r\nL 18.3125 0 \r\nL 43.21875 64.59375 \r\nL 8.203125 64.59375 \r\nz\r\n\" id=\"DejaVuSans-55\"/>\r\n       <path d=\"M 10.796875 72.90625 \r\nL 49.515625 72.90625 \r\nL 49.515625 64.59375 \r\nL 19.828125 64.59375 \r\nL 19.828125 46.734375 \r\nQ 21.96875 47.46875 24.109375 47.828125 \r\nQ 26.265625 48.1875 28.421875 48.1875 \r\nQ 40.625 48.1875 47.75 41.5 \r\nQ 54.890625 34.8125 54.890625 23.390625 \r\nQ 54.890625 11.625 47.5625 5.09375 \r\nQ 40.234375 -1.421875 26.90625 -1.421875 \r\nQ 22.3125 -1.421875 17.546875 -0.640625 \r\nQ 12.796875 0.140625 7.71875 1.703125 \r\nL 7.71875 11.625 \r\nQ 12.109375 9.234375 16.796875 8.0625 \r\nQ 21.484375 6.890625 26.703125 6.890625 \r\nQ 35.15625 6.890625 40.078125 11.328125 \r\nQ 45.015625 15.765625 45.015625 23.390625 \r\nQ 45.015625 31 40.078125 35.4375 \r\nQ 35.15625 39.890625 26.703125 39.890625 \r\nQ 22.75 39.890625 18.8125 39.015625 \r\nQ 14.890625 38.140625 10.796875 36.28125 \r\nz\r\n\" id=\"DejaVuSans-53\"/>\r\n      </defs>\r\n      <g transform=\"translate(125.812583 583.016563)scale(0.22 -0.22)\">\r\n       <use xlink:href=\"#DejaVuSans-8722\"/>\r\n       <use x=\"83.789062\" xlink:href=\"#DejaVuSans-55\"/>\r\n       <use x=\"147.412109\" xlink:href=\"#DejaVuSans-53\"/>\r\n       <use x=\"211.035156\" xlink:href=\"#DejaVuSans-48\"/>\r\n      </g>\r\n     </g>\r\n    </g>\r\n    <g id=\"xtick_3\">\r\n     <g id=\"line2d_3\">\r\n      <g>\r\n       <use style=\"stroke:#000000;stroke-width:2.5;\" x=\"238.661097\" xlink:href=\"#mb9aa97d1ad\" y=\"550.8\"/>\r\n      </g>\r\n     </g>\r\n     <g id=\"text_3\">\r\n      <!-- −500 -->\r\n      <g transform=\"translate(208.447191 583.016563)scale(0.22 -0.22)\">\r\n       <use xlink:href=\"#DejaVuSans-8722\"/>\r\n       <use x=\"83.789062\" xlink:href=\"#DejaVuSans-53\"/>\r\n       <use x=\"147.412109\" xlink:href=\"#DejaVuSans-48\"/>\r\n       <use x=\"211.035156\" xlink:href=\"#DejaVuSans-48\"/>\r\n      </g>\r\n     </g>\r\n    </g>\r\n    <g id=\"xtick_4\">\r\n     <g id=\"line2d_4\">\r\n      <g>\r\n       <use style=\"stroke:#000000;stroke-width:2.5;\" x=\"321.295705\" xlink:href=\"#mb9aa97d1ad\" y=\"550.8\"/>\r\n      </g>\r\n     </g>\r\n     <g id=\"text_4\">\r\n      <!-- −250 -->\r\n      <defs>\r\n       <path d=\"M 19.1875 8.296875 \r\nL 53.609375 8.296875 \r\nL 53.609375 0 \r\nL 7.328125 0 \r\nL 7.328125 8.296875 \r\nQ 12.9375 14.109375 22.625 23.890625 \r\nQ 32.328125 33.6875 34.8125 36.53125 \r\nQ 39.546875 41.84375 41.421875 45.53125 \r\nQ 43.3125 49.21875 43.3125 52.78125 \r\nQ 43.3125 58.59375 39.234375 62.25 \r\nQ 35.15625 65.921875 28.609375 65.921875 \r\nQ 23.96875 65.921875 18.8125 64.3125 \r\nQ 13.671875 62.703125 7.8125 59.421875 \r\nL 7.8125 69.390625 \r\nQ 13.765625 71.78125 18.9375 73 \r\nQ 24.125 74.21875 28.421875 74.21875 \r\nQ 39.75 74.21875 46.484375 68.546875 \r\nQ 53.21875 62.890625 53.21875 53.421875 \r\nQ 53.21875 48.921875 51.53125 44.890625 \r\nQ 49.859375 40.875 45.40625 35.40625 \r\nQ 44.1875 33.984375 37.640625 27.21875 \r\nQ 31.109375 20.453125 19.1875 8.296875 \r\nz\r\n\" id=\"DejaVuSans-50\"/>\r\n      </defs>\r\n      <g transform=\"translate(291.081799 583.016563)scale(0.22 -0.22)\">\r\n       <use xlink:href=\"#DejaVuSans-8722\"/>\r\n       <use x=\"83.789062\" xlink:href=\"#DejaVuSans-50\"/>\r\n       <use x=\"147.412109\" xlink:href=\"#DejaVuSans-53\"/>\r\n       <use x=\"211.035156\" xlink:href=\"#DejaVuSans-48\"/>\r\n      </g>\r\n     </g>\r\n    </g>\r\n    <g id=\"xtick_5\">\r\n     <g id=\"line2d_5\">\r\n      <g>\r\n       <use style=\"stroke:#000000;stroke-width:2.5;\" x=\"403.930313\" xlink:href=\"#mb9aa97d1ad\" y=\"550.8\"/>\r\n      </g>\r\n     </g>\r\n     <g id=\"text_5\">\r\n      <!-- 0 -->\r\n      <g transform=\"translate(396.931563 583.016563)scale(0.22 -0.22)\">\r\n       <use xlink:href=\"#DejaVuSans-48\"/>\r\n      </g>\r\n     </g>\r\n    </g>\r\n    <g id=\"xtick_6\">\r\n     <g id=\"line2d_6\">\r\n      <g>\r\n       <use style=\"stroke:#000000;stroke-width:2.5;\" x=\"486.56492\" xlink:href=\"#mb9aa97d1ad\" y=\"550.8\"/>\r\n      </g>\r\n     </g>\r\n     <g id=\"text_6\">\r\n      <!-- 250 -->\r\n      <g transform=\"translate(465.56867 583.016563)scale(0.22 -0.22)\">\r\n       <use xlink:href=\"#DejaVuSans-50\"/>\r\n       <use x=\"63.623047\" xlink:href=\"#DejaVuSans-53\"/>\r\n       <use x=\"127.246094\" xlink:href=\"#DejaVuSans-48\"/>\r\n      </g>\r\n     </g>\r\n    </g>\r\n    <g id=\"xtick_7\">\r\n     <g id=\"line2d_7\">\r\n      <g>\r\n       <use style=\"stroke:#000000;stroke-width:2.5;\" x=\"569.199528\" xlink:href=\"#mb9aa97d1ad\" y=\"550.8\"/>\r\n      </g>\r\n     </g>\r\n     <g id=\"text_7\">\r\n      <!-- 500 -->\r\n      <g transform=\"translate(548.203278 583.016563)scale(0.22 -0.22)\">\r\n       <use xlink:href=\"#DejaVuSans-53\"/>\r\n       <use x=\"63.623047\" xlink:href=\"#DejaVuSans-48\"/>\r\n       <use x=\"127.246094\" xlink:href=\"#DejaVuSans-48\"/>\r\n      </g>\r\n     </g>\r\n    </g>\r\n    <g id=\"xtick_8\">\r\n     <g id=\"line2d_8\">\r\n      <g>\r\n       <use style=\"stroke:#000000;stroke-width:2.5;\" x=\"651.834136\" xlink:href=\"#mb9aa97d1ad\" y=\"550.8\"/>\r\n      </g>\r\n     </g>\r\n     <g id=\"text_8\">\r\n      <!-- 750 -->\r\n      <g transform=\"translate(630.837886 583.016563)scale(0.22 -0.22)\">\r\n       <use xlink:href=\"#DejaVuSans-55\"/>\r\n       <use x=\"63.623047\" xlink:href=\"#DejaVuSans-53\"/>\r\n       <use x=\"127.246094\" xlink:href=\"#DejaVuSans-48\"/>\r\n      </g>\r\n     </g>\r\n    </g>\r\n    <g id=\"xtick_9\">\r\n     <g id=\"line2d_9\">\r\n      <g>\r\n       <use style=\"stroke:#000000;stroke-width:2.5;\" x=\"734.468743\" xlink:href=\"#mb9aa97d1ad\" y=\"550.8\"/>\r\n      </g>\r\n     </g>\r\n     <g id=\"text_9\">\r\n      <!-- 1000 -->\r\n      <g transform=\"translate(706.473743 583.016563)scale(0.22 -0.22)\">\r\n       <use xlink:href=\"#DejaVuSans-49\"/>\r\n       <use x=\"63.623047\" xlink:href=\"#DejaVuSans-48\"/>\r\n       <use x=\"127.246094\" xlink:href=\"#DejaVuSans-48\"/>\r\n       <use x=\"190.869141\" xlink:href=\"#DejaVuSans-48\"/>\r\n      </g>\r\n     </g>\r\n    </g>\r\n   </g>\r\n   <g id=\"matplotlib.axis_2\">\r\n    <g id=\"ytick_1\">\r\n     <g id=\"line2d_10\">\r\n      <defs>\r\n       <path d=\"M 0 0 \r\nL -12 0 \r\n\" id=\"mc86a527983\" style=\"stroke:#000000;stroke-width:2.5;\"/>\r\n      </defs>\r\n      <g>\r\n       <use style=\"stroke:#000000;stroke-width:2.5;\" x=\"69.130313\" xlink:href=\"#mc86a527983\" y=\"522.146609\"/>\r\n      </g>\r\n     </g>\r\n     <g id=\"text_10\">\r\n      <!-- −80 -->\r\n      <defs>\r\n       <path d=\"M 31.78125 34.625 \r\nQ 24.75 34.625 20.71875 30.859375 \r\nQ 16.703125 27.09375 16.703125 20.515625 \r\nQ 16.703125 13.921875 20.71875 10.15625 \r\nQ 24.75 6.390625 31.78125 6.390625 \r\nQ 38.8125 6.390625 42.859375 10.171875 \r\nQ 46.921875 13.96875 46.921875 20.515625 \r\nQ 46.921875 27.09375 42.890625 30.859375 \r\nQ 38.875 34.625 31.78125 34.625 \r\nz\r\nM 21.921875 38.8125 \r\nQ 15.578125 40.375 12.03125 44.71875 \r\nQ 8.5 49.078125 8.5 55.328125 \r\nQ 8.5 64.0625 14.71875 69.140625 \r\nQ 20.953125 74.21875 31.78125 74.21875 \r\nQ 42.671875 74.21875 48.875 69.140625 \r\nQ 55.078125 64.0625 55.078125 55.328125 \r\nQ 55.078125 49.078125 51.53125 44.71875 \r\nQ 48 40.375 41.703125 38.8125 \r\nQ 48.828125 37.15625 52.796875 32.3125 \r\nQ 56.78125 27.484375 56.78125 20.515625 \r\nQ 56.78125 9.90625 50.3125 4.234375 \r\nQ 43.84375 -1.421875 31.78125 -1.421875 \r\nQ 19.734375 -1.421875 13.25 4.234375 \r\nQ 6.78125 9.90625 6.78125 20.515625 \r\nQ 6.78125 27.484375 10.78125 32.3125 \r\nQ 14.796875 37.15625 21.921875 38.8125 \r\nz\r\nM 18.3125 54.390625 \r\nQ 18.3125 48.734375 21.84375 45.5625 \r\nQ 25.390625 42.390625 31.78125 42.390625 \r\nQ 38.140625 42.390625 41.71875 45.5625 \r\nQ 45.3125 48.734375 45.3125 54.390625 \r\nQ 45.3125 60.0625 41.71875 63.234375 \r\nQ 38.140625 66.40625 31.78125 66.40625 \r\nQ 25.390625 66.40625 21.84375 63.234375 \r\nQ 18.3125 60.0625 18.3125 54.390625 \r\nz\r\n\" id=\"DejaVuSans-56\"/>\r\n      </defs>\r\n      <g transform=\"translate(7.2 530.50489)scale(0.22 -0.22)\">\r\n       <use xlink:href=\"#DejaVuSans-8722\"/>\r\n       <use x=\"83.789062\" xlink:href=\"#DejaVuSans-56\"/>\r\n       <use x=\"147.412109\" xlink:href=\"#DejaVuSans-48\"/>\r\n      </g>\r\n     </g>\r\n    </g>\r\n    <g id=\"ytick_2\">\r\n     <g id=\"line2d_11\">\r\n      <g>\r\n       <use style=\"stroke:#000000;stroke-width:2.5;\" x=\"69.130313\" xlink:href=\"#mc86a527983\" y=\"461.359974\"/>\r\n      </g>\r\n     </g>\r\n     <g id=\"text_11\">\r\n      <!-- −60 -->\r\n      <defs>\r\n       <path d=\"M 33.015625 40.375 \r\nQ 26.375 40.375 22.484375 35.828125 \r\nQ 18.609375 31.296875 18.609375 23.390625 \r\nQ 18.609375 15.53125 22.484375 10.953125 \r\nQ 26.375 6.390625 33.015625 6.390625 \r\nQ 39.65625 6.390625 43.53125 10.953125 \r\nQ 47.40625 15.53125 47.40625 23.390625 \r\nQ 47.40625 31.296875 43.53125 35.828125 \r\nQ 39.65625 40.375 33.015625 40.375 \r\nz\r\nM 52.59375 71.296875 \r\nL 52.59375 62.3125 \r\nQ 48.875 64.0625 45.09375 64.984375 \r\nQ 41.3125 65.921875 37.59375 65.921875 \r\nQ 27.828125 65.921875 22.671875 59.328125 \r\nQ 17.53125 52.734375 16.796875 39.40625 \r\nQ 19.671875 43.65625 24.015625 45.921875 \r\nQ 28.375 48.1875 33.59375 48.1875 \r\nQ 44.578125 48.1875 50.953125 41.515625 \r\nQ 57.328125 34.859375 57.328125 23.390625 \r\nQ 57.328125 12.15625 50.6875 5.359375 \r\nQ 44.046875 -1.421875 33.015625 -1.421875 \r\nQ 20.359375 -1.421875 13.671875 8.265625 \r\nQ 6.984375 17.96875 6.984375 36.375 \r\nQ 6.984375 53.65625 15.1875 63.9375 \r\nQ 23.390625 74.21875 37.203125 74.21875 \r\nQ 40.921875 74.21875 44.703125 73.484375 \r\nQ 48.484375 72.75 52.59375 71.296875 \r\nz\r\n\" id=\"DejaVuSans-54\"/>\r\n      </defs>\r\n      <g transform=\"translate(7.2 469.718255)scale(0.22 -0.22)\">\r\n       <use xlink:href=\"#DejaVuSans-8722\"/>\r\n       <use x=\"83.789062\" xlink:href=\"#DejaVuSans-54\"/>\r\n       <use x=\"147.412109\" xlink:href=\"#DejaVuSans-48\"/>\r\n      </g>\r\n     </g>\r\n    </g>\r\n    <g id=\"ytick_3\">\r\n     <g id=\"line2d_12\">\r\n      <g>\r\n       <use style=\"stroke:#000000;stroke-width:2.5;\" x=\"69.130313\" xlink:href=\"#mc86a527983\" y=\"400.573339\"/>\r\n      </g>\r\n     </g>\r\n     <g id=\"text_12\">\r\n      <!-- −40 -->\r\n      <defs>\r\n       <path d=\"M 37.796875 64.3125 \r\nL 12.890625 25.390625 \r\nL 37.796875 25.390625 \r\nz\r\nM 35.203125 72.90625 \r\nL 47.609375 72.90625 \r\nL 47.609375 25.390625 \r\nL 58.015625 25.390625 \r\nL 58.015625 17.1875 \r\nL 47.609375 17.1875 \r\nL 47.609375 0 \r\nL 37.796875 0 \r\nL 37.796875 17.1875 \r\nL 4.890625 17.1875 \r\nL 4.890625 26.703125 \r\nz\r\n\" id=\"DejaVuSans-52\"/>\r\n      </defs>\r\n      <g transform=\"translate(7.2 408.931621)scale(0.22 -0.22)\">\r\n       <use xlink:href=\"#DejaVuSans-8722\"/>\r\n       <use x=\"83.789062\" xlink:href=\"#DejaVuSans-52\"/>\r\n       <use x=\"147.412109\" xlink:href=\"#DejaVuSans-48\"/>\r\n      </g>\r\n     </g>\r\n    </g>\r\n    <g id=\"ytick_4\">\r\n     <g id=\"line2d_13\">\r\n      <g>\r\n       <use style=\"stroke:#000000;stroke-width:2.5;\" x=\"69.130313\" xlink:href=\"#mc86a527983\" y=\"339.786704\"/>\r\n      </g>\r\n     </g>\r\n     <g id=\"text_13\">\r\n      <!-- −20 -->\r\n      <g transform=\"translate(7.2 348.144986)scale(0.22 -0.22)\">\r\n       <use xlink:href=\"#DejaVuSans-8722\"/>\r\n       <use x=\"83.789062\" xlink:href=\"#DejaVuSans-50\"/>\r\n       <use x=\"147.412109\" xlink:href=\"#DejaVuSans-48\"/>\r\n      </g>\r\n     </g>\r\n    </g>\r\n    <g id=\"ytick_5\">\r\n     <g id=\"line2d_14\">\r\n      <g>\r\n       <use style=\"stroke:#000000;stroke-width:2.5;\" x=\"69.130313\" xlink:href=\"#mc86a527983\" y=\"279.00007\"/>\r\n      </g>\r\n     </g>\r\n     <g id=\"text_14\">\r\n      <!-- 0 -->\r\n      <g transform=\"translate(39.632812 287.358351)scale(0.22 -0.22)\">\r\n       <use xlink:href=\"#DejaVuSans-48\"/>\r\n      </g>\r\n     </g>\r\n    </g>\r\n    <g id=\"ytick_6\">\r\n     <g id=\"line2d_15\">\r\n      <g>\r\n       <use style=\"stroke:#000000;stroke-width:2.5;\" x=\"69.130313\" xlink:href=\"#mc86a527983\" y=\"218.213435\"/>\r\n      </g>\r\n     </g>\r\n     <g id=\"text_15\">\r\n      <!-- 20 -->\r\n      <g transform=\"translate(25.635313 226.571716)scale(0.22 -0.22)\">\r\n       <use xlink:href=\"#DejaVuSans-50\"/>\r\n       <use x=\"63.623047\" xlink:href=\"#DejaVuSans-48\"/>\r\n      </g>\r\n     </g>\r\n    </g>\r\n    <g id=\"ytick_7\">\r\n     <g id=\"line2d_16\">\r\n      <g>\r\n       <use style=\"stroke:#000000;stroke-width:2.5;\" x=\"69.130313\" xlink:href=\"#mc86a527983\" y=\"157.4268\"/>\r\n      </g>\r\n     </g>\r\n     <g id=\"text_16\">\r\n      <!-- 40 -->\r\n      <g transform=\"translate(25.635313 165.785081)scale(0.22 -0.22)\">\r\n       <use xlink:href=\"#DejaVuSans-52\"/>\r\n       <use x=\"63.623047\" xlink:href=\"#DejaVuSans-48\"/>\r\n      </g>\r\n     </g>\r\n    </g>\r\n    <g id=\"ytick_8\">\r\n     <g id=\"line2d_17\">\r\n      <g>\r\n       <use style=\"stroke:#000000;stroke-width:2.5;\" x=\"69.130313\" xlink:href=\"#mc86a527983\" y=\"96.640165\"/>\r\n      </g>\r\n     </g>\r\n     <g id=\"text_17\">\r\n      <!-- 60 -->\r\n      <g transform=\"translate(25.635313 104.998446)scale(0.22 -0.22)\">\r\n       <use xlink:href=\"#DejaVuSans-54\"/>\r\n       <use x=\"63.623047\" xlink:href=\"#DejaVuSans-48\"/>\r\n      </g>\r\n     </g>\r\n    </g>\r\n    <g id=\"ytick_9\">\r\n     <g id=\"line2d_18\">\r\n      <g>\r\n       <use style=\"stroke:#000000;stroke-width:2.5;\" x=\"69.130313\" xlink:href=\"#mc86a527983\" y=\"35.85353\"/>\r\n      </g>\r\n     </g>\r\n     <g id=\"text_18\">\r\n      <!-- 80 -->\r\n      <g transform=\"translate(25.635313 44.211811)scale(0.22 -0.22)\">\r\n       <use xlink:href=\"#DejaVuSans-56\"/>\r\n       <use x=\"63.623047\" xlink:href=\"#DejaVuSans-48\"/>\r\n      </g>\r\n     </g>\r\n    </g>\r\n   </g>\r\n   <g id=\"patch_3\">\r\n    <path d=\"M 69.130313 550.8 \r\nL 69.130313 7.2 \r\n\" style=\"fill:none;stroke:#000000;stroke-linecap:square;stroke-linejoin:miter;stroke-width:2.5;\"/>\r\n   </g>\r\n   <g id=\"patch_4\">\r\n    <path d=\"M 738.730313 550.8 \r\nL 738.730313 7.2 \r\n\" style=\"fill:none;stroke:#000000;stroke-linecap:square;stroke-linejoin:miter;stroke-width:2.5;\"/>\r\n   </g>\r\n   <g id=\"patch_5\">\r\n    <path d=\"M 69.130313 550.8 \r\nL 738.730313 550.8 \r\n\" style=\"fill:none;stroke:#000000;stroke-linecap:square;stroke-linejoin:miter;stroke-width:2.5;\"/>\r\n   </g>\r\n   <g id=\"patch_6\">\r\n    <path d=\"M 69.130313 7.2 \r\nL 738.730313 7.2 \r\n\" style=\"fill:none;stroke:#000000;stroke-linecap:square;stroke-linejoin:miter;stroke-width:2.5;\"/>\r\n   </g>\r\n  </g>\r\n </g>\r\n <defs>\r\n  <clipPath id=\"p226a804127\">\r\n   <rect height=\"543.6\" width=\"669.6\" x=\"69.130313\" y=\"7.2\"/>\r\n  </clipPath>\r\n </defs>\r\n</svg>\r\n",
      "image/png": "[encoded data removed]"
     },
     "metadata": {
      "needs_background": "light"
     }
    }
   ],
   "source": [
    "p1,p2 = tsne_results[:,0], tsne_results[:,1]\n",
    "fig,ax = plt.subplots(figsize=(12,10))\n",
    "ax.scatter(p1, p2, alpha=.4)\n",
    "\n",
    "p1.shape"
   ]
  },
  {
   "cell_type": "code",
   "execution_count": 55,
   "metadata": {},
   "outputs": [],
   "source": [
    "def plot_tsne_color_coded_by_condition(disease, perplexity,disease_labels):\n",
    "    labels_full_name = disease_labels[disease]\n",
    "    distinct_condition_values = np.unique(test_baseline_sueno_merged_no_na[disease])\n",
    "    distinct_colors = sns.color_palette(\"hsv\", len(distinct_condition_values))\n",
    "    color_dict = {condition:color for condition, color in zip(distinct_condition_values, distinct_colors)}\n",
    "    cvec = [color_dict[c] for c in test_baseline_sueno_merged_no_na[disease]]\n",
    "    print(len(cvec))\n",
    "    \n",
    "    X = user_level_activation_no_na.values\n",
    "    print(X.shape)\n",
    "    for k in range(user_level_activations_y):\n",
    "        std = np.std(X[:,k])\n",
    "        if std==0.0:\n",
    "            continue\n",
    "        else:\n",
    "            X[:,k] = (X[:,k] / np.std(X[:,k]))\n",
    "\n",
    "    tsne = sklearn.manifold.TSNE(n_components=2, verbose=1, perplexity=perplexity)\n",
    "    tsne_results = tsne.fit_transform(X)\n",
    "\n",
    "    p1,p2 = tsne_results[:,0], tsne_results[:,1]\n",
    "\n",
    "    fig,ax = plt.subplots(figsize=(12,10))\n",
    "    ax.scatter(p1, p2, alpha=.4,c=cvec)\n",
    "    # Force the plot to have equal aspect ratio, i.e. one unit on the x-axis = one unit on the y-axis\n",
    "    ax.set_aspect('equal')\n",
    "\n",
    "    markers = [plt.Line2D([0,0],[0,0],color=color, alpha=.5, marker='o', linestyle='', ms=10) for color in color_dict.values()]\n",
    "    ax.legend(markers, labels_full_name.values(), numpoints=1, fontsize=10)\n",
    "\n",
    "\n",
    "    plt.title(\"tSNE colour coded by \" + disease + \" at perplexity:\" + str(perplexity), fontsize=15)\n",
    "    plt.show()\n",
    "    "
   ]
  },
  {
   "cell_type": "code",
   "execution_count": 56,
   "metadata": {},
   "outputs": [
    {
     "output_type": "stream",
     "name": "stdout",
     "text": [
      "1\n(1, 96)\n"
     ]
    },
    {
     "output_type": "error",
     "ename": "ValueError",
     "evalue": "Found array with 1 sample(s) (shape=(1, 96)) while a minimum of 2 is required.",
     "traceback": [
      "\u001b[1;31m---------------------------------------------------------------------------\u001b[0m",
      "\u001b[1;31mValueError\u001b[0m                                Traceback (most recent call last)",
      "\u001b[1;32m<ipython-input-56-2628c2898873>\u001b[0m in \u001b[0;36m<module>\u001b[1;34m\u001b[0m\n\u001b[1;32m----> 1\u001b[1;33m \u001b[0mplot_tsne_color_coded_by_condition\u001b[0m\u001b[1;33m(\u001b[0m\u001b[1;34m'hypertension'\u001b[0m\u001b[1;33m,\u001b[0m \u001b[1;36m30\u001b[0m\u001b[1;33m,\u001b[0m \u001b[0mdisease_labels\u001b[0m\u001b[1;33m)\u001b[0m\u001b[1;33m\u001b[0m\u001b[1;33m\u001b[0m\u001b[0m\n\u001b[0m",
      "\u001b[1;32m<ipython-input-55-641136c55100>\u001b[0m in \u001b[0;36mplot_tsne_color_coded_by_condition\u001b[1;34m(disease, perplexity, disease_labels)\u001b[0m\n\u001b[0;32m     17\u001b[0m \u001b[1;33m\u001b[0m\u001b[0m\n\u001b[0;32m     18\u001b[0m     \u001b[0mtsne\u001b[0m \u001b[1;33m=\u001b[0m \u001b[0msklearn\u001b[0m\u001b[1;33m.\u001b[0m\u001b[0mmanifold\u001b[0m\u001b[1;33m.\u001b[0m\u001b[0mTSNE\u001b[0m\u001b[1;33m(\u001b[0m\u001b[0mn_components\u001b[0m\u001b[1;33m=\u001b[0m\u001b[1;36m2\u001b[0m\u001b[1;33m,\u001b[0m \u001b[0mverbose\u001b[0m\u001b[1;33m=\u001b[0m\u001b[1;36m1\u001b[0m\u001b[1;33m,\u001b[0m \u001b[0mperplexity\u001b[0m\u001b[1;33m=\u001b[0m\u001b[0mperplexity\u001b[0m\u001b[1;33m)\u001b[0m\u001b[1;33m\u001b[0m\u001b[1;33m\u001b[0m\u001b[0m\n\u001b[1;32m---> 19\u001b[1;33m     \u001b[0mtsne_results\u001b[0m \u001b[1;33m=\u001b[0m \u001b[0mtsne\u001b[0m\u001b[1;33m.\u001b[0m\u001b[0mfit_transform\u001b[0m\u001b[1;33m(\u001b[0m\u001b[0mX\u001b[0m\u001b[1;33m)\u001b[0m\u001b[1;33m\u001b[0m\u001b[1;33m\u001b[0m\u001b[0m\n\u001b[0m\u001b[0;32m     20\u001b[0m \u001b[1;33m\u001b[0m\u001b[0m\n\u001b[0;32m     21\u001b[0m     \u001b[0mp1\u001b[0m\u001b[1;33m,\u001b[0m\u001b[0mp2\u001b[0m \u001b[1;33m=\u001b[0m \u001b[0mtsne_results\u001b[0m\u001b[1;33m[\u001b[0m\u001b[1;33m:\u001b[0m\u001b[1;33m,\u001b[0m\u001b[1;36m0\u001b[0m\u001b[1;33m]\u001b[0m\u001b[1;33m,\u001b[0m \u001b[0mtsne_results\u001b[0m\u001b[1;33m[\u001b[0m\u001b[1;33m:\u001b[0m\u001b[1;33m,\u001b[0m\u001b[1;36m1\u001b[0m\u001b[1;33m]\u001b[0m\u001b[1;33m\u001b[0m\u001b[1;33m\u001b[0m\u001b[0m\n",
      "\u001b[1;32m~\\anaconda3\\envs\\tf2\\lib\\site-packages\\sklearn\\manifold\\_t_sne.py\u001b[0m in \u001b[0;36mfit_transform\u001b[1;34m(self, X, y)\u001b[0m\n\u001b[0;32m    889\u001b[0m             \u001b[0mEmbedding\u001b[0m \u001b[0mof\u001b[0m \u001b[0mthe\u001b[0m \u001b[0mtraining\u001b[0m \u001b[0mdata\u001b[0m \u001b[1;32min\u001b[0m \u001b[0mlow\u001b[0m\u001b[1;33m-\u001b[0m\u001b[0mdimensional\u001b[0m \u001b[0mspace\u001b[0m\u001b[1;33m.\u001b[0m\u001b[1;33m\u001b[0m\u001b[1;33m\u001b[0m\u001b[0m\n\u001b[0;32m    890\u001b[0m         \"\"\"\n\u001b[1;32m--> 891\u001b[1;33m         \u001b[0membedding\u001b[0m \u001b[1;33m=\u001b[0m \u001b[0mself\u001b[0m\u001b[1;33m.\u001b[0m\u001b[0m_fit\u001b[0m\u001b[1;33m(\u001b[0m\u001b[0mX\u001b[0m\u001b[1;33m)\u001b[0m\u001b[1;33m\u001b[0m\u001b[1;33m\u001b[0m\u001b[0m\n\u001b[0m\u001b[0;32m    892\u001b[0m         \u001b[0mself\u001b[0m\u001b[1;33m.\u001b[0m\u001b[0membedding_\u001b[0m \u001b[1;33m=\u001b[0m \u001b[0membedding\u001b[0m\u001b[1;33m\u001b[0m\u001b[1;33m\u001b[0m\u001b[0m\n\u001b[0;32m    893\u001b[0m         \u001b[1;32mreturn\u001b[0m \u001b[0mself\u001b[0m\u001b[1;33m.\u001b[0m\u001b[0membedding_\u001b[0m\u001b[1;33m\u001b[0m\u001b[1;33m\u001b[0m\u001b[0m\n",
      "\u001b[1;32m~\\anaconda3\\envs\\tf2\\lib\\site-packages\\sklearn\\manifold\\_t_sne.py\u001b[0m in \u001b[0;36m_fit\u001b[1;34m(self, X, skip_num_points)\u001b[0m\n\u001b[0;32m    667\u001b[0m             \u001b[1;32mraise\u001b[0m \u001b[0mValueError\u001b[0m\u001b[1;33m(\u001b[0m\u001b[1;34m\"'angle' must be between 0.0 - 1.0\"\u001b[0m\u001b[1;33m)\u001b[0m\u001b[1;33m\u001b[0m\u001b[1;33m\u001b[0m\u001b[0m\n\u001b[0;32m    668\u001b[0m         \u001b[1;32mif\u001b[0m \u001b[0mself\u001b[0m\u001b[1;33m.\u001b[0m\u001b[0mmethod\u001b[0m \u001b[1;33m==\u001b[0m \u001b[1;34m'barnes_hut'\u001b[0m\u001b[1;33m:\u001b[0m\u001b[1;33m\u001b[0m\u001b[1;33m\u001b[0m\u001b[0m\n\u001b[1;32m--> 669\u001b[1;33m             X = self._validate_data(X, accept_sparse=['csr'],\n\u001b[0m\u001b[0;32m    670\u001b[0m                                     \u001b[0mensure_min_samples\u001b[0m\u001b[1;33m=\u001b[0m\u001b[1;36m2\u001b[0m\u001b[1;33m,\u001b[0m\u001b[1;33m\u001b[0m\u001b[1;33m\u001b[0m\u001b[0m\n\u001b[0;32m    671\u001b[0m                                     dtype=[np.float32, np.float64])\n",
      "\u001b[1;32m~\\anaconda3\\envs\\tf2\\lib\\site-packages\\sklearn\\base.py\u001b[0m in \u001b[0;36m_validate_data\u001b[1;34m(self, X, y, reset, validate_separately, **check_params)\u001b[0m\n\u001b[0;32m    418\u001b[0m                     \u001b[1;34mf\"requires y to be passed, but the target y is None.\"\u001b[0m\u001b[1;33m\u001b[0m\u001b[1;33m\u001b[0m\u001b[0m\n\u001b[0;32m    419\u001b[0m                 )\n\u001b[1;32m--> 420\u001b[1;33m             \u001b[0mX\u001b[0m \u001b[1;33m=\u001b[0m \u001b[0mcheck_array\u001b[0m\u001b[1;33m(\u001b[0m\u001b[0mX\u001b[0m\u001b[1;33m,\u001b[0m \u001b[1;33m**\u001b[0m\u001b[0mcheck_params\u001b[0m\u001b[1;33m)\u001b[0m\u001b[1;33m\u001b[0m\u001b[1;33m\u001b[0m\u001b[0m\n\u001b[0m\u001b[0;32m    421\u001b[0m             \u001b[0mout\u001b[0m \u001b[1;33m=\u001b[0m \u001b[0mX\u001b[0m\u001b[1;33m\u001b[0m\u001b[1;33m\u001b[0m\u001b[0m\n\u001b[0;32m    422\u001b[0m         \u001b[1;32melse\u001b[0m\u001b[1;33m:\u001b[0m\u001b[1;33m\u001b[0m\u001b[1;33m\u001b[0m\u001b[0m\n",
      "\u001b[1;32m~\\anaconda3\\envs\\tf2\\lib\\site-packages\\sklearn\\utils\\validation.py\u001b[0m in \u001b[0;36minner_f\u001b[1;34m(*args, **kwargs)\u001b[0m\n\u001b[0;32m     71\u001b[0m                           FutureWarning)\n\u001b[0;32m     72\u001b[0m         \u001b[0mkwargs\u001b[0m\u001b[1;33m.\u001b[0m\u001b[0mupdate\u001b[0m\u001b[1;33m(\u001b[0m\u001b[1;33m{\u001b[0m\u001b[0mk\u001b[0m\u001b[1;33m:\u001b[0m \u001b[0marg\u001b[0m \u001b[1;32mfor\u001b[0m \u001b[0mk\u001b[0m\u001b[1;33m,\u001b[0m \u001b[0marg\u001b[0m \u001b[1;32min\u001b[0m \u001b[0mzip\u001b[0m\u001b[1;33m(\u001b[0m\u001b[0msig\u001b[0m\u001b[1;33m.\u001b[0m\u001b[0mparameters\u001b[0m\u001b[1;33m,\u001b[0m \u001b[0margs\u001b[0m\u001b[1;33m)\u001b[0m\u001b[1;33m}\u001b[0m\u001b[1;33m)\u001b[0m\u001b[1;33m\u001b[0m\u001b[1;33m\u001b[0m\u001b[0m\n\u001b[1;32m---> 73\u001b[1;33m         \u001b[1;32mreturn\u001b[0m \u001b[0mf\u001b[0m\u001b[1;33m(\u001b[0m\u001b[1;33m**\u001b[0m\u001b[0mkwargs\u001b[0m\u001b[1;33m)\u001b[0m\u001b[1;33m\u001b[0m\u001b[1;33m\u001b[0m\u001b[0m\n\u001b[0m\u001b[0;32m     74\u001b[0m     \u001b[1;32mreturn\u001b[0m \u001b[0minner_f\u001b[0m\u001b[1;33m\u001b[0m\u001b[1;33m\u001b[0m\u001b[0m\n\u001b[0;32m     75\u001b[0m \u001b[1;33m\u001b[0m\u001b[0m\n",
      "\u001b[1;32m~\\anaconda3\\envs\\tf2\\lib\\site-packages\\sklearn\\utils\\validation.py\u001b[0m in \u001b[0;36mcheck_array\u001b[1;34m(array, accept_sparse, accept_large_sparse, dtype, order, copy, force_all_finite, ensure_2d, allow_nd, ensure_min_samples, ensure_min_features, estimator)\u001b[0m\n\u001b[0;32m    649\u001b[0m         \u001b[0mn_samples\u001b[0m \u001b[1;33m=\u001b[0m \u001b[0m_num_samples\u001b[0m\u001b[1;33m(\u001b[0m\u001b[0marray\u001b[0m\u001b[1;33m)\u001b[0m\u001b[1;33m\u001b[0m\u001b[1;33m\u001b[0m\u001b[0m\n\u001b[0;32m    650\u001b[0m         \u001b[1;32mif\u001b[0m \u001b[0mn_samples\u001b[0m \u001b[1;33m<\u001b[0m \u001b[0mensure_min_samples\u001b[0m\u001b[1;33m:\u001b[0m\u001b[1;33m\u001b[0m\u001b[1;33m\u001b[0m\u001b[0m\n\u001b[1;32m--> 651\u001b[1;33m             raise ValueError(\"Found array with %d sample(s) (shape=%s) while a\"\n\u001b[0m\u001b[0;32m    652\u001b[0m                              \u001b[1;34m\" minimum of %d is required%s.\"\u001b[0m\u001b[1;33m\u001b[0m\u001b[1;33m\u001b[0m\u001b[0m\n\u001b[0;32m    653\u001b[0m                              % (n_samples, array.shape, ensure_min_samples,\n",
      "\u001b[1;31mValueError\u001b[0m: Found array with 1 sample(s) (shape=(1, 96)) while a minimum of 2 is required."
     ]
    }
   ],
   "source": [
    "plot_tsne_color_coded_by_condition('hypertension', 30, disease_labels)"
   ]
  },
  {
   "source": [
    "# Classification using embeddings\n",
    "### using the user level embeddings, we can train a neural net to perform downstream tasks, such as predicting the various diseases "
   ],
   "cell_type": "markdown",
   "metadata": {}
  },
  {
   "cell_type": "code",
   "execution_count": 57,
   "metadata": {},
   "outputs": [
    {
     "output_type": "stream",
     "name": "stdout",
     "text": [
      "159\n635\n"
     ]
    }
   ],
   "source": [
    "user_datasets_windowed = hchs_data_pre_processing.get_windows_dataset_from_user_list_format(user_datasets, window_size, shift=window_size//2)\n",
    "train_x, train_y, test_x, test_y = hchs_data_pre_processing.combine_windowed_dataset(user_datasets_windowed, train_users, test_users)\n",
    "\n",
    "test_user_window_list = []\n",
    "train_user_window_list = []\n",
    "for user in user_datasets_windowed.keys():\n",
    "    user_to_add = [user] * user_datasets_windowed[user][0].shape[0]\n",
    "    if user in test_users:\n",
    "        test_user_window_list += user_to_add\n",
    "\n",
    "    if user in train_users:\n",
    "        train_user_window_list += user_to_add\n",
    "\n",
    "print(len(test_user_window_list))\n",
    "print(len(train_user_window_list))"
   ]
  },
  {
   "cell_type": "code",
   "execution_count": 63,
   "metadata": {},
   "outputs": [],
   "source": [
    "train_user_window_list, val_user_window_list, _, _ = sklearn.model_selection.train_test_split(train_user_window_list, train_user_window_list, test_size=0.20, random_state=42)"
   ]
  },
  {
   "cell_type": "code",
   "execution_count": 64,
   "metadata": {},
   "outputs": [
    {
     "output_type": "stream",
     "name": "stdout",
     "text": [
      "508\n127\n"
     ]
    }
   ],
   "source": [
    "print(len(train_user_window_list))\n",
    "print(len(val_user_window_list))"
   ]
  },
  {
   "cell_type": "code",
   "execution_count": 65,
   "metadata": {},
   "outputs": [
    {
     "output_type": "stream",
     "name": "stdout",
     "text": [
      "Model: \"base_model_simclr_layer_7\"\n_________________________________________________________________\nLayer (type)                 Output Shape              Param #   \n=================================================================\ninput (InputLayer)           [(None, 500, 5)]          0         \n_________________________________________________________________\nconv1d (Conv1D)              (None, 477, 32)           3872      \n_________________________________________________________________\ndropout (Dropout)            (None, 477, 32)           0         \n_________________________________________________________________\nconv1d_1 (Conv1D)            (None, 462, 64)           32832     \n_________________________________________________________________\ndropout_1 (Dropout)          (None, 462, 64)           0         \n_________________________________________________________________\nconv1d_2 (Conv1D)            (None, 455, 96)           49248     \n_________________________________________________________________\ndropout_2 (Dropout)          (None, 455, 96)           0         \n_________________________________________________________________\nglobal_max_pooling1d (Global (None, 96)                0         \n=================================================================\nTotal params: 85,952\nTrainable params: 0\nNon-trainable params: 85,952\n_________________________________________________________________\n"
     ]
    }
   ],
   "source": [
    "target_model = simclr_model \n",
    "intermediate_model = simclr_models.extract_intermediate_model_from_base_model(target_model, intermediate_layer=7)\n",
    "intermediate_model.summary()\n",
    "\n",
    "embeddings_test = intermediate_model.predict(np_test[0], batch_size=batch_size)\n",
    "embeddings_train = intermediate_model.predict(np_train[0], batch_size=batch_size)\n",
    "embeddings_val = intermediate_model.predict(np_val[0], batch_size=batch_size)"
   ]
  },
  {
   "cell_type": "code",
   "execution_count": 62,
   "metadata": {},
   "outputs": [
    {
     "output_type": "execute_result",
     "data": {
      "text/plain": [
       "(508, 96)"
      ]
     },
     "metadata": {},
     "execution_count": 62
    }
   ],
   "source": [
    "embeddings_train.shape"
   ]
  },
  {
   "cell_type": "code",
   "execution_count": 66,
   "metadata": {},
   "outputs": [],
   "source": [
    "embeddings_test_dataframe = pd.DataFrame(embeddings_test)\n",
    "embeddings_train_dataframe = pd.DataFrame(embeddings_train)\n",
    "embeddings_val_dataframe = pd.DataFrame(embeddings_val)\n",
    "# embeddings_dataframe['user'] = test_user_window_list\n",
    "embeddings_test_dataframe.index = test_user_window_list\n",
    "embeddings_train_dataframe.index = train_user_window_list\n",
    "embeddings_val_dataframe.index = val_user_window_list\n",
    "\n",
    "user_level_activations_test = embeddings_test_dataframe.groupby(embeddings_test_dataframe.index).mean()\n",
    "user_level_activations_train = embeddings_train_dataframe.groupby(embeddings_train_dataframe.index).mean()\n",
    "user_level_activations_val = embeddings_val_dataframe.groupby(embeddings_val_dataframe.index).mean()"
   ]
  },
  {
   "cell_type": "code",
   "execution_count": 67,
   "metadata": {},
   "outputs": [],
   "source": [
    "baseline_sueno_merged_no_na = pd.read_pickle(path_to_baseline_sueno_merge_no_na)\n",
    "\n",
    "test_baseline_sueno_merged_no_na_mask = baseline_sueno_merged_no_na.index.isin(set(test_user_window_list))\n",
    "test_baseline_sueno_merged_no_na = baseline_sueno_merged_no_na[test_baseline_sueno_merged_no_na_mask]\n",
    "\n",
    "train_baseline_sueno_merged_no_na_mask = baseline_sueno_merged_no_na.index.isin(set(train_user_window_list))\n",
    "train_baseline_sueno_merged_no_na = baseline_sueno_merged_no_na[train_baseline_sueno_merged_no_na_mask]\n",
    "\n",
    "val_baseline_sueno_merged_no_na_mask = baseline_sueno_merged_no_na.index.isin(set(val_user_window_list))\n",
    "val_baseline_sueno_merged_no_na = baseline_sueno_merged_no_na[val_baseline_sueno_merged_no_na_mask]"
   ]
  },
  {
   "cell_type": "code",
   "execution_count": 82,
   "metadata": {},
   "outputs": [],
   "source": [
    "user_level_activation_no_na_mask_test = user_level_activations_test.index.isin(list(test_baseline_sueno_merged_no_na.index))\n",
    "user_level_activation_no_na_test = user_level_activations_test[user_level_activation_no_na_mask_test]\n",
    "\n",
    "user_level_activation_no_na_mask_train = user_level_activations_train.index.isin(train_baseline_sueno_merged_no_na.index)\n",
    "user_level_activation_no_na_train = user_level_activations_train[user_level_activation_no_na_mask_train]\n",
    "\n",
    "user_level_activation_no_na_mask_val = user_level_activations_val.index.isin(val_baseline_sueno_merged_no_na.index)\n",
    "user_level_activation_no_na_val = user_level_activations_val[user_level_activation_no_na_mask_val]"
   ]
  },
  {
   "cell_type": "code",
   "execution_count": 83,
   "metadata": {},
   "outputs": [],
   "source": [
    "def get_train_valid_test_x_y_for_disease(disease, user_level_activation_no_na_train, user_level_activation_no_na_val, user_level_activation_no_na_test, \n",
    "                                        train_baseline_sueno_merged_no_na, val_baseline_sueno_merged_no_na, test_baseline_sueno_merged_no_na):\n",
    "    train_x = user_level_activation_no_na_train.values.tolist()\n",
    "    val_x = user_level_activation_no_na_val.values.tolist()\n",
    "    test_x = user_level_activation_no_na_test.values.tolist()\n",
    "\n",
    "    train_y = train_baseline_sueno_merged_no_na[disease].values.tolist()\n",
    "    val_y = val_baseline_sueno_merged_no_na[disease].values.tolist()\n",
    "    test_y = test_baseline_sueno_merged_no_na[disease].values.tolist()\n",
    "\n",
    "    return train_x, val_x, test_x, train_y, val_y, test_y"
   ]
  },
  {
   "cell_type": "code",
   "execution_count": 84,
   "metadata": {},
   "outputs": [],
   "source": [
    "from sklearn.pipeline import make_pipeline\n",
    "from sklearn.preprocessing import StandardScaler\n",
    "from sklearn.svm import SVC"
   ]
  },
  {
   "cell_type": "code",
   "execution_count": 85,
   "metadata": {},
   "outputs": [],
   "source": [
    "disease = 'diabetes'\n",
    "train_x, val_x, test_x, train_y, val_y, test_y = get_train_valid_test_x_y_for_disease(disease, user_level_activation_no_na_train, user_level_activation_no_na_val, user_level_activation_no_na_test, train_baseline_sueno_merged_no_na, val_baseline_sueno_merged_no_na, test_baseline_sueno_merged_no_na)"
   ]
  },
  {
   "cell_type": "code",
   "execution_count": 88,
   "metadata": {},
   "outputs": [],
   "source": [
    "X_train = np.array(train_x)\n",
    "X_test = np.array(test_x)\n",
    "scaler = StandardScaler()\n",
    "scaler.fit(X_train)\n",
    "X_train_scaled = scaler.transform(X_train)\n",
    "X_test_scaled = scaler.transform(X_test)\n",
    "y_train = np.array(train_y)\n",
    "y_test = np.array(test_y)"
   ]
  },
  {
   "cell_type": "code",
   "execution_count": 90,
   "metadata": {},
   "outputs": [],
   "source": [
    "svc = SVC(kernel='linear')\n",
    "svc.fit(X_train_scaled, y_train)\n",
    "predictions = svc.predict(X_test_scaled)"
   ]
  },
  {
   "cell_type": "code",
   "execution_count": 91,
   "metadata": {},
   "outputs": [
    {
     "output_type": "execute_result",
     "data": {
      "text/plain": [
       "array([2.])"
      ]
     },
     "metadata": {},
     "execution_count": 91
    }
   ],
   "source": [
    "predictions"
   ]
  },
  {
   "cell_type": "code",
   "execution_count": null,
   "metadata": {},
   "outputs": [],
   "source": []
  }
 ],
 "metadata": {
  "kernelspec": {
   "name": "python3",
   "display_name": "Python 3.8.3 64-bit ('tf2': conda)",
   "metadata": {
    "interpreter": {
     "hash": "2180cdcf8e47e0296e6d68c9100757045f3ea5514727339509d6031e1cc4292f"
    }
   }
  },
  "language_info": {
   "codemirror_mode": {
    "name": "ipython",
    "version": 3
   },
   "file_extension": ".py",
   "mimetype": "text/x-python",
   "name": "python",
   "nbconvert_exporter": "python",
   "pygments_lexer": "ipython3",
   "version": "3.8.3-final"
  }
 },
 "nbformat": 4,
 "nbformat_minor": 4
}