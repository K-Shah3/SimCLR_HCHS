{
 "cells": [
  {
   "cell_type": "code",
   "execution_count": 1,
   "metadata": {},
   "outputs": [],
   "source": [
    "import pickle\n",
    "import scipy.constants\n",
    "import datetime\n",
    "import tensorflow as tf\n",
    "import numpy as np\n",
    "import tqdm\n",
    "import os\n",
    "import pandas as pd"
   ]
  },
  {
   "cell_type": "code",
   "execution_count": 2,
   "metadata": {},
   "outputs": [],
   "source": [
    "import hchs_data_pre_processing\n",
    "import hchs_transformations\n",
    "import simclr_models\n",
    "import simclr_utitlities"
   ]
  },
  {
   "cell_type": "code",
   "execution_count": 3,
   "metadata": {},
   "outputs": [],
   "source": [
    "working_directory = 'test_run_hchs'\n",
    "dataset_save_path = os.path.join(os.getcwd(), \"PickledData\", \"hchs\")\n",
    "user_datasets_path = os.path.join(dataset_save_path, \"pid_to_data_label_dict.pickle\")\n",
    "user_dataset_resized_path = os.path.join(dataset_save_path, \"user_dataset_resized.pickle\")\n",
    "path_to_test_train_split_dict = os.path.join(dataset_save_path, \"test_train_split_dict.pickle\")\n",
    "path_to_reduced_test_train_split_dict = os.path.join(dataset_save_path, \"reduced_test_train_split_dict.pickle\")\n",
    "sample_key = 163225\n",
    "path_to_np_train = os.path.join(dataset_save_path, \"np_train.pickle\")\n",
    "path_to_np_test = os.path.join(dataset_save_path, \"np_test.pickle\")\n",
    "path_to_np_val = os.path.join(dataset_save_path, \"np_val.pickle\")\n"
   ]
  },
  {
   "cell_type": "markdown",
   "metadata": {},
   "source": [
    "# Load hchs data from pickle path"
   ]
  },
  {
   "cell_type": "code",
   "execution_count": 4,
   "metadata": {},
   "outputs": [],
   "source": [
    "# with open(user_datasets_path, 'rb') as f:\n",
    "#     user_datasets = pickle.load(f)"
   ]
  },
  {
   "cell_type": "code",
   "execution_count": 5,
   "metadata": {
    "tags": []
   },
   "outputs": [],
   "source": [
    "# user_datasets_resized = {}\n",
    "\n",
    "# for user, user_data_labels in user_datasets.items():\n",
    "#     user_data = user_data_labels[0]\n",
    "#     user_labels = user_data_labels[1]\n",
    "#     print(user_data.shape, user_labels.shape, user)\n",
    "#     new_data = np.array(user_data.values.tolist())[:, :-1].astype(np.float64)\n",
    "#     new_labels = np.array([label[0] for label in user_labels.values.tolist()])\n",
    "#     user_datasets_resized[user] = [new_data, new_labels]"
   ]
  },
  {
   "cell_type": "code",
   "execution_count": 6,
   "metadata": {},
   "outputs": [],
   "source": [
    "# with open(user_dataset_resized_path, 'wb') as f:\n",
    "#     pickle.dump(user_datasets_resized, f)"
   ]
  },
  {
   "cell_type": "code",
   "execution_count": 7,
   "metadata": {},
   "outputs": [],
   "source": [
    "with open(user_dataset_resized_path, 'rb') as f:\n",
    "    user_datasets = pickle.load(f)"
   ]
  },
  {
   "cell_type": "code",
   "execution_count": 8,
   "metadata": {},
   "outputs": [
    {
     "output_type": "execute_result",
     "data": {
      "text/plain": [
       "[array([[1.2900e+02, 4.4340e+01, 4.9500e+00, 3.6500e+00, 1.2900e+00],\n",
       "        [2.7100e+02, 7.1930e+01, 4.3400e+00, 6.8500e+00, 2.1700e+00],\n",
       "        [1.7100e+02, 6.1290e+01, 4.1600e+00, 5.6300e+00, 2.5300e+00],\n",
       "        ...,\n",
       "        [2.3800e+02, 2.3994e+02, 2.1100e+01, 2.1100e+01, 7.6300e+00],\n",
       "        [4.0200e+02, 3.4940e+01, 5.1700e+00, 2.6400e+00, 3.6800e-01],\n",
       "        [4.8700e+02, 3.5430e+01, 5.6300e+00, 2.5800e+00, 3.2300e-01]]),\n",
       " array(['ACTIVE', 'ACTIVE', 'ACTIVE', ..., 'ACTIVE', 'ACTIVE', 'ACTIVE'],\n",
       "       dtype='<U6')]"
      ]
     },
     "metadata": {},
     "execution_count": 8
    }
   ],
   "source": [
    "user_datasets[sample_key]"
   ]
  },
  {
   "cell_type": "markdown",
   "metadata": {},
   "source": [
    "# Pre Processing"
   ]
  },
  {
   "cell_type": "code",
   "execution_count": 9,
   "metadata": {},
   "outputs": [
    {
     "output_type": "stream",
     "name": "stdout",
     "text": [
      "Test Numbers: 377, Train Numbers: 1509\n"
     ]
    }
   ],
   "source": [
    "# Parameters\n",
    "window_size = 500\n",
    "input_shape = (window_size, 5)\n",
    "\n",
    "# Dataset Metadata \n",
    "transformation_multiple = 1\n",
    "dataset_name = 'hchs.pkl'\n",
    "dataset_name_user_split = 'hchs_user_split.pkl'\n",
    "\n",
    "label_list = [\"ACTIVE\", \"REST\", \"REST-S\"]\n",
    "label_list_full_name = label_list\n",
    "has_null_class = False\n",
    "\n",
    "label_map = dict([(l, i) for i, l in enumerate(label_list)])\n",
    "\n",
    "output_shape = len(label_list)\n",
    "\n",
    "model_save_name = f\"hchs_acc\"\n",
    "\n",
    "sampling_rate = 50.0\n",
    "unit_conversion = scipy.constants.g\n",
    "\n",
    "# a fixed user-split\n",
    "\n",
    "with open(path_to_test_train_split_dict, 'rb') as f:\n",
    "    test_train_user_dict = pickle.load(f)\n",
    "\n",
    "test_users = test_train_user_dict['test']\n",
    "train_users = test_train_user_dict['train']\n",
    "\n",
    "print(f'Test Numbers: {len(test_users)}, Train Numbers: {len(train_users)}')"
   ]
  },
  {
   "cell_type": "code",
   "execution_count": 10,
   "metadata": {},
   "outputs": [
    {
     "output_type": "stream",
     "name": "stdout",
     "text": [
      "step 1 done\n",
      "step 2 done\n",
      "step 3 done\n",
      "Test\n",
      "(array(['ACTIVE', 'REST', 'REST-S'], dtype='<U6'), array([21577,    61, 10465], dtype=int64))\n",
      "(array([0, 1, 2]), array([21577,    61, 10465], dtype=int64))\n",
      "-----------------\n",
      "Train\n",
      "(array(['ACTIVE', 'REST', 'REST-S'], dtype='<U6'), array([83891,   117, 41969], dtype=int64))\n",
      "(array([0, 1, 2]), array([83891,   117, 41969], dtype=int64))\n",
      "-----------------\n",
      "step 4 done\n",
      "step 5 done\n",
      "(100781, 500, 5)\n",
      "(25196, 500, 5)\n",
      "(32103, 500, 5)\n",
      "step 6 done\n"
     ]
    }
   ],
   "source": [
    "np_train, np_val, np_test = hchs_data_pre_processing.pre_process_dataset_composite(\n",
    "    user_datasets=user_datasets, \n",
    "    label_map=label_map, \n",
    "    output_shape=output_shape, \n",
    "    train_users=train_users, \n",
    "    test_users=test_users, \n",
    "    window_size=window_size, \n",
    "    shift=window_size//2, \n",
    "    normalise_dataset=True, \n",
    "    verbose=1\n",
    ")"
   ]
  },
  {
   "cell_type": "code",
   "execution_count": 11,
   "metadata": {},
   "outputs": [],
   "source": [
    "# with open(path_to_np_train, 'wb') as f:\n",
    "#     pickle.dump(np_train, f)\n",
    "# with open(path_to_np_test, 'wb') as f:\n",
    "#     pickle.dump(np_test, f)\n",
    "# with open(path_to_np_val, 'wb') as f:\n",
    "#     pickle.dump(np_val, f)"
   ]
  },
  {
   "source": [
    "## SimCLR Training"
   ],
   "cell_type": "markdown",
   "metadata": {}
  },
  {
   "cell_type": "code",
   "execution_count": 12,
   "metadata": {},
   "outputs": [],
   "source": [
    "batch_size = 512\n",
    "decay_steps = 1000\n",
    "# epochs = 200\n",
    "epochs = 3\n",
    "temperature = 0.1\n",
    "trasnformation_indices = [1, 2] # Use Scaling and rotation trasnformation\n",
    "\n",
    "transform_funcs_vectorised = [\n",
    "    hchs_transformations.noise_transform_vectorized, \n",
    "    hchs_transformations.scaling_transform_vectorized, \n",
    "    # transformations.rotation_transform_vectorized, \n",
    "    hchs_transformations.negate_transform_vectorized, \n",
    "    hchs_transformations.time_flip_transform_vectorized, \n",
    "    hchs_transformations.time_segment_permutation_transform_improved, \n",
    "    hchs_transformations.time_warp_transform_low_cost, \n",
    "    hchs_transformations.channel_shuffle_transform_vectorized\n",
    "]\n",
    "# transform_funcs_names = ['noised', 'scaled', 'rotated', 'negated', 'time_flipped', 'permuted', 'time_warped', 'channel_shuffled']\n",
    "transform_funcs_names = ['noised', 'scaled', 'negated', 'time_flipped', 'permuted', 'time_warped', 'channel_shuffled']\n",
    "\n"
   ]
  },
  {
   "cell_type": "code",
   "execution_count": 14,
   "metadata": {},
   "outputs": [
    {
     "output_type": "stream",
     "name": "stdout",
     "text": [
      "<function scaling_transform_vectorized at 0x000002108DF9B160>\n",
      "<function negate_transform_vectorized at 0x000002108DF9B1F0>\n",
      "Model: \"base_model_simclr\"\n",
      "_________________________________________________________________\n",
      "Layer (type)                 Output Shape              Param #   \n",
      "=================================================================\n",
      "input (InputLayer)           [(None, 500, 5)]          0         \n",
      "_________________________________________________________________\n",
      "conv1d_3 (Conv1D)            (None, 477, 32)           3872      \n",
      "_________________________________________________________________\n",
      "dropout_3 (Dropout)          (None, 477, 32)           0         \n",
      "_________________________________________________________________\n",
      "conv1d_4 (Conv1D)            (None, 462, 64)           32832     \n",
      "_________________________________________________________________\n",
      "dropout_4 (Dropout)          (None, 462, 64)           0         \n",
      "_________________________________________________________________\n",
      "conv1d_5 (Conv1D)            (None, 455, 96)           49248     \n",
      "_________________________________________________________________\n",
      "dropout_5 (Dropout)          (None, 455, 96)           0         \n",
      "_________________________________________________________________\n",
      "global_max_pooling1d (Global (None, 96)                0         \n",
      "_________________________________________________________________\n",
      "dense_3 (Dense)              (None, 256)               24832     \n",
      "_________________________________________________________________\n",
      "activation_2 (Activation)    (None, 256)               0         \n",
      "_________________________________________________________________\n",
      "dense_4 (Dense)              (None, 128)               32896     \n",
      "_________________________________________________________________\n",
      "activation_3 (Activation)    (None, 128)               0         \n",
      "_________________________________________________________________\n",
      "dense_5 (Dense)              (None, 50)                6450      \n",
      "=================================================================\n",
      "Total params: 150,130\n",
      "Trainable params: 150,130\n",
      "Non-trainable params: 0\n",
      "_________________________________________________________________\n"
     ]
    },
    {
     "output_type": "error",
     "ename": "KeyboardInterrupt",
     "evalue": "",
     "traceback": [
      "\u001b[1;31m---------------------------------------------------------------------------\u001b[0m",
      "\u001b[1;31mKeyboardInterrupt\u001b[0m                         Traceback (most recent call last)",
      "\u001b[1;32m<ipython-input-14-6095a3e7b883>\u001b[0m in \u001b[0;36m<module>\u001b[1;34m\u001b[0m\n\u001b[0;32m     12\u001b[0m \u001b[0msimclr_model\u001b[0m\u001b[1;33m.\u001b[0m\u001b[0msummary\u001b[0m\u001b[1;33m(\u001b[0m\u001b[1;33m)\u001b[0m\u001b[1;33m\u001b[0m\u001b[1;33m\u001b[0m\u001b[0m\n\u001b[0;32m     13\u001b[0m \u001b[1;33m\u001b[0m\u001b[0m\n\u001b[1;32m---> 14\u001b[1;33m \u001b[0mtrained_simclr_model\u001b[0m\u001b[1;33m,\u001b[0m \u001b[0mepoch_losses\u001b[0m \u001b[1;33m=\u001b[0m \u001b[0msimclr_utitlities\u001b[0m\u001b[1;33m.\u001b[0m\u001b[0msimclr_train_model\u001b[0m\u001b[1;33m(\u001b[0m\u001b[0msimclr_model\u001b[0m\u001b[1;33m,\u001b[0m \u001b[0mnp_train\u001b[0m\u001b[1;33m[\u001b[0m\u001b[1;36m0\u001b[0m\u001b[1;33m]\u001b[0m\u001b[1;33m,\u001b[0m \u001b[0moptimizer\u001b[0m\u001b[1;33m,\u001b[0m \u001b[0mbatch_size\u001b[0m\u001b[1;33m,\u001b[0m \u001b[0mtransformation_function\u001b[0m\u001b[1;33m,\u001b[0m \u001b[0mtemperature\u001b[0m\u001b[1;33m=\u001b[0m\u001b[0mtemperature\u001b[0m\u001b[1;33m,\u001b[0m \u001b[0mepochs\u001b[0m\u001b[1;33m=\u001b[0m\u001b[0mepochs\u001b[0m\u001b[1;33m,\u001b[0m \u001b[0mis_trasnform_function_vectorized\u001b[0m\u001b[1;33m=\u001b[0m\u001b[1;32mTrue\u001b[0m\u001b[1;33m,\u001b[0m \u001b[0mverbose\u001b[0m\u001b[1;33m=\u001b[0m\u001b[1;36m1\u001b[0m\u001b[1;33m)\u001b[0m\u001b[1;33m\u001b[0m\u001b[1;33m\u001b[0m\u001b[0m\n\u001b[0m\u001b[0;32m     15\u001b[0m \u001b[1;33m\u001b[0m\u001b[0m\n\u001b[0;32m     16\u001b[0m \u001b[0msimclr_model_save_path\u001b[0m \u001b[1;33m=\u001b[0m \u001b[1;34mf\"{working_directory}{start_time_str}_simclr.hdf5\"\u001b[0m\u001b[1;33m\u001b[0m\u001b[1;33m\u001b[0m\u001b[0m\n",
      "\u001b[1;32mc:\\Users\\Kevalee Shah\\Documents\\Cambridge\\Part II\\Project\\SimCLR HCHS\\simclr_utitlities.py\u001b[0m in \u001b[0;36msimclr_train_model\u001b[1;34m(model, dataset, optimizer, batch_size, transformation_function, temperature, epochs, is_trasnform_function_vectorized, verbose)\u001b[0m\n\u001b[0;32m    204\u001b[0m \u001b[1;33m\u001b[0m\u001b[0m\n\u001b[0;32m    205\u001b[0m             \u001b[1;31m# Forward propagation\u001b[0m\u001b[1;33m\u001b[0m\u001b[1;33m\u001b[0m\u001b[1;33m\u001b[0m\u001b[0m\n\u001b[1;32m--> 206\u001b[1;33m             \u001b[0mloss\u001b[0m\u001b[1;33m,\u001b[0m \u001b[0mgradients\u001b[0m \u001b[1;33m=\u001b[0m \u001b[0mget_NT_Xent_loss_gradients\u001b[0m\u001b[1;33m(\u001b[0m\u001b[0mmodel\u001b[0m\u001b[1;33m,\u001b[0m \u001b[0mtransform_1\u001b[0m\u001b[1;33m,\u001b[0m \u001b[0mtransform_2\u001b[0m\u001b[1;33m,\u001b[0m \u001b[0mnormlalize\u001b[0m\u001b[1;33m=\u001b[0m\u001b[1;32mTrue\u001b[0m\u001b[1;33m,\u001b[0m \u001b[0mtemperature\u001b[0m\u001b[1;33m=\u001b[0m\u001b[0mtemperature\u001b[0m\u001b[1;33m,\u001b[0m \u001b[0mweights\u001b[0m\u001b[1;33m=\u001b[0m\u001b[1;36m1.0\u001b[0m\u001b[1;33m)\u001b[0m\u001b[1;33m\u001b[0m\u001b[1;33m\u001b[0m\u001b[0m\n\u001b[0m\u001b[0;32m    207\u001b[0m \u001b[1;33m\u001b[0m\u001b[0m\n\u001b[0;32m    208\u001b[0m             \u001b[0moptimizer\u001b[0m\u001b[1;33m.\u001b[0m\u001b[0mapply_gradients\u001b[0m\u001b[1;33m(\u001b[0m\u001b[0mzip\u001b[0m\u001b[1;33m(\u001b[0m\u001b[0mgradients\u001b[0m\u001b[1;33m,\u001b[0m \u001b[0mmodel\u001b[0m\u001b[1;33m.\u001b[0m\u001b[0mtrainable_variables\u001b[0m\u001b[1;33m)\u001b[0m\u001b[1;33m)\u001b[0m\u001b[1;33m\u001b[0m\u001b[1;33m\u001b[0m\u001b[0m\n",
      "\u001b[1;32mc:\\Users\\Kevalee Shah\\Documents\\Cambridge\\Part II\\Project\\SimCLR HCHS\\simclr_utitlities.py\u001b[0m in \u001b[0;36mget_NT_Xent_loss_gradients\u001b[1;34m(model, samples_transform_1, samples_transform_2, normlalize, temperature, weights)\u001b[0m\n\u001b[0;32m    129\u001b[0m         \u001b[0mloss\u001b[0m \u001b[1;33m=\u001b[0m \u001b[0mNT_Xent_loss\u001b[0m\u001b[1;33m(\u001b[0m\u001b[0mhidden_features_transform_1\u001b[0m\u001b[1;33m,\u001b[0m \u001b[0mhidden_features_transform_2\u001b[0m\u001b[1;33m,\u001b[0m \u001b[0mnormlalize\u001b[0m\u001b[1;33m=\u001b[0m\u001b[0mnormlalize\u001b[0m\u001b[1;33m,\u001b[0m \u001b[0mtemperature\u001b[0m\u001b[1;33m=\u001b[0m\u001b[0mtemperature\u001b[0m\u001b[1;33m,\u001b[0m \u001b[0mweights\u001b[0m\u001b[1;33m=\u001b[0m\u001b[0mweights\u001b[0m\u001b[1;33m)\u001b[0m\u001b[1;33m\u001b[0m\u001b[1;33m\u001b[0m\u001b[0m\n\u001b[0;32m    130\u001b[0m \u001b[1;33m\u001b[0m\u001b[0m\n\u001b[1;32m--> 131\u001b[1;33m     \u001b[0mgradients\u001b[0m \u001b[1;33m=\u001b[0m \u001b[0mtape\u001b[0m\u001b[1;33m.\u001b[0m\u001b[0mgradient\u001b[0m\u001b[1;33m(\u001b[0m\u001b[0mloss\u001b[0m\u001b[1;33m,\u001b[0m \u001b[0mmodel\u001b[0m\u001b[1;33m.\u001b[0m\u001b[0mtrainable_variables\u001b[0m\u001b[1;33m)\u001b[0m\u001b[1;33m\u001b[0m\u001b[1;33m\u001b[0m\u001b[0m\n\u001b[0m\u001b[0;32m    132\u001b[0m     \u001b[1;32mreturn\u001b[0m \u001b[0mloss\u001b[0m\u001b[1;33m,\u001b[0m \u001b[0mgradients\u001b[0m\u001b[1;33m\u001b[0m\u001b[1;33m\u001b[0m\u001b[0m\n\u001b[0;32m    133\u001b[0m \u001b[1;33m\u001b[0m\u001b[0m\n",
      "\u001b[1;32m~\\anaconda3\\envs\\tf2\\lib\\site-packages\\tensorflow\\python\\eager\\backprop.py\u001b[0m in \u001b[0;36mgradient\u001b[1;34m(self, target, sources, output_gradients, unconnected_gradients)\u001b[0m\n\u001b[0;32m   1065\u001b[0m                           for x in nest.flatten(output_gradients)]\n\u001b[0;32m   1066\u001b[0m \u001b[1;33m\u001b[0m\u001b[0m\n\u001b[1;32m-> 1067\u001b[1;33m     flat_grad = imperative_grad.imperative_grad(\n\u001b[0m\u001b[0;32m   1068\u001b[0m         \u001b[0mself\u001b[0m\u001b[1;33m.\u001b[0m\u001b[0m_tape\u001b[0m\u001b[1;33m,\u001b[0m\u001b[1;33m\u001b[0m\u001b[1;33m\u001b[0m\u001b[0m\n\u001b[0;32m   1069\u001b[0m         \u001b[0mflat_targets\u001b[0m\u001b[1;33m,\u001b[0m\u001b[1;33m\u001b[0m\u001b[1;33m\u001b[0m\u001b[0m\n",
      "\u001b[1;32m~\\anaconda3\\envs\\tf2\\lib\\site-packages\\tensorflow\\python\\eager\\imperative_grad.py\u001b[0m in \u001b[0;36mimperative_grad\u001b[1;34m(tape, target, sources, output_gradients, sources_raw, unconnected_gradients)\u001b[0m\n\u001b[0;32m     69\u001b[0m         \"Unknown value for unconnected_gradients: %r\" % unconnected_gradients)\n\u001b[0;32m     70\u001b[0m \u001b[1;33m\u001b[0m\u001b[0m\n\u001b[1;32m---> 71\u001b[1;33m   return pywrap_tfe.TFE_Py_TapeGradient(\n\u001b[0m\u001b[0;32m     72\u001b[0m       \u001b[0mtape\u001b[0m\u001b[1;33m.\u001b[0m\u001b[0m_tape\u001b[0m\u001b[1;33m,\u001b[0m  \u001b[1;31m# pylint: disable=protected-access\u001b[0m\u001b[1;33m\u001b[0m\u001b[1;33m\u001b[0m\u001b[0m\n\u001b[0;32m     73\u001b[0m       \u001b[0mtarget\u001b[0m\u001b[1;33m,\u001b[0m\u001b[1;33m\u001b[0m\u001b[1;33m\u001b[0m\u001b[0m\n",
      "\u001b[1;32m~\\anaconda3\\envs\\tf2\\lib\\site-packages\\tensorflow\\python\\eager\\backprop.py\u001b[0m in \u001b[0;36m_gradient_function\u001b[1;34m(op_name, attr_tuple, num_inputs, inputs, outputs, out_grads, skip_input_indices, forward_pass_name_scope)\u001b[0m\n\u001b[0;32m    160\u001b[0m       \u001b[0mgradient_name_scope\u001b[0m \u001b[1;33m+=\u001b[0m \u001b[0mforward_pass_name_scope\u001b[0m \u001b[1;33m+\u001b[0m \u001b[1;34m\"/\"\u001b[0m\u001b[1;33m\u001b[0m\u001b[1;33m\u001b[0m\u001b[0m\n\u001b[0;32m    161\u001b[0m     \u001b[1;32mwith\u001b[0m \u001b[0mops\u001b[0m\u001b[1;33m.\u001b[0m\u001b[0mname_scope\u001b[0m\u001b[1;33m(\u001b[0m\u001b[0mgradient_name_scope\u001b[0m\u001b[1;33m)\u001b[0m\u001b[1;33m:\u001b[0m\u001b[1;33m\u001b[0m\u001b[1;33m\u001b[0m\u001b[0m\n\u001b[1;32m--> 162\u001b[1;33m       \u001b[1;32mreturn\u001b[0m \u001b[0mgrad_fn\u001b[0m\u001b[1;33m(\u001b[0m\u001b[0mmock_op\u001b[0m\u001b[1;33m,\u001b[0m \u001b[1;33m*\u001b[0m\u001b[0mout_grads\u001b[0m\u001b[1;33m)\u001b[0m\u001b[1;33m\u001b[0m\u001b[1;33m\u001b[0m\u001b[0m\n\u001b[0m\u001b[0;32m    163\u001b[0m   \u001b[1;32melse\u001b[0m\u001b[1;33m:\u001b[0m\u001b[1;33m\u001b[0m\u001b[1;33m\u001b[0m\u001b[0m\n\u001b[0;32m    164\u001b[0m     \u001b[1;32mreturn\u001b[0m \u001b[0mgrad_fn\u001b[0m\u001b[1;33m(\u001b[0m\u001b[0mmock_op\u001b[0m\u001b[1;33m,\u001b[0m \u001b[1;33m*\u001b[0m\u001b[0mout_grads\u001b[0m\u001b[1;33m)\u001b[0m\u001b[1;33m\u001b[0m\u001b[1;33m\u001b[0m\u001b[0m\n",
      "\u001b[1;32m~\\anaconda3\\envs\\tf2\\lib\\site-packages\\tensorflow\\python\\ops\\nn_grad.py\u001b[0m in \u001b[0;36m_Conv2DGrad\u001b[1;34m(op, grad)\u001b[0m\n\u001b[0;32m    595\u001b[0m           \u001b[0muse_cudnn_on_gpu\u001b[0m\u001b[1;33m=\u001b[0m\u001b[0muse_cudnn_on_gpu\u001b[0m\u001b[1;33m,\u001b[0m\u001b[1;33m\u001b[0m\u001b[1;33m\u001b[0m\u001b[0m\n\u001b[0;32m    596\u001b[0m           data_format=data_format),\n\u001b[1;32m--> 597\u001b[1;33m       gen_nn_ops.conv2d_backprop_filter(\n\u001b[0m\u001b[0;32m    598\u001b[0m           \u001b[0mop\u001b[0m\u001b[1;33m.\u001b[0m\u001b[0minputs\u001b[0m\u001b[1;33m[\u001b[0m\u001b[1;36m0\u001b[0m\u001b[1;33m]\u001b[0m\u001b[1;33m,\u001b[0m\u001b[1;33m\u001b[0m\u001b[1;33m\u001b[0m\u001b[0m\n\u001b[0;32m    599\u001b[0m           \u001b[0mshape_1\u001b[0m\u001b[1;33m,\u001b[0m\u001b[1;33m\u001b[0m\u001b[1;33m\u001b[0m\u001b[0m\n",
      "\u001b[1;32m~\\anaconda3\\envs\\tf2\\lib\\site-packages\\tensorflow\\python\\ops\\gen_nn_ops.py\u001b[0m in \u001b[0;36mconv2d_backprop_filter\u001b[1;34m(input, filter_sizes, out_backprop, strides, padding, use_cudnn_on_gpu, explicit_paddings, data_format, dilations, name)\u001b[0m\n\u001b[0;32m   1084\u001b[0m   \u001b[1;32mif\u001b[0m \u001b[0mtld\u001b[0m\u001b[1;33m.\u001b[0m\u001b[0mis_eager\u001b[0m\u001b[1;33m:\u001b[0m\u001b[1;33m\u001b[0m\u001b[1;33m\u001b[0m\u001b[0m\n\u001b[0;32m   1085\u001b[0m     \u001b[1;32mtry\u001b[0m\u001b[1;33m:\u001b[0m\u001b[1;33m\u001b[0m\u001b[1;33m\u001b[0m\u001b[0m\n\u001b[1;32m-> 1086\u001b[1;33m       _result = pywrap_tfe.TFE_Py_FastPathExecute(\n\u001b[0m\u001b[0;32m   1087\u001b[0m         \u001b[0m_ctx\u001b[0m\u001b[1;33m.\u001b[0m\u001b[0m_context_handle\u001b[0m\u001b[1;33m,\u001b[0m \u001b[0mtld\u001b[0m\u001b[1;33m.\u001b[0m\u001b[0mdevice_name\u001b[0m\u001b[1;33m,\u001b[0m \u001b[1;34m\"Conv2DBackpropFilter\"\u001b[0m\u001b[1;33m,\u001b[0m \u001b[0mname\u001b[0m\u001b[1;33m,\u001b[0m\u001b[1;33m\u001b[0m\u001b[1;33m\u001b[0m\u001b[0m\n\u001b[0;32m   1088\u001b[0m         \u001b[0mtld\u001b[0m\u001b[1;33m.\u001b[0m\u001b[0mop_callbacks\u001b[0m\u001b[1;33m,\u001b[0m \u001b[0minput\u001b[0m\u001b[1;33m,\u001b[0m \u001b[0mfilter_sizes\u001b[0m\u001b[1;33m,\u001b[0m \u001b[0mout_backprop\u001b[0m\u001b[1;33m,\u001b[0m \u001b[1;34m\"strides\"\u001b[0m\u001b[1;33m,\u001b[0m\u001b[1;33m\u001b[0m\u001b[1;33m\u001b[0m\u001b[0m\n",
      "\u001b[1;31mKeyboardInterrupt\u001b[0m: "
     ]
    }
   ],
   "source": [
    "start_time = datetime.datetime.now()\n",
    "start_time_str = start_time.strftime(\"%Y%m%d-%H%M%S\")\n",
    "tf.keras.backend.set_floatx('float32')\n",
    "\n",
    "lr_decayed_fn = tf.keras.experimental.CosineDecay(initial_learning_rate=0.1, decay_steps=decay_steps)\n",
    "optimizer = tf.keras.optimizers.SGD(lr_decayed_fn)\n",
    "transformation_function = simclr_utitlities.generate_combined_transform_function(transform_funcs_vectorised, indices=trasnformation_indices)\n",
    "\n",
    "base_model = simclr_models.create_base_model(input_shape, model_name=\"base_model\")\n",
    "simclr_model = simclr_models.attach_simclr_head(base_model)\n",
    "simclr_model.summary()\n",
    "\n",
    "trained_simclr_model, epoch_losses = simclr_utitlities.simclr_train_model(simclr_model, np_train[0], optimizer, batch_size, transformation_function, temperature=temperature, epochs=epochs, is_trasnform_function_vectorized=True, verbose=1)\n",
    "\n",
    "simclr_model_save_path = f\"{working_directory}{start_time_str}_simclr.hdf5\"\n",
    "trained_simclr_model.save(simclr_model_save_path)\n",
    "\n"
   ]
  },
  {
   "source": [
    "## Linear Model"
   ],
   "cell_type": "markdown",
   "metadata": {}
  },
  {
   "cell_type": "code",
   "execution_count": null,
   "metadata": {},
   "outputs": [],
   "source": []
  },
  {
   "cell_type": "code",
   "execution_count": 34,
   "metadata": {},
   "outputs": [
    {
     "output_type": "error",
     "ename": "NameError",
     "evalue": "name 'simclr_model_save_path' is not defined",
     "traceback": [
      "\u001b[1;31m---------------------------------------------------------------------------\u001b[0m",
      "\u001b[1;31mNameError\u001b[0m                                 Traceback (most recent call last)",
      "\u001b[1;32m<ipython-input-34-467c8caf9db1>\u001b[0m in \u001b[0;36m<module>\u001b[1;34m\u001b[0m\n\u001b[0;32m      3\u001b[0m \u001b[0mtag\u001b[0m \u001b[1;33m=\u001b[0m \u001b[1;34m\"linear_eval\"\u001b[0m\u001b[1;33m\u001b[0m\u001b[1;33m\u001b[0m\u001b[0m\n\u001b[0;32m      4\u001b[0m \u001b[1;33m\u001b[0m\u001b[0m\n\u001b[1;32m----> 5\u001b[1;33m \u001b[0msimclr_model\u001b[0m \u001b[1;33m=\u001b[0m \u001b[0mtf\u001b[0m\u001b[1;33m.\u001b[0m\u001b[0mkeras\u001b[0m\u001b[1;33m.\u001b[0m\u001b[0mmodels\u001b[0m\u001b[1;33m.\u001b[0m\u001b[0mload_model\u001b[0m\u001b[1;33m(\u001b[0m\u001b[0msimclr_model_save_path\u001b[0m\u001b[1;33m)\u001b[0m\u001b[1;33m\u001b[0m\u001b[1;33m\u001b[0m\u001b[0m\n\u001b[0m\u001b[0;32m      6\u001b[0m \u001b[0mlinear_evaluation_model\u001b[0m \u001b[1;33m=\u001b[0m \u001b[0msimclr_models\u001b[0m\u001b[1;33m.\u001b[0m\u001b[0mcreate_linear_model_from_base_model\u001b[0m\u001b[1;33m(\u001b[0m\u001b[0msimclr_model\u001b[0m\u001b[1;33m,\u001b[0m \u001b[0moutput_shape\u001b[0m\u001b[1;33m,\u001b[0m \u001b[0mintermediate_layer\u001b[0m\u001b[1;33m=\u001b[0m\u001b[1;36m7\u001b[0m\u001b[1;33m)\u001b[0m\u001b[1;33m\u001b[0m\u001b[1;33m\u001b[0m\u001b[0m\n\u001b[0;32m      7\u001b[0m \u001b[1;33m\u001b[0m\u001b[0m\n",
      "\u001b[1;31mNameError\u001b[0m: name 'simclr_model_save_path' is not defined"
     ]
    }
   ],
   "source": [
    "\n",
    "total_epochs = 50\n",
    "batch_size = 200\n",
    "tag = \"linear_eval\"\n",
    "\n",
    "simclr_model = tf.keras.models.load_model(simclr_model_save_path)\n",
    "linear_evaluation_model = simclr_models.create_linear_model_from_base_model(simclr_model, output_shape, intermediate_layer=7)\n",
    "\n",
    "best_model_file_name = f\"{working_directory}{start_time_str}_simclr_{tag}.hdf5\"\n",
    "best_model_callback = tf.keras.callbacks.ModelCheckpoint(best_model_file_name,\n",
    "    monitor='val_loss', mode='min', save_best_only=True, save_weights_only=False, verbose=0\n",
    ")\n",
    "\n",
    "training_history = linear_evaluation_model.fit(\n",
    "    x = np_train[0],\n",
    "    y = np_train[1],\n",
    "    batch_size=batch_size,\n",
    "    shuffle=True,\n",
    "    epochs=total_epochs,\n",
    "    callbacks=[best_model_callback],\n",
    "    validation_data=np_val\n",
    ")\n",
    "\n",
    "best_model = tf.keras.models.load_model(best_model_file_name)\n",
    "\n",
    "print(\"Model with lowest validation Loss:\")\n",
    "print(simclr_utitlities.evaluate_model_simple(best_model.predict(np_test[0]), np_test[1], return_dict=True))\n",
    "print(\"Model in last epoch\")\n",
    "print(simclr_utitlities.evaluate_model_simple(linear_evaluation_model.predict(np_test[0]), np_test[1], return_dict=True))\n"
   ]
  },
  {
   "cell_type": "code",
   "execution_count": null,
   "metadata": {},
   "outputs": [],
   "source": [
    "# adding something for the sake of it"
   ]
  }
 ],
 "metadata": {
  "kernelspec": {
   "name": "python3",
   "display_name": "Python 3.8.3 64-bit ('tf2': conda)",
   "metadata": {
    "interpreter": {
     "hash": "2180cdcf8e47e0296e6d68c9100757045f3ea5514727339509d6031e1cc4292f"
    }
   }
  },
  "language_info": {
   "codemirror_mode": {
    "name": "ipython",
    "version": 3
   },
   "file_extension": ".py",
   "mimetype": "text/x-python",
   "name": "python",
   "nbconvert_exporter": "python",
   "pygments_lexer": "ipython3",
   "version": "3.8.3-final"
  }
 },
 "nbformat": 4,
 "nbformat_minor": 4
}