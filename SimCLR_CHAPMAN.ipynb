{
 "metadata": {
  "language_info": {
   "codemirror_mode": {
    "name": "ipython",
    "version": 3
   },
   "file_extension": ".py",
   "mimetype": "text/x-python",
   "name": "python",
   "nbconvert_exporter": "python",
   "pygments_lexer": "ipython3",
   "version": "3.8.3-final"
  },
  "orig_nbformat": 2,
  "kernelspec": {
   "name": "python3",
   "display_name": "Python 3",
   "language": "python"
  }
 },
 "nbformat": 4,
 "nbformat_minor": 2,
 "cells": [
  {
   "cell_type": "code",
   "execution_count": 1,
   "metadata": {},
   "outputs": [],
   "source": [
    "import pickle\n",
    "import scipy.constants\n",
    "import datetime\n",
    "import tensorflow as tf\n",
    "import numpy as np\n",
    "import tqdm\n",
    "import os\n",
    "import pandas as pd\n",
    "import random\n",
    "import sklearn.model_selection\n",
    "random.seed(42)"
   ]
  },
  {
   "cell_type": "code",
   "execution_count": 2,
   "metadata": {},
   "outputs": [],
   "source": [
    "import hchs_data_pre_processing\n",
    "import hchs_transformations\n",
    "import simclr_models\n",
    "import simclr_utitlities\n",
    "import simclr_predictions\n",
    "import chapman_data_pre_processing\n",
    "import chapman_transformations"
   ]
  },
  {
   "cell_type": "code",
   "execution_count": 25,
   "metadata": {},
   "outputs": [],
   "source": [
    "working_directory = 'test_run_chapman/'\n",
    "if not os.path.exists(working_directory):\n",
    "    os.makedirs(working_directory)\n",
    "dataset_save_path = os.path.join(os.getcwd(), \"PickledData\", \"chapman\")\n",
    "user_datasets_path = os.path.join(dataset_save_path, \"four_lead_user_datasets.pickle\")\n",
    "path_to_test_train_split_dict = os.path.join(dataset_save_path, \"test_train_split_dict.pickle\")\n",
    "path_to_patient_to_rhythm_dict = os.path.join(dataset_save_path, \"patient_to_rhythm_dict.pickle\")\n",
    "# for testing \n",
    "path_to_test_train_split_reduced_dict = os.path.join(dataset_save_path, '100_users_reduced_test_train_split_dict.pickle')\n",
    "path_to_reduced_four_lead_user_datasets = os.path.join(dataset_save_path, '100_users_datasets.pickle')\n",
    "\n",
    "testing = True\n",
    "if testing:\n",
    "    user_datasets_path = path_to_reduced_four_lead_user_datasets\n",
    "    test_train_split_dict_path = path_to_test_train_split_reduced_dict\n",
    "\n",
    "else:\n",
    "    user_datasets_path = user_datasets_path\n",
    "    test_train_split_dict_path = path_to_test_train_split_dict\n"
   ]
  },
  {
   "cell_type": "code",
   "execution_count": 4,
   "metadata": {},
   "outputs": [],
   "source": []
  },
  {
   "source": [
    "# Load Chapman Data"
   ],
   "cell_type": "markdown",
   "metadata": {}
  },
  {
   "cell_type": "code",
   "execution_count": 4,
   "metadata": {},
   "outputs": [],
   "source": [
    "# {patient_id:(data, leads)}\n",
    "# data of shape (4, 2500)\n",
    "with open(user_datasets_path, 'rb') as f:\n",
    "    user_datasets = pickle.load(f)"
   ]
  },
  {
   "cell_type": "code",
   "execution_count": 5,
   "metadata": {},
   "outputs": [
    {
     "output_type": "execute_result",
     "data": {
      "text/plain": [
       "(2500, 4)"
      ]
     },
     "metadata": {},
     "execution_count": 5
    }
   ],
   "source": [
    "sample_key = list(user_datasets.keys())[0]\n",
    "user_datasets[sample_key][0].shape"
   ]
  },
  {
   "source": [
    "# Pre Processing"
   ],
   "cell_type": "markdown",
   "metadata": {}
  },
  {
   "cell_type": "code",
   "execution_count": 6,
   "metadata": {},
   "outputs": [
    {
     "output_type": "stream",
     "name": "stdout",
     "text": [
      "Test Numbers: 20, Train Numbers: 80\n"
     ]
    }
   ],
   "source": [
    "# Parameters\n",
    "\n",
    "# CHECK\n",
    "number_of_leads = 4\n",
    "window_size = 200\n",
    "input_shape = (window_size, number_of_leads)\n",
    "\n",
    "# Dataset Metadata \n",
    "transformation_multiple = 1\n",
    "dataset_name = 'chapman.pkl'\n",
    "dataset_name_user_split = 'chapman_user_split.pkl'\n",
    "\n",
    "# label_list = [0, 1, 2, 3]\n",
    "# label_list_full_name = ['II', 'AVR', 'AVL', 'V2']\n",
    "# has_null_class = False\n",
    "\n",
    "# label_map = dict([(label, fullname) for label, fullname in zip(label_list, label_list_full_name)])\n",
    "# since we have already applied the encoding \n",
    "# label_map = dict([(label, label) for label in label_list])\n",
    "# output_shape = len(label_list)\n",
    "\n",
    "model_save_name = f\"chapman_acc\"\n",
    "\n",
    "\n",
    "unit_conversion = scipy.constants.g\n",
    "\n",
    "# a fixed user-split\n",
    "\n",
    "with open(test_train_split_dict_path, 'rb') as f:\n",
    "    test_train_user_dict = pickle.load(f)\n",
    "\n",
    "test_users = test_train_user_dict['test']\n",
    "train_users = test_train_user_dict['train']\n",
    "\n",
    "print(f'Test Numbers: {len(test_users)}, Train Numbers: {len(train_users)}')"
   ]
  },
  {
   "cell_type": "code",
   "execution_count": 7,
   "metadata": {},
   "outputs": [
    {
     "output_type": "execute_result",
     "data": {
      "text/plain": [
       "(24, 200, 4)"
      ]
     },
     "metadata": {},
     "execution_count": 7
    }
   ],
   "source": [
    "user_datasets_windowed = chapman_data_pre_processing.get_windows_dataset_from_user_list_format(user_datasets, window_size=window_size, shift=window_size//2)\n",
    "\n",
    "user_datasets_windowed[sample_key].shape"
   ]
  },
  {
   "cell_type": "code",
   "execution_count": 8,
   "metadata": {},
   "outputs": [
    {
     "output_type": "stream",
     "name": "stdout",
     "text": [
      "(24, 200, 4)\n(24, 200, 4)\n(24, 200, 4)\n(24, 200, 4)\n(24, 200, 4)\n(24, 200, 4)\n(24, 200, 4)\n(24, 200, 4)\n(24, 200, 4)\n(24, 200, 4)\n(24, 200, 4)\n(24, 200, 4)\n(24, 200, 4)\n(24, 200, 4)\n(24, 200, 4)\n(24, 200, 4)\n(24, 200, 4)\n(24, 200, 4)\n(24, 200, 4)\n(24, 200, 4)\n"
     ]
    }
   ],
   "source": [
    "for user in user_datasets_windowed.keys():\n",
    "    if user in test_users:\n",
    "        print(user_datasets_windowed[user].shape)"
   ]
  },
  {
   "cell_type": "code",
   "execution_count": 9,
   "metadata": {},
   "outputs": [
    {
     "output_type": "stream",
     "name": "stdout",
     "text": [
      "(1920, 200, 4)\n(480, 200, 4)\n"
     ]
    }
   ],
   "source": [
    "train_x, test_x = chapman_data_pre_processing.combine_windowed_dataset(user_datasets_windowed, train_users)\n",
    "\n",
    "print(train_x.shape)\n",
    "print(test_x.shape)"
   ]
  },
  {
   "cell_type": "code",
   "execution_count": 10,
   "metadata": {},
   "outputs": [],
   "source": [
    "train_val_x_split = np.split(train_x, [int(0.75*train_x.shape[0])])\n",
    "train_x_split, val_x_split = train_val_x_split[0], train_val_x_split[1]"
   ]
  },
  {
   "cell_type": "code",
   "execution_count": 11,
   "metadata": {},
   "outputs": [
    {
     "output_type": "stream",
     "name": "stdout",
     "text": [
      "(1440, 200, 4)\n(480, 200, 4)\n(480, 200, 4)\n"
     ]
    }
   ],
   "source": [
    "print(train_x_split.shape)\n",
    "print(val_x_split.shape)\n",
    "print(test_x.shape)"
   ]
  },
  {
   "cell_type": "code",
   "execution_count": 10,
   "metadata": {},
   "outputs": [],
   "source": [
    "user_windowed_list = chapman_data_pre_processing.get_window_to_user_mapping(user_datasets, train_users, test_users, window_size)"
   ]
  },
  {
   "cell_type": "code",
   "execution_count": 11,
   "metadata": {},
   "outputs": [],
   "source": [
    "train_window_list, val_window_list, test_window_list = user_windowed_list[0], user_windowed_list[1], user_windowed_list[2]"
   ]
  },
  {
   "cell_type": "code",
   "execution_count": 12,
   "metadata": {},
   "outputs": [
    {
     "output_type": "stream",
     "name": "stdout",
     "text": [
      "step 1 done\nstep 2 done\nstep 3 done\nstep 4 done\nstep 5 done\n(1440, 200, 4)\n(480, 200, 4)\n(480, 200, 4)\nstep 6 done\n(1440, 200, 4)\n(480, 200, 4)\n(480, 200, 4)\n"
     ]
    }
   ],
   "source": [
    "np_train, np_val, np_test = chapman_data_pre_processing.pre_process_dataset_composite(\n",
    "    user_datasets=user_datasets, \n",
    "    train_users=train_users, \n",
    "    test_users=test_users, \n",
    "    window_size=window_size, \n",
    "    shift=window_size//2, \n",
    "    normalise_dataset=True, \n",
    "    verbose=1\n",
    ")\n",
    "\n",
    "print(np_train.shape)\n",
    "print(np_val.shape)\n",
    "print(np_test.shape)"
   ]
  },
  {
   "cell_type": "code",
   "execution_count": 13,
   "metadata": {},
   "outputs": [],
   "source": [
    "# as suggested by Chen et al. in CLOCS \n",
    "batch_size = 256\n",
    "initial_learning_rate = 0.0001\n",
    "decay_steps = 1000\n",
    "if testing:\n",
    "    epochs = 3\n",
    "else:\n",
    "    epochs = 200\n",
    "\n",
    "temperature = 0.1\n",
    "trasnformation_indices = [1, 2] # Use Scaling and rotation trasnformation\n",
    "\n",
    "transform_funcs_vectorised = [\n",
    "    chapman_transformations.noise_transform_vectorized, \n",
    "    chapman_transformations.scaling_transform_vectorized, \n",
    "    chapman_transformations.negate_transform_vectorized, \n",
    "    chapman_transformations.time_flip_transform_vectorized, \n",
    "    chapman_transformations.time_segment_permutation_transform_improved, \n",
    "    chapman_transformations.time_warp_transform_low_cost, \n",
    "    chapman_transformations.channel_shuffle_transform_vectorized\n",
    "]\n",
    "# transform_funcs_names = ['noised', 'scaled', 'rotated', 'negated', 'time_flipped', 'permuted', 'time_warped', 'channel_shuffled']\n",
    "transform_funcs_names = ['noised', 'scaled', 'negated', 'time_flipped', 'permuted', 'time_warped', 'channel_shuffled']\n",
    "\n"
   ]
  },
  {
   "cell_type": "code",
   "execution_count": 14,
   "metadata": {},
   "outputs": [
    {
     "output_type": "stream",
     "name": "stdout",
     "text": [
      "20210227-163640\n",
      "<function scaling_transform_vectorized at 0x000001FFD13E0280>\n",
      "<function negate_transform_vectorized at 0x000001FFD13E0310>\n",
      "Model: \"base_model_simclr\"\n",
      "_________________________________________________________________\n",
      "Layer (type)                 Output Shape              Param #   \n",
      "=================================================================\n",
      "input (InputLayer)           [(None, 200, 4)]          0         \n",
      "_________________________________________________________________\n",
      "conv1d (Conv1D)              (None, 177, 32)           3104      \n",
      "_________________________________________________________________\n",
      "dropout (Dropout)            (None, 177, 32)           0         \n",
      "_________________________________________________________________\n",
      "conv1d_1 (Conv1D)            (None, 162, 64)           32832     \n",
      "_________________________________________________________________\n",
      "dropout_1 (Dropout)          (None, 162, 64)           0         \n",
      "_________________________________________________________________\n",
      "conv1d_2 (Conv1D)            (None, 155, 96)           49248     \n",
      "_________________________________________________________________\n",
      "dropout_2 (Dropout)          (None, 155, 96)           0         \n",
      "_________________________________________________________________\n",
      "global_max_pooling1d (Global (None, 96)                0         \n",
      "_________________________________________________________________\n",
      "dense (Dense)                (None, 256)               24832     \n",
      "_________________________________________________________________\n",
      "activation (Activation)      (None, 256)               0         \n",
      "_________________________________________________________________\n",
      "dense_1 (Dense)              (None, 128)               32896     \n",
      "_________________________________________________________________\n",
      "activation_1 (Activation)    (None, 128)               0         \n",
      "_________________________________________________________________\n",
      "dense_2 (Dense)              (None, 50)                6450      \n",
      "=================================================================\n",
      "Total params: 149,362\n",
      "Trainable params: 149,362\n",
      "Non-trainable params: 0\n",
      "_________________________________________________________________\n",
      "epoch: 1 loss: 12.296\n",
      "epoch: 2 loss: 12.313\n",
      "epoch: 3 loss: 12.305\n"
     ]
    }
   ],
   "source": [
    "start_time = datetime.datetime.now()\n",
    "start_time_str = start_time.strftime(\"%Y%m%d-%H%M%S\")\n",
    "print(start_time_str)\n",
    "tf.keras.backend.set_floatx('float32')\n",
    "\n",
    "lr_decayed_fn = tf.keras.experimental.CosineDecay(initial_learning_rate=initial_learning_rate, decay_steps=decay_steps)\n",
    "optimizer = tf.keras.optimizers.SGD(lr_decayed_fn)\n",
    "transformation_function = simclr_utitlities.generate_combined_transform_function(transform_funcs_vectorised, indices=trasnformation_indices)\n",
    "\n",
    "base_model = simclr_models.create_base_model(input_shape, model_name=\"base_model\")\n",
    "simclr_model = simclr_models.attach_simclr_head(base_model)\n",
    "simclr_model.summary()\n",
    "\n",
    "trained_simclr_model, epoch_losses = simclr_utitlities.simclr_train_model(simclr_model, np_train, optimizer, batch_size, transformation_function, temperature=temperature, epochs=epochs, is_trasnform_function_vectorized=True, verbose=1)\n",
    "\n",
    "simclr_model_save_path = f\"{working_directory}{start_time_str}_simclr.hdf5\"\n",
    "trained_simclr_model.save(simclr_model_save_path)\n",
    "\n"
   ]
  },
  {
   "cell_type": "code",
   "execution_count": 12,
   "metadata": {},
   "outputs": [],
   "source": [
    "\n",
    "# if testing:\n",
    "#     total_epochs = 3\n",
    "#     batch_size = 32\n",
    "# else:\n",
    "#     total_epochs = 50\n",
    "#     batch_size = 256\n",
    "# tag = \"linear_eval\"\n",
    "\n",
    "# simclr_model = tf.keras.models.load_model(simclr_model_save_path)\n",
    "# linear_evaluation_model = simclr_models.create_linear_model_from_base_model(simclr_model, output_shape, intermediate_layer=7)\n",
    "\n",
    "# best_model_file_name = f\"{working_directory}{start_time_str}_simclr_{tag}.hdf5\"\n",
    "# best_model_callback = tf.keras.callbacks.ModelCheckpoint(best_model_file_name,\n",
    "#     monitor='val_loss', mode='min', save_best_only=True, save_weights_only=False, verbose=0\n",
    "# )\n",
    "\n",
    "# training_history = linear_evaluation_model.fit(\n",
    "#     x = np_train[0],\n",
    "#     y = np_train[1],\n",
    "#     batch_size=batch_size,\n",
    "#     shuffle=True,\n",
    "#     epochs=total_epochs,\n",
    "#     callbacks=[best_model_callback],\n",
    "#     validation_data=np_val\n",
    "# )\n",
    "\n",
    "# best_model = tf.keras.models.load_model(best_model_file_name)\n",
    "\n",
    "# print(\"Model with lowest validation Loss:\")\n",
    "# print(simclr_utitlities.evaluate_model_simple(best_model.predict(np_test[0]), np_test[1], return_dict=True))\n",
    "# print(\"Model in last epoch\")\n",
    "# print(simclr_utitlities.evaluate_model_simple(linear_evaluation_model.predict(np_test[0]), np_test[1], return_dict=True))\n"
   ]
  },
  {
   "cell_type": "code",
   "execution_count": null,
   "metadata": {},
   "outputs": [],
   "source": [
    "print(\"starting tsne\")\n",
    "\n",
    "target_model = simclr_model \n",
    "perplexity = 30.0\n",
    "intermediate_model = simclr_models.extract_intermediate_model_from_base_model(target_model, intermediate_layer=7)\n",
    "intermediate_model.summary()\n",
    "\n",
    "embeddings = intermediate_model.predict(np_test[0], batch_size=batch_size)\n",
    "tsne_model = sklearn.manifold.TSNE(perplexity=perplexity, verbose=1, random_state=42)\n",
    "tsne_projections = tsne_model.fit_transform(embeddings)\n",
    "print(\"done projections\")\n",
    "\n",
    "labels_argmax = np.argmax(np_test[1], axis=1)\n",
    "unique_labels = np.unique(labels_argmax)\n",
    "\n",
    "plt.figure(figsize=(16,8))\n",
    "graph = sns.scatterplot(\n",
    "    x=tsne_projections[:,0], y=tsne_projections[:,1],\n",
    "    hue=labels_argmax,\n",
    "    palette=sns.color_palette(\"hsv\", len(unique_labels)),\n",
    "    s=50,\n",
    "    alpha=1.0,\n",
    "    rasterized=True\n",
    ")\n",
    "plt.xticks([], [])\n",
    "plt.yticks([], [])\n",
    "\n",
    "\n",
    "plt.legend(loc='lower left', bbox_to_anchor=(0.25, -0.3), ncol=2)\n",
    "legend = graph.legend_\n",
    "for j, label in enumerate(unique_labels):\n",
    "    legend.get_texts()[j].set_text(label_list_full_name[label]) \n",
    "\n",
    "tsne_save_name = f\"{start_time_str}_tsne.png\"\n",
    "tsne_plt_save_path = os.path.join(os.getcwd(), \"plots\", \"tsne\", \"chapman\", tsne_save_name)\n",
    "plt.savefig(tsne_plt_save_path)\n",
    "plt.show()"
   ]
  },
  {
   "cell_type": "code",
   "execution_count": 16,
   "metadata": {},
   "outputs": [
    {
     "output_type": "stream",
     "name": "stdout",
     "text": [
      "Model: \"base_model_simclr_layer_7\"\n_________________________________________________________________\nLayer (type)                 Output Shape              Param #   \n=================================================================\ninput (InputLayer)           [(None, 200, 4)]          0         \n_________________________________________________________________\nconv1d (Conv1D)              (None, 177, 32)           3104      \n_________________________________________________________________\ndropout (Dropout)            (None, 177, 32)           0         \n_________________________________________________________________\nconv1d_1 (Conv1D)            (None, 162, 64)           32832     \n_________________________________________________________________\ndropout_1 (Dropout)          (None, 162, 64)           0         \n_________________________________________________________________\nconv1d_2 (Conv1D)            (None, 155, 96)           49248     \n_________________________________________________________________\ndropout_2 (Dropout)          (None, 155, 96)           0         \n_________________________________________________________________\nglobal_max_pooling1d (Global (None, 96)                0         \n=================================================================\nTotal params: 85,184\nTrainable params: 85,184\nNon-trainable params: 0\n_________________________________________________________________\n"
     ]
    }
   ],
   "source": [
    "# get window to user mappings\n",
    "train_val_test_user_window_list = chapman_data_pre_processing.get_window_to_user_mapping(user_datasets, train_users, test_users, window_size)\n",
    "\n",
    "\n",
    "# get window level embeddings \n",
    "intermediate_model = simclr_models.extract_intermediate_model_from_base_model(trained_simclr_model, intermediate_layer=7)\n",
    "intermediate_model.summary()\n",
    "\n",
    "np_train_val_test = [np_train, np_val, np_test]\n",
    "\n",
    "embeddings_train_val_test_dataframes = []\n",
    "for np_dataset in np_train_val_test:\n",
    "    embedding = intermediate_model.predict(np_dataset, batch_size=batch_size)\n",
    "    embedding_dataframe = pd.DataFrame(embedding)\n",
    "    embeddings_train_val_test_dataframes.append(embedding_dataframe)"
   ]
  },
  {
   "cell_type": "code",
   "execution_count": 17,
   "metadata": {},
   "outputs": [],
   "source": [
    "aggregate = 'mean'\n",
    "train_val_test_user_level_activations = []\n",
    "for embedding_dataframe, user_window_list in zip(embeddings_train_val_test_dataframes, train_val_test_user_window_list):\n",
    "    embedding_dataframe.index = user_window_list\n",
    "    if aggregate == 'mean':\n",
    "        user_level_activation = embedding_dataframe.groupby(embedding_dataframe.index).mean()\n",
    "    elif aggregate == 'std':\n",
    "        user_level_activation = embedding_dataframe.groupby(embedding_dataframe.index).std()\n",
    "    elif aggregate == 'min':\n",
    "        user_level_activation = embedding_dataframe.groupby(embedding_dataframe.index).min()\n",
    "    elif aggregate == 'max':\n",
    "        user_level_activation = embedding_dataframe.groupby(embedding_dataframe.index).max()\n",
    "    else:\n",
    "        user_level_activation = embedding_dataframe.groupby(embedding_dataframe.index).median()\n",
    "\n",
    "    train_val_test_user_level_activations.append(user_level_activation)"
   ]
  },
  {
   "cell_type": "code",
   "execution_count": 26,
   "metadata": {},
   "outputs": [],
   "source": [
    "with open(path_to_patient_to_rhythm_dict, 'rb') as f:\n",
    "    patient_to_rhythm_dict = pickle.load(f)"
   ]
  },
  {
   "cell_type": "code",
   "execution_count": 29,
   "metadata": {},
   "outputs": [],
   "source": [
    "train_user_level_activations = train_val_test_user_level_activations[0]"
   ]
  },
  {
   "cell_type": "code",
   "execution_count": 35,
   "metadata": {},
   "outputs": [
    {
     "output_type": "execute_result",
     "data": {
      "text/plain": [
       "['GSVT',\n",
       " 'SB',\n",
       " 'SB',\n",
       " 'GSVT',\n",
       " 'AFIB',\n",
       " 'AFIB',\n",
       " 'SB',\n",
       " 'SR',\n",
       " 'SB',\n",
       " 'GSVT',\n",
       " 'AFIB',\n",
       " 'AFIB',\n",
       " 'GSVT',\n",
       " 'AFIB',\n",
       " 'SB',\n",
       " 'SR',\n",
       " 'SB',\n",
       " 'SB',\n",
       " 'SB',\n",
       " 'SB',\n",
       " 'AFIB',\n",
       " 'SB',\n",
       " 'GSVT',\n",
       " 'SB',\n",
       " 'SB',\n",
       " 'SB',\n",
       " 'GSVT',\n",
       " 'SB',\n",
       " 'SB',\n",
       " 'SB',\n",
       " 'AFIB',\n",
       " 'GSVT',\n",
       " 'AFIB',\n",
       " 'SB',\n",
       " 'SB',\n",
       " 'AFIB',\n",
       " 'GSVT',\n",
       " 'SB',\n",
       " 'AFIB',\n",
       " 'SB',\n",
       " 'SB',\n",
       " 'SB',\n",
       " 'SB',\n",
       " 'SB',\n",
       " 'SB',\n",
       " 'GSVT',\n",
       " 'SR',\n",
       " 'SR',\n",
       " 'SR',\n",
       " 'SR',\n",
       " 'SR',\n",
       " 'SR',\n",
       " 'SR',\n",
       " 'SR',\n",
       " 'SR',\n",
       " 'SR',\n",
       " 'GSVT',\n",
       " 'GSVT',\n",
       " 'GSVT',\n",
       " 'AFIB']"
      ]
     },
     "metadata": {},
     "execution_count": 35
    }
   ],
   "source": [
    "train_user_window_list = list(train_user_level_activations.index.values)\n",
    "label_list = [patient_to_rhythm_dict[user] for user in train_user_window_list]\n",
    "label_list"
   ]
  },
  {
   "cell_type": "code",
   "execution_count": null,
   "metadata": {},
   "outputs": [],
   "source": []
  }
 ]
}