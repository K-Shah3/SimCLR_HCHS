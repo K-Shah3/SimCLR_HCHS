{
 "metadata": {
  "language_info": {
   "codemirror_mode": {
    "name": "ipython",
    "version": 3
   },
   "file_extension": ".py",
   "mimetype": "text/x-python",
   "name": "python",
   "nbconvert_exporter": "python",
   "pygments_lexer": "ipython3",
   "version": "3.8.3-final"
  },
  "orig_nbformat": 2,
  "kernelspec": {
   "name": "python3",
   "display_name": "Python 3",
   "language": "python"
  }
 },
 "nbformat": 4,
 "nbformat_minor": 2,
 "cells": [
  {
   "cell_type": "code",
   "execution_count": 1,
   "metadata": {},
   "outputs": [],
   "source": [
    "import pickle\n",
    "import scipy.constants\n",
    "import datetime\n",
    "import tensorflow as tf\n",
    "import numpy as np\n",
    "import tqdm\n",
    "import os\n",
    "import pandas as pd\n",
    "import random\n",
    "random.seed(42)"
   ]
  },
  {
   "cell_type": "code",
   "execution_count": 2,
   "metadata": {},
   "outputs": [],
   "source": [
    "import hchs_data_pre_processing\n",
    "import hchs_transformations\n",
    "import simclr_models\n",
    "import simclr_utitlities\n",
    "import simclr_predictions"
   ]
  },
  {
   "cell_type": "code",
   "execution_count": 23,
   "metadata": {},
   "outputs": [],
   "source": [
    "working_directory = 'test_run_chapman/'\n",
    "dataset_save_path = os.path.join(os.getcwd(), \"PickledData\", \"chapman\")\n",
    "user_datasets_path = os.path.join(dataset_save_path, \"four_lead_user_datasets.pickle\")\n",
    "path_to_test_train_split_dict = os.path.join(dataset_save_path, \"test_train_split_dict.pickle\")\n",
    "# for testing \n",
    "path_to_test_train_split_reduced_dict = os.path.join(dataset_save_path, '100_users_reduced_test_train_split_dict.pickle')\n",
    "path_to_reduced_four_lead_user_datasets = os.path.join(dataset_save_path, '100_users_datasets.pickle')\n",
    "\n",
    "testing = True\n",
    "if testing:\n",
    "    user_datasets_path = path_to_reduced_four_lead_user_datasets\n",
    "    test_train_split_dict_path = path_to_test_train_split_reduced_dict\n",
    "\n",
    "else:\n",
    "    user_datasets_path = user_datasets_path\n",
    "    test_train_split_dict_path = path_to_test_train_split_dict\n"
   ]
  },
  {
   "source": [
    "# Load Chapman Data"
   ],
   "cell_type": "markdown",
   "metadata": {}
  },
  {
   "cell_type": "code",
   "execution_count": 24,
   "metadata": {},
   "outputs": [],
   "source": [
    "with open(user_datasets_path, 'rb') as f:\n",
    "    user_datasets = pickle.load(f)"
   ]
  },
  {
   "source": [
    "# Pre Processing"
   ],
   "cell_type": "markdown",
   "metadata": {}
  },
  {
   "cell_type": "code",
   "execution_count": 25,
   "metadata": {},
   "outputs": [
    {
     "output_type": "stream",
     "name": "stdout",
     "text": [
      "Test Numbers: 20, Train Numbers: 80\n"
     ]
    }
   ],
   "source": [
    "# Parameters\n",
    "\n",
    "# CHECK\n",
    "window_size = 2\n",
    "input_shape = (window_size, 2500)\n",
    "\n",
    "# Dataset Metadata \n",
    "transformation_multiple = 1\n",
    "dataset_name = 'chapman.pkl'\n",
    "dataset_name_user_split = 'chapman_user_split.pkl'\n",
    "\n",
    "label_list = [0, 1, 2, 3]\n",
    "label_list_full_name = ['II', 'AVR', 'AVL', 'V2']\n",
    "has_null_class = False\n",
    "\n",
    "# label_map = dict([(label, fullname) for label, fullname in zip(label_list, label_list_full_name)])\n",
    "# since we have already applied the encoding \n",
    "label_map = dict([(label, label) for label in label_list])\n",
    "output_shape = len(label_list)\n",
    "\n",
    "model_save_name = f\"chapman_acc\"\n",
    "\n",
    "\n",
    "unit_conversion = scipy.constants.g\n",
    "\n",
    "# a fixed user-split\n",
    "\n",
    "with open(test_train_split_dict_path, 'rb') as f:\n",
    "    test_train_user_dict = pickle.load(f)\n",
    "\n",
    "test_users = test_train_user_dict['test']\n",
    "train_users = test_train_user_dict['train']\n",
    "\n",
    "print(f'Test Numbers: {len(test_users)}, Train Numbers: {len(train_users)}')"
   ]
  },
  {
   "cell_type": "code",
   "execution_count": 26,
   "metadata": {},
   "outputs": [
    {
     "output_type": "stream",
     "name": "stdout",
     "text": [
      "step 1 done\nstep 2 done\nstep 3 done\nTest\n(array([0, 1, 2]), array([20, 20, 20], dtype=int64))\n(array([0, 1, 2]), array([20, 20, 20], dtype=int64))\n-----------------\nTrain\n(array([0, 1, 2]), array([80, 80, 80], dtype=int64))\n(array([0, 1, 2]), array([80, 80, 80], dtype=int64))\n-----------------\nstep 4 done\nstep 5 done\n(192, 2, 2500)\n(48, 2, 2500)\n(60, 2, 2500)\nstep 6 done\n"
     ]
    }
   ],
   "source": [
    "np_train, np_val, np_test = hchs_data_pre_processing.pre_process_dataset_composite(\n",
    "    user_datasets=user_datasets, \n",
    "    label_map=label_map, \n",
    "    output_shape=output_shape, \n",
    "    train_users=train_users, \n",
    "    test_users=test_users, \n",
    "    window_size=window_size, \n",
    "    shift=window_size//2, \n",
    "    normalise_dataset=True, \n",
    "    verbose=1\n",
    ")"
   ]
  },
  {
   "cell_type": "code",
   "execution_count": 27,
   "metadata": {},
   "outputs": [],
   "source": [
    "batch_size = 32\n",
    "decay_steps = 1000\n",
    "if testing:\n",
    "    epochs = 3\n",
    "else:\n",
    "    epochs = 200\n",
    "\n",
    "temperature = 0.1\n",
    "trasnformation_indices = [1, 2] # Use Scaling and rotation trasnformation\n",
    "\n",
    "transform_funcs_vectorised = [\n",
    "    hchs_transformations.noise_transform_vectorized, \n",
    "    hchs_transformations.scaling_transform_vectorized, \n",
    "    # transformations.rotation_transform_vectorized, \n",
    "    hchs_transformations.negate_transform_vectorized, \n",
    "    hchs_transformations.time_flip_transform_vectorized, \n",
    "    hchs_transformations.time_segment_permutation_transform_improved, \n",
    "    hchs_transformations.time_warp_transform_low_cost, \n",
    "    hchs_transformations.channel_shuffle_transform_vectorized\n",
    "]\n",
    "# transform_funcs_names = ['noised', 'scaled', 'rotated', 'negated', 'time_flipped', 'permuted', 'time_warped', 'channel_shuffled']\n",
    "transform_funcs_names = ['noised', 'scaled', 'negated', 'time_flipped', 'permuted', 'time_warped', 'channel_shuffled']\n",
    "\n"
   ]
  },
  {
   "cell_type": "code",
   "execution_count": 35,
   "metadata": {},
   "outputs": [
    {
     "output_type": "stream",
     "name": "stdout",
     "text": [
      "<function scaling_transform_vectorized at 0x000001AE24B02E50>\n",
      "<function negate_transform_vectorized at 0x000001AE24B02EE0>\n",
      "Model: \"base_model_simclr\"\n",
      "_________________________________________________________________\n",
      "Layer (type)                 Output Shape              Param #   \n",
      "=================================================================\n",
      "input (InputLayer)           [(None, 500, 12)]         0         \n",
      "_________________________________________________________________\n",
      "conv1d_3 (Conv1D)            (None, 477, 32)           9248      \n",
      "_________________________________________________________________\n",
      "dropout_3 (Dropout)          (None, 477, 32)           0         \n",
      "_________________________________________________________________\n",
      "conv1d_4 (Conv1D)            (None, 462, 64)           32832     \n",
      "_________________________________________________________________\n",
      "dropout_4 (Dropout)          (None, 462, 64)           0         \n",
      "_________________________________________________________________\n",
      "conv1d_5 (Conv1D)            (None, 455, 96)           49248     \n",
      "_________________________________________________________________\n",
      "dropout_5 (Dropout)          (None, 455, 96)           0         \n",
      "_________________________________________________________________\n",
      "global_max_pooling1d (Global (None, 96)                0         \n",
      "_________________________________________________________________\n",
      "dense_4 (Dense)              (None, 256)               24832     \n",
      "_________________________________________________________________\n",
      "activation_2 (Activation)    (None, 256)               0         \n",
      "_________________________________________________________________\n",
      "dense_5 (Dense)              (None, 128)               32896     \n",
      "_________________________________________________________________\n",
      "activation_3 (Activation)    (None, 128)               0         \n",
      "_________________________________________________________________\n",
      "dense_6 (Dense)              (None, 50)                6450      \n",
      "=================================================================\n",
      "Total params: 155,506\n",
      "Trainable params: 155,506\n",
      "Non-trainable params: 0\n",
      "_________________________________________________________________\n",
      "epoch: 1 loss: nan\n",
      "epoch: 2 loss: nan\n",
      "epoch: 3 loss: nan\n",
      "epoch: 4 loss: nan\n",
      "epoch: 5 loss: nan\n",
      "epoch: 6 loss: nan\n",
      "epoch: 7 loss: nan\n",
      "epoch: 8 loss: nan\n",
      "epoch: 9 loss: nan\n",
      "epoch: 10 loss: nan\n",
      "epoch: 11 loss: nan\n",
      "epoch: 12 loss: nan\n",
      "epoch: 13 loss: nan\n",
      "epoch: 14 loss: nan\n",
      "epoch: 15 loss: nan\n",
      "epoch: 16 loss: nan\n",
      "epoch: 17 loss: nan\n",
      "epoch: 18 loss: nan\n",
      "epoch: 19 loss: nan\n",
      "epoch: 20 loss: nan\n"
     ]
    }
   ],
   "source": [
    "start_time = datetime.datetime.now()\n",
    "start_time_str = start_time.strftime(\"%Y%m%d-%H%M%S\")\n",
    "tf.keras.backend.set_floatx('float32')\n",
    "\n",
    "lr_decayed_fn = tf.keras.experimental.CosineDecay(initial_learning_rate=0.1, decay_steps=decay_steps)\n",
    "optimizer = tf.keras.optimizers.SGD(lr_decayed_fn)\n",
    "transformation_function = simclr_utitlities.generate_combined_transform_function(transform_funcs_vectorised, indices=trasnformation_indices)\n",
    "\n",
    "base_model = simclr_models.create_base_model(input_shape, model_name=\"base_model\")\n",
    "simclr_model = simclr_models.attach_simclr_head(base_model)\n",
    "simclr_model.summary()\n",
    "\n",
    "trained_simclr_model, epoch_losses = simclr_utitlities.simclr_train_model(simclr_model, np_train[0], optimizer, batch_size, transformation_function, temperature=temperature, epochs=epochs, is_trasnform_function_vectorized=True, verbose=1)\n",
    "\n",
    "simclr_model_save_path = f\"{working_directory}{start_time_str}_simclr.hdf5\"\n",
    "trained_simclr_model.save(simclr_model_save_path)\n",
    "\n"
   ]
  },
  {
   "cell_type": "code",
   "execution_count": 12,
   "metadata": {},
   "outputs": [],
   "source": [
    "\n",
    "if testing:\n",
    "    total_epochs = 3\n",
    "    batch_size = 32\n",
    "else:\n",
    "    total_epochs = 50\n",
    "    batch_size = 200\n",
    "tag = \"linear_eval\"\n",
    "\n",
    "simclr_model = tf.keras.models.load_model(simclr_model_save_path)\n",
    "linear_evaluation_model = simclr_models.create_linear_model_from_base_model(simclr_model, output_shape, intermediate_layer=7)\n",
    "\n",
    "best_model_file_name = f\"{working_directory}{start_time_str}_simclr_{tag}.hdf5\"\n",
    "best_model_callback = tf.keras.callbacks.ModelCheckpoint(best_model_file_name,\n",
    "    monitor='val_loss', mode='min', save_best_only=True, save_weights_only=False, verbose=0\n",
    ")\n",
    "\n",
    "training_history = linear_evaluation_model.fit(\n",
    "    x = np_train[0],\n",
    "    y = np_train[1],\n",
    "    batch_size=batch_size,\n",
    "    shuffle=True,\n",
    "    epochs=total_epochs,\n",
    "    callbacks=[best_model_callback],\n",
    "    validation_data=np_val\n",
    ")\n",
    "\n",
    "best_model = tf.keras.models.load_model(best_model_file_name)\n",
    "\n",
    "print(\"Model with lowest validation Loss:\")\n",
    "print(simclr_utitlities.evaluate_model_simple(best_model.predict(np_test[0]), np_test[1], return_dict=True))\n",
    "print(\"Model in last epoch\")\n",
    "print(simclr_utitlities.evaluate_model_simple(linear_evaluation_model.predict(np_test[0]), np_test[1], return_dict=True))\n"
   ]
  },
  {
   "cell_type": "code",
   "execution_count": null,
   "metadata": {},
   "outputs": [],
   "source": [
    "print(\"starting tsne\")\n",
    "\n",
    "target_model = simclr_model \n",
    "perplexity = 30.0\n",
    "intermediate_model = simclr_models.extract_intermediate_model_from_base_model(target_model, intermediate_layer=7)\n",
    "intermediate_model.summary()\n",
    "\n",
    "embeddings = intermediate_model.predict(np_test[0], batch_size=batch_size)\n",
    "tsne_model = sklearn.manifold.TSNE(perplexity=perplexity, verbose=1, random_state=42)\n",
    "tsne_projections = tsne_model.fit_transform(embeddings)\n",
    "print(\"done projections\")\n",
    "\n",
    "labels_argmax = np.argmax(np_test[1], axis=1)\n",
    "unique_labels = np.unique(labels_argmax)\n",
    "\n",
    "plt.figure(figsize=(16,8))\n",
    "graph = sns.scatterplot(\n",
    "    x=tsne_projections[:,0], y=tsne_projections[:,1],\n",
    "    hue=labels_argmax,\n",
    "    palette=sns.color_palette(\"hsv\", len(unique_labels)),\n",
    "    s=50,\n",
    "    alpha=1.0,\n",
    "    rasterized=True\n",
    ")\n",
    "plt.xticks([], [])\n",
    "plt.yticks([], [])\n",
    "\n",
    "\n",
    "plt.legend(loc='lower left', bbox_to_anchor=(0.25, -0.3), ncol=2)\n",
    "legend = graph.legend_\n",
    "for j, label in enumerate(unique_labels):\n",
    "    legend.get_texts()[j].set_text(label_list_full_name[label]) \n",
    "\n",
    "tsne_save_name = f\"{start_time_str}_tsne.png\"\n",
    "tsne_plt_save_path = os.path.join(os.getcwd(), \"plots\", \"tsne\", \"chapman\", tsne_save_name)\n",
    "plt.savefig(tsne_plt_save_path)\n",
    "plt.show()"
   ]
  }
 ]
}