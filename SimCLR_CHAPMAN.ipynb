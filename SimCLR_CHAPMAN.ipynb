{
 "metadata": {
  "language_info": {
   "codemirror_mode": {
    "name": "ipython",
    "version": 3
   },
   "file_extension": ".py",
   "mimetype": "text/x-python",
   "name": "python",
   "nbconvert_exporter": "python",
   "pygments_lexer": "ipython3",
   "version": "3.8.3-final"
  },
  "orig_nbformat": 2,
  "kernelspec": {
   "name": "python3",
   "display_name": "Python 3",
   "language": "python"
  }
 },
 "nbformat": 4,
 "nbformat_minor": 2,
 "cells": [
  {
   "cell_type": "code",
   "execution_count": 1,
   "metadata": {},
   "outputs": [],
   "source": [
    "import pickle\n",
    "import scipy.constants\n",
    "import datetime\n",
    "import tensorflow as tf\n",
    "import numpy as np\n",
    "import tqdm\n",
    "import os\n",
    "import pandas as pd\n",
    "import random\n",
    "random.seed(42)"
   ]
  },
  {
   "cell_type": "code",
   "execution_count": 2,
   "metadata": {},
   "outputs": [],
   "source": [
    "import hchs_data_pre_processing\n",
    "import hchs_transformations\n",
    "import simclr_models\n",
    "import simclr_utitlities"
   ]
  },
  {
   "cell_type": "code",
   "execution_count": 3,
   "metadata": {},
   "outputs": [],
   "source": [
    "working_directory = 'test_run_chapman/'\n",
    "dataset_save_path = os.path.join(os.getcwd(), \"PickledData\", \"chapman\")\n",
    "# user_datasets_path = os.path.join(dataset_save_path, \"patient_to_data_label_dict.pickle\")\n",
    "user_datasets_path = os.path.join(dataset_save_path, \"patient_to_data_label_per_row_dict.pickle\")\n",
    "\n",
    "# user_dataset_resized_path = os.path.join(dataset_save_path, \"user_dataset_resized.pickle\")\n",
    "path_to_test_train_split_dict = os.path.join(dataset_save_path, \"test_train_split_dict.pickle\")\n",
    "path_to_reduced_test_train_split_dict = os.path.join(dataset_save_path, \"reduced_test_train_split_dict.pickle\")\n",
    "sample_key = 163225\n",
    "path_to_np_train = os.path.join(dataset_save_path, \"np_train.pickle\")\n",
    "path_to_np_test = os.path.join(dataset_save_path, \"np_test.pickle\")\n",
    "path_to_np_val = os.path.join(dataset_save_path, \"np_val.pickle\")\n"
   ]
  },
  {
   "source": [
    "# Load Chapman Data"
   ],
   "cell_type": "markdown",
   "metadata": {}
  },
  {
   "cell_type": "code",
   "execution_count": 4,
   "metadata": {},
   "outputs": [],
   "source": [
    "with open(user_datasets_path, 'rb') as f:\n",
    "    user_datasets = pickle.load(f)"
   ]
  },
  {
   "cell_type": "code",
   "execution_count": 10,
   "metadata": {},
   "outputs": [
    {
     "output_type": "stream",
     "name": "stdout",
     "text": [
      "['MUSE_20180113_073909_10000', 'MUSE_20180118_170931_17000', 'MUSE_20180118_132445_87000', 'MUSE_20180112_140548_57000', 'MUSE_20180114_130112_33000', 'MUSE_20180113_075301_94000', 'MUSE_20180209_171512_54000', 'MUSE_20180118_134301_96000', 'MUSE_20180112_133201_32000', 'MUSE_20180209_175337_71000']\n"
     ]
    }
   ],
   "source": [
    "sample_key = random.sample(user_datasets.keys(), 1)[0]\n",
    "sample_keys = random.sample(user_datasets.keys(), 10)\n",
    "print(sample_keys)"
   ]
  },
  {
   "cell_type": "code",
   "execution_count": 11,
   "metadata": {},
   "outputs": [
    {
     "output_type": "stream",
     "name": "stdout",
     "text": [
      "[2 2 2 ... 2 2 2]\n[3 3 3 ... 3 3 3]\n[1 1 1 ... 1 1 1]\n[0 0 0 ... 0 0 0]\n[3 3 3 ... 3 3 3]\n[2 2 2 ... 2 2 2]\n[3 3 3 ... 3 3 3]\n[2 2 2 ... 2 2 2]\n[1 1 1 ... 1 1 1]\n[3 3 3 ... 3 3 3]\n"
     ]
    }
   ],
   "source": [
    "for sample_key in sample_keys:\n",
    "    print(user_datasets[sample_key][1])"
   ]
  },
  {
   "source": [
    "# Pre Processing"
   ],
   "cell_type": "markdown",
   "metadata": {}
  },
  {
   "cell_type": "code",
   "execution_count": 29,
   "metadata": {},
   "outputs": [
    {
     "output_type": "stream",
     "name": "stdout",
     "text": [
      "Test Numbers: 2, Train Numbers: 8\n"
     ]
    }
   ],
   "source": [
    "# Parameters\n",
    "\n",
    "# corresponds to 1 second of data\n",
    "window_size = 500\n",
    "input_shape = (window_size, 12)\n",
    "\n",
    "# Dataset Metadata \n",
    "transformation_multiple = 1\n",
    "dataset_name = 'chapman.pkl'\n",
    "dataset_name_user_split = 'chapman_user_split.pkl'\n",
    "\n",
    "label_list = [0, 1, 2, 3]\n",
    "label_list_full_name = ['AFIB', 'GSVT', 'SB', 'SR']\n",
    "has_null_class = False\n",
    "\n",
    "# label_map = dict([(label, fullname) for label, fullname in zip(label_list, label_list_full_name)])\n",
    "# since we have already applied the encoding \n",
    "label_map = dict([(label, label) for label in label_list])\n",
    "output_shape = len(label_list)\n",
    "\n",
    "model_save_name = f\"chapman_acc\"\n",
    "\n",
    "sampling_rate = 50.0\n",
    "unit_conversion = scipy.constants.g\n",
    "\n",
    "# a fixed user-split\n",
    "\n",
    "with open(path_to_test_train_split_dict, 'rb') as f:\n",
    "    test_train_user_dict = pickle.load(f)\n",
    "\n",
    "test_users = test_train_user_dict['test']\n",
    "train_users = test_train_user_dict['train']\n",
    "\n",
    "print(f'Test Numbers: {len(test_users)}, Train Numbers: {len(train_users)}')"
   ]
  },
  {
   "cell_type": "code",
   "execution_count": 30,
   "metadata": {},
   "outputs": [
    {
     "output_type": "stream",
     "name": "stdout",
     "text": [
      "step 1 done\n",
      "step 2 done\n",
      "step 3 done\n",
      "Test\n",
      "(array([0, 1, 2, 3]), array([42237, 43776, 73872, 42237], dtype=int64))\n",
      "(array([0, 1, 2, 3]), array([42237, 43776, 73872, 42237], dtype=int64))\n",
      "-----------------\n",
      "Train\n",
      "(array([0, 1, 2, 3]), array([38, 57, 19, 38], dtype=int64))\n",
      "(array([0, 1, 2, 3]), array([38, 57, 19, 38], dtype=int64))\n",
      "-----------------\n",
      "step 4 done\n",
      "step 5 done\n",
      "(121, 500, 12)\n",
      "(31, 500, 12)\n",
      "(202122, 500, 12)\n",
      "step 6 done\n"
     ]
    }
   ],
   "source": [
    "np_train, np_val, np_test = hchs_data_pre_processing.pre_process_dataset_composite(\n",
    "    user_datasets=user_datasets, \n",
    "    label_map=label_map, \n",
    "    output_shape=output_shape, \n",
    "    train_users=train_users, \n",
    "    test_users=test_users, \n",
    "    window_size=window_size, \n",
    "    shift=window_size//2, \n",
    "    normalise_dataset=True, \n",
    "    verbose=1\n",
    ")"
   ]
  },
  {
   "cell_type": "code",
   "execution_count": 34,
   "metadata": {},
   "outputs": [],
   "source": [
    "batch_size = 512\n",
    "decay_steps = 1000\n",
    "epochs = 200\n",
    "# epochs = 20\n",
    "temperature = 0.1\n",
    "trasnformation_indices = [1, 2] # Use Scaling and rotation trasnformation\n",
    "\n",
    "transform_funcs_vectorised = [\n",
    "    hchs_transformations.noise_transform_vectorized, \n",
    "    hchs_transformations.scaling_transform_vectorized, \n",
    "    # transformations.rotation_transform_vectorized, \n",
    "    hchs_transformations.negate_transform_vectorized, \n",
    "    hchs_transformations.time_flip_transform_vectorized, \n",
    "    hchs_transformations.time_segment_permutation_transform_improved, \n",
    "    hchs_transformations.time_warp_transform_low_cost, \n",
    "    hchs_transformations.channel_shuffle_transform_vectorized\n",
    "]\n",
    "# transform_funcs_names = ['noised', 'scaled', 'rotated', 'negated', 'time_flipped', 'permuted', 'time_warped', 'channel_shuffled']\n",
    "transform_funcs_names = ['noised', 'scaled', 'negated', 'time_flipped', 'permuted', 'time_warped', 'channel_shuffled']\n",
    "\n"
   ]
  },
  {
   "cell_type": "code",
   "execution_count": 35,
   "metadata": {},
   "outputs": [
    {
     "output_type": "stream",
     "name": "stdout",
     "text": [
      "<function scaling_transform_vectorized at 0x000001AE24B02E50>\n",
      "<function negate_transform_vectorized at 0x000001AE24B02EE0>\n",
      "Model: \"base_model_simclr\"\n",
      "_________________________________________________________________\n",
      "Layer (type)                 Output Shape              Param #   \n",
      "=================================================================\n",
      "input (InputLayer)           [(None, 500, 12)]         0         \n",
      "_________________________________________________________________\n",
      "conv1d_3 (Conv1D)            (None, 477, 32)           9248      \n",
      "_________________________________________________________________\n",
      "dropout_3 (Dropout)          (None, 477, 32)           0         \n",
      "_________________________________________________________________\n",
      "conv1d_4 (Conv1D)            (None, 462, 64)           32832     \n",
      "_________________________________________________________________\n",
      "dropout_4 (Dropout)          (None, 462, 64)           0         \n",
      "_________________________________________________________________\n",
      "conv1d_5 (Conv1D)            (None, 455, 96)           49248     \n",
      "_________________________________________________________________\n",
      "dropout_5 (Dropout)          (None, 455, 96)           0         \n",
      "_________________________________________________________________\n",
      "global_max_pooling1d (Global (None, 96)                0         \n",
      "_________________________________________________________________\n",
      "dense_4 (Dense)              (None, 256)               24832     \n",
      "_________________________________________________________________\n",
      "activation_2 (Activation)    (None, 256)               0         \n",
      "_________________________________________________________________\n",
      "dense_5 (Dense)              (None, 128)               32896     \n",
      "_________________________________________________________________\n",
      "activation_3 (Activation)    (None, 128)               0         \n",
      "_________________________________________________________________\n",
      "dense_6 (Dense)              (None, 50)                6450      \n",
      "=================================================================\n",
      "Total params: 155,506\n",
      "Trainable params: 155,506\n",
      "Non-trainable params: 0\n",
      "_________________________________________________________________\n",
      "epoch: 1 loss: nan\n",
      "epoch: 2 loss: nan\n",
      "epoch: 3 loss: nan\n",
      "epoch: 4 loss: nan\n",
      "epoch: 5 loss: nan\n",
      "epoch: 6 loss: nan\n",
      "epoch: 7 loss: nan\n",
      "epoch: 8 loss: nan\n",
      "epoch: 9 loss: nan\n",
      "epoch: 10 loss: nan\n",
      "epoch: 11 loss: nan\n",
      "epoch: 12 loss: nan\n",
      "epoch: 13 loss: nan\n",
      "epoch: 14 loss: nan\n",
      "epoch: 15 loss: nan\n",
      "epoch: 16 loss: nan\n",
      "epoch: 17 loss: nan\n",
      "epoch: 18 loss: nan\n",
      "epoch: 19 loss: nan\n",
      "epoch: 20 loss: nan\n"
     ]
    }
   ],
   "source": [
    "start_time = datetime.datetime.now()\n",
    "start_time_str = start_time.strftime(\"%Y%m%d-%H%M%S\")\n",
    "tf.keras.backend.set_floatx('float32')\n",
    "\n",
    "lr_decayed_fn = tf.keras.experimental.CosineDecay(initial_learning_rate=0.1, decay_steps=decay_steps)\n",
    "optimizer = tf.keras.optimizers.SGD(lr_decayed_fn)\n",
    "transformation_function = simclr_utitlities.generate_combined_transform_function(transform_funcs_vectorised, indices=trasnformation_indices)\n",
    "\n",
    "base_model = simclr_models.create_base_model(input_shape, model_name=\"base_model\")\n",
    "simclr_model = simclr_models.attach_simclr_head(base_model)\n",
    "simclr_model.summary()\n",
    "\n",
    "trained_simclr_model, epoch_losses = simclr_utitlities.simclr_train_model(simclr_model, np_train[0], optimizer, batch_size, transformation_function, temperature=temperature, epochs=epochs, is_trasnform_function_vectorized=True, verbose=1)\n",
    "\n",
    "simclr_model_save_path = f\"{working_directory}{start_time_str}_simclr.hdf5\"\n",
    "trained_simclr_model.save(simclr_model_save_path)\n",
    "\n"
   ]
  },
  {
   "cell_type": "code",
   "execution_count": 12,
   "metadata": {},
   "outputs": [],
   "source": [
    "\n",
    "total_epochs = 50\n",
    "batch_size = 200\n",
    "tag = \"linear_eval\"\n",
    "\n",
    "simclr_model = tf.keras.models.load_model(simclr_model_save_path)\n",
    "linear_evaluation_model = simclr_models.create_linear_model_from_base_model(simclr_model, output_shape, intermediate_layer=7)\n",
    "\n",
    "best_model_file_name = f\"{working_directory}{start_time_str}_simclr_{tag}.hdf5\"\n",
    "best_model_callback = tf.keras.callbacks.ModelCheckpoint(best_model_file_name,\n",
    "    monitor='val_loss', mode='min', save_best_only=True, save_weights_only=False, verbose=0\n",
    ")\n",
    "\n",
    "training_history = linear_evaluation_model.fit(\n",
    "    x = np_train[0],\n",
    "    y = np_train[1],\n",
    "    batch_size=batch_size,\n",
    "    shuffle=True,\n",
    "    epochs=total_epochs,\n",
    "    callbacks=[best_model_callback],\n",
    "    validation_data=np_val\n",
    ")\n",
    "\n",
    "best_model = tf.keras.models.load_model(best_model_file_name)\n",
    "\n",
    "print(\"Model with lowest validation Loss:\")\n",
    "print(simclr_utitlities.evaluate_model_simple(best_model.predict(np_test[0]), np_test[1], return_dict=True))\n",
    "print(\"Model in last epoch\")\n",
    "print(simclr_utitlities.evaluate_model_simple(linear_evaluation_model.predict(np_test[0]), np_test[1], return_dict=True))\n"
   ]
  },
  {
   "cell_type": "code",
   "execution_count": null,
   "metadata": {},
   "outputs": [],
   "source": []
  }
 ]
}