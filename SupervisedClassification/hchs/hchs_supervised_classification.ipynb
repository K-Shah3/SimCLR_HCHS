{
 "metadata": {
  "language_info": {
   "codemirror_mode": {
    "name": "ipython",
    "version": 3
   },
   "file_extension": ".py",
   "mimetype": "text/x-python",
   "name": "python",
   "nbconvert_exporter": "python",
   "pygments_lexer": "ipython3",
   "version": "3.8.3-final"
  },
  "orig_nbformat": 2,
  "kernelspec": {
   "name": "python3",
   "display_name": "Python 3",
   "language": "python"
  }
 },
 "nbformat": 4,
 "nbformat_minor": 2,
 "cells": [
  {
   "cell_type": "code",
   "execution_count": 1,
   "metadata": {},
   "outputs": [],
   "source": [
    "%load_ext autoreload\n",
    "%autoreload 2"
   ]
  },
  {
   "cell_type": "code",
   "execution_count": 2,
   "metadata": {},
   "outputs": [],
   "source": [
    "import os\n",
    "import pickle\n",
    "import scipy\n",
    "import datetime\n",
    "import numpy as np\n",
    "import tensorflow as tf\n",
    "import pandas as pd\n",
    "import tqdm\n",
    "import matplotlib.pyplot as plt\n",
    "from matplotlib.lines import Line2D\n",
    "import random\n",
    "import sklearn.linear_model\n",
    "import scipy.optimize\n",
    "import sklearn.decomposition\n",
    "import sklearn.manifold\n",
    "import sklearn.model_selection"
   ]
  },
  {
   "cell_type": "code",
   "execution_count": 3,
   "metadata": {},
   "outputs": [],
   "source": [
    "# Libraries for plotting\n",
    "import matplotlib as mpl\n",
    "import matplotlib.pyplot as plt\n",
    "import seaborn as sns\n",
    "import sklearn.manifold\n",
    "\n",
    "sns.set_context('poster')"
   ]
  },
  {
   "cell_type": "code",
   "execution_count": 38,
   "metadata": {},
   "outputs": [],
   "source": [
    "path_to_simclr_hchs = os.path.dirname(os.path.dirname(os.getcwd()))\n",
    "path_to_hchs_dataset = os.path.join(os.path.dirname(path_to_simclr_hchs), \"Datasets\", \"hchs\")\n",
    "path_to_actigraphy_data = os.path.join(path_to_hchs_dataset, \"actigraphy\")\n",
    "path_to_baseline_dataset = os.path.join(path_to_hchs_dataset, \"datasets\", \"hchs-sol-baseline-dataset-0.5.0.csv\")\n",
    "path_to_sueno_dataset = os.path.join(path_to_hchs_dataset, \"datasets\", \"hchs-sol-sueno-ancillary-dataset-0.5.0.csv\")\n",
    "dataset_save_path = os.path.join(path_to_simclr_hchs, \"PickledData\", \"hchs\")\n",
    "user_dataset_path = os.path.join(dataset_save_path, \"user_dataset_resized.pickle\")\n",
    "path_to_baseline_sueno_merge_no_na = os.path.join(dataset_save_path, \"baseline_sueno_merge_no_na.pickle\")"
   ]
  },
  {
   "cell_type": "code",
   "execution_count": 5,
   "metadata": {},
   "outputs": [
    {
     "output_type": "execute_result",
     "data": {
      "text/plain": [
       "'c:\\\\Users\\\\Kevalee Shah\\\\Documents\\\\Cambridge\\\\Part II\\\\Project\\\\SimCLR HCHS\\\\PickledData\\\\hchs\\\\user_dataset_resized.pickle'"
      ]
     },
     "metadata": {},
     "execution_count": 5
    }
   ],
   "source": [
    "user_dataset_path"
   ]
  },
  {
   "cell_type": "code",
   "execution_count": 6,
   "metadata": {},
   "outputs": [],
   "source": [
    "disease_labels = {'diabetes': {1: 'Non-diabetic', 2: 'Pre-diabetic', 3: 'Diabetic'}, 'sleep_apnea': {0: 'No', 1: 'Yes'}, 'hypertension': {0: 'No', 1: 'Yes'}, 'metabolic_syndrome': {0: 'No', 1: 'Yes'}, 'insomnia': {1: 'No clinically significant insomnia', 2: 'Subthreshold insomnia', 3: 'Clinical insomnia'}, 'gender': {0: 'female', 1: 'male'}}\n"
   ]
  },
  {
   "cell_type": "code",
   "execution_count": 7,
   "metadata": {},
   "outputs": [],
   "source": [
    "with open(user_dataset_path, 'rb') as f:\n",
    "    user_dataset = pickle.load(f)\n",
    "\n",
    "user_dataset_lists = [data[0] for key, data in user_dataset.items()]\n",
    "sample_key = 163225"
   ]
  },
  {
   "cell_type": "code",
   "execution_count": 39,
   "metadata": {},
   "outputs": [],
   "source": [
    "features_dataframe = pd.DataFrame.from_dict(user_dataset, orient='index',columns=['data', 'activity_label'])\n",
    "baseline_data = pd.read_csv(path_to_baseline_dataset, dtype={\"HEIGHT\": float, \"AGE\":float, \"BMI\": float, \"GENDER\": str, \"METS_NCEP\":float, \"HYPERTENSION\":float, \"DIABETES3\":float, \"AHI_GE15\":float}, low_memory=False)\n",
    "baseline_dataset_filtered = baseline_data[baseline_data['pid'].isin(user_dataset_features.keys())]\n",
    "\n",
    "columns_of_interest = [\"pid\", \"AGE\", \"GENDERNUM\", \"HEIGHT\", \"BMI\", \"DIABETES3\", \"HYPERTENSION\", \"AHI_GE15\", \"METS_NCEP\"]\n",
    "\n",
    "baselined_dataset_filtered_cols_of_interest = baseline_dataset_filtered[[c for c in baseline_dataset_filtered.columns if c in columns_of_interest]]\n",
    "\n",
    "sueno_dataset = pd.read_csv(path_to_sueno_dataset, low_memory=False)\n",
    "sueno_dataset_filtered = sueno_dataset[sueno_dataset['PID'].isin(user_dataset_features.keys())]\n",
    "\n",
    "columns_of_interest = [\"PID\", \"ISI_C4\"]\n",
    "\n",
    "sueno_dataset_filtered_cols_of_interest = sueno_dataset_filtered[[c for c in sueno_dataset_filtered.columns if c in columns_of_interest]]\n",
    "sueno_dataset_filtered_cols_of_interest['ISI_C4'] = sueno_dataset_filtered_cols_of_interest['ISI_C4'].map({1.0:1.0, 2.0:2.0,3.0:3.0, 4.0:3.0})\n",
    "\n",
    "baseline_sueno_merged = baselined_dataset_filtered_cols_of_interest.set_index('pid').join(sueno_dataset_filtered_cols_of_interest.set_index('PID'))\n",
    "baseline_sueno_merged[\"PID\"] = baseline_sueno_merged.index\n",
    "baseline_sueno_merged_no_na = baseline_sueno_merged.dropna()\n",
    "baseline_sueno_merged_no_na = baseline_sueno_merged_no_na.rename(columns={'DIABETES3':'diabetes',\n",
    "                                                                                            'METS_NCEP':'metabolic_syndrome',\n",
    "                                                                                            'ISI_C4':'insomnia',\n",
    "                                                                                            'HYPERTENSION':'hypertension',\n",
    "                                                                                            'AHI_GE15':'sleep_apnea'})\n",
    "baseline_sueno_merged_no_na.to_pickle(path_to_baseline_sueno_merge_no_na)"
   ]
  },
  {
   "cell_type": "code",
   "execution_count": 26,
   "metadata": {},
   "outputs": [
    {
     "output_type": "execute_result",
     "data": {
      "text/plain": [
       "          HEIGHT   AGE        BMI  HYPERTENSION  DIABETES3  AHI_GE15  \\\n",
       "PID                                                                    \n",
       "163225     162.0  29.0  34.026825           1.0        1.0       0.0   \n",
       "238589     175.0  62.0  30.367347           1.0        3.0       1.0   \n",
       "258857     162.0  57.0  33.683890           0.0        2.0       0.0   \n",
       "306064     172.0  52.0  24.337480           0.0        1.0       0.0   \n",
       "311734     148.0  52.0  48.164719           0.0        1.0       0.0   \n",
       "...          ...   ...        ...           ...        ...       ...   \n",
       "99858115   157.0  51.0  35.701245           0.0        3.0       0.0   \n",
       "99894609   164.0  55.0  24.985128           0.0        3.0       0.0   \n",
       "99907952   166.0  56.0  28.741472           0.0        3.0       0.0   \n",
       "99973984   160.0  47.0  27.968750           0.0        1.0       0.0   \n",
       "99977561   153.0  59.0  24.392328           1.0        2.0       1.0   \n",
       "\n",
       "          GENDERNUM  METS_NCEP  ISI_C4  \\\n",
       "PID                                      \n",
       "163225          0.0        1.0     1.0   \n",
       "238589          1.0        1.0     2.0   \n",
       "258857          0.0        0.0     3.0   \n",
       "306064          1.0        0.0     1.0   \n",
       "311734          0.0        1.0     3.0   \n",
       "...             ...        ...     ...   \n",
       "99858115        0.0        1.0     1.0   \n",
       "99894609        1.0        0.0     3.0   \n",
       "99907952        1.0        1.0     1.0   \n",
       "99973984        1.0        0.0     1.0   \n",
       "99977561        0.0        1.0     3.0   \n",
       "\n",
       "                                                       data  \\\n",
       "PID                                                           \n",
       "163225    [[129.0, 44.34, 4.95, 3.65, 1.29], [271.0, 71....   \n",
       "238589    [[234.0, 311.93, 42.2, 24.6, 3.07], [242.0, 45...   \n",
       "258857    [[69.0, 23.98, 1.54, 2.27, 0.66], [196.0, 127....   \n",
       "306064    [[24.0, 480.85, 23.0, 47.1, 16.3], [0.0, 474.6...   \n",
       "311734    [[41.0, 72.39, 24.6, 0.7509999999999999, 10.6]...   \n",
       "...                                                     ...   \n",
       "99858115  [[191.0, 384.99, 24.0, 36.3, 12.8], [250.0, 10...   \n",
       "99894609  [[130.0, 599.83, 26.2, 18.9, 345.0], [9.0, 522...   \n",
       "99907952  [[145.0, 334.67, 28.0, 29.9, 10.3], [172.0, 25...   \n",
       "99973984  [[39.0, 729.26, 38.7, 71.0, 19.8], [0.0, 1110....   \n",
       "99977561  [[15.0, 480.28, 18.1, 48.1, 17.4], [13.0, 182....   \n",
       "\n",
       "                                             activity_label  \n",
       "PID                                                          \n",
       "163225    [ACTIVE, ACTIVE, ACTIVE, ACTIVE, ACTIVE, ACTIV...  \n",
       "238589    [ACTIVE, ACTIVE, ACTIVE, ACTIVE, ACTIVE, ACTIV...  \n",
       "258857    [ACTIVE, ACTIVE, ACTIVE, ACTIVE, ACTIVE, ACTIV...  \n",
       "306064    [ACTIVE, ACTIVE, ACTIVE, ACTIVE, ACTIVE, ACTIV...  \n",
       "311734    [ACTIVE, ACTIVE, ACTIVE, ACTIVE, ACTIVE, ACTIV...  \n",
       "...                                                     ...  \n",
       "99858115  [ACTIVE, ACTIVE, ACTIVE, ACTIVE, ACTIVE, ACTIV...  \n",
       "99894609  [ACTIVE, ACTIVE, ACTIVE, ACTIVE, ACTIVE, ACTIV...  \n",
       "99907952  [ACTIVE, ACTIVE, ACTIVE, ACTIVE, ACTIVE, ACTIV...  \n",
       "99973984  [ACTIVE, ACTIVE, ACTIVE, ACTIVE, ACTIVE, ACTIV...  \n",
       "99977561  [ACTIVE, ACTIVE, ACTIVE, ACTIVE, ACTIVE, ACTIV...  \n",
       "\n",
       "[1886 rows x 11 columns]"
      ],
      "text/html": "<div>\n<style scoped>\n    .dataframe tbody tr th:only-of-type {\n        vertical-align: middle;\n    }\n\n    .dataframe tbody tr th {\n        vertical-align: top;\n    }\n\n    .dataframe thead th {\n        text-align: right;\n    }\n</style>\n<table border=\"1\" class=\"dataframe\">\n  <thead>\n    <tr style=\"text-align: right;\">\n      <th></th>\n      <th>HEIGHT</th>\n      <th>AGE</th>\n      <th>BMI</th>\n      <th>HYPERTENSION</th>\n      <th>DIABETES3</th>\n      <th>AHI_GE15</th>\n      <th>GENDERNUM</th>\n      <th>METS_NCEP</th>\n      <th>ISI_C4</th>\n      <th>data</th>\n      <th>activity_label</th>\n    </tr>\n    <tr>\n      <th>PID</th>\n      <th></th>\n      <th></th>\n      <th></th>\n      <th></th>\n      <th></th>\n      <th></th>\n      <th></th>\n      <th></th>\n      <th></th>\n      <th></th>\n      <th></th>\n    </tr>\n  </thead>\n  <tbody>\n    <tr>\n      <th>163225</th>\n      <td>162.0</td>\n      <td>29.0</td>\n      <td>34.026825</td>\n      <td>1.0</td>\n      <td>1.0</td>\n      <td>0.0</td>\n      <td>0.0</td>\n      <td>1.0</td>\n      <td>1.0</td>\n      <td>[[129.0, 44.34, 4.95, 3.65, 1.29], [271.0, 71....</td>\n      <td>[ACTIVE, ACTIVE, ACTIVE, ACTIVE, ACTIVE, ACTIV...</td>\n    </tr>\n    <tr>\n      <th>238589</th>\n      <td>175.0</td>\n      <td>62.0</td>\n      <td>30.367347</td>\n      <td>1.0</td>\n      <td>3.0</td>\n      <td>1.0</td>\n      <td>1.0</td>\n      <td>1.0</td>\n      <td>2.0</td>\n      <td>[[234.0, 311.93, 42.2, 24.6, 3.07], [242.0, 45...</td>\n      <td>[ACTIVE, ACTIVE, ACTIVE, ACTIVE, ACTIVE, ACTIV...</td>\n    </tr>\n    <tr>\n      <th>258857</th>\n      <td>162.0</td>\n      <td>57.0</td>\n      <td>33.683890</td>\n      <td>0.0</td>\n      <td>2.0</td>\n      <td>0.0</td>\n      <td>0.0</td>\n      <td>0.0</td>\n      <td>3.0</td>\n      <td>[[69.0, 23.98, 1.54, 2.27, 0.66], [196.0, 127....</td>\n      <td>[ACTIVE, ACTIVE, ACTIVE, ACTIVE, ACTIVE, ACTIV...</td>\n    </tr>\n    <tr>\n      <th>306064</th>\n      <td>172.0</td>\n      <td>52.0</td>\n      <td>24.337480</td>\n      <td>0.0</td>\n      <td>1.0</td>\n      <td>0.0</td>\n      <td>1.0</td>\n      <td>0.0</td>\n      <td>1.0</td>\n      <td>[[24.0, 480.85, 23.0, 47.1, 16.3], [0.0, 474.6...</td>\n      <td>[ACTIVE, ACTIVE, ACTIVE, ACTIVE, ACTIVE, ACTIV...</td>\n    </tr>\n    <tr>\n      <th>311734</th>\n      <td>148.0</td>\n      <td>52.0</td>\n      <td>48.164719</td>\n      <td>0.0</td>\n      <td>1.0</td>\n      <td>0.0</td>\n      <td>0.0</td>\n      <td>1.0</td>\n      <td>3.0</td>\n      <td>[[41.0, 72.39, 24.6, 0.7509999999999999, 10.6]...</td>\n      <td>[ACTIVE, ACTIVE, ACTIVE, ACTIVE, ACTIVE, ACTIV...</td>\n    </tr>\n    <tr>\n      <th>...</th>\n      <td>...</td>\n      <td>...</td>\n      <td>...</td>\n      <td>...</td>\n      <td>...</td>\n      <td>...</td>\n      <td>...</td>\n      <td>...</td>\n      <td>...</td>\n      <td>...</td>\n      <td>...</td>\n    </tr>\n    <tr>\n      <th>99858115</th>\n      <td>157.0</td>\n      <td>51.0</td>\n      <td>35.701245</td>\n      <td>0.0</td>\n      <td>3.0</td>\n      <td>0.0</td>\n      <td>0.0</td>\n      <td>1.0</td>\n      <td>1.0</td>\n      <td>[[191.0, 384.99, 24.0, 36.3, 12.8], [250.0, 10...</td>\n      <td>[ACTIVE, ACTIVE, ACTIVE, ACTIVE, ACTIVE, ACTIV...</td>\n    </tr>\n    <tr>\n      <th>99894609</th>\n      <td>164.0</td>\n      <td>55.0</td>\n      <td>24.985128</td>\n      <td>0.0</td>\n      <td>3.0</td>\n      <td>0.0</td>\n      <td>1.0</td>\n      <td>0.0</td>\n      <td>3.0</td>\n      <td>[[130.0, 599.83, 26.2, 18.9, 345.0], [9.0, 522...</td>\n      <td>[ACTIVE, ACTIVE, ACTIVE, ACTIVE, ACTIVE, ACTIV...</td>\n    </tr>\n    <tr>\n      <th>99907952</th>\n      <td>166.0</td>\n      <td>56.0</td>\n      <td>28.741472</td>\n      <td>0.0</td>\n      <td>3.0</td>\n      <td>0.0</td>\n      <td>1.0</td>\n      <td>1.0</td>\n      <td>1.0</td>\n      <td>[[145.0, 334.67, 28.0, 29.9, 10.3], [172.0, 25...</td>\n      <td>[ACTIVE, ACTIVE, ACTIVE, ACTIVE, ACTIVE, ACTIV...</td>\n    </tr>\n    <tr>\n      <th>99973984</th>\n      <td>160.0</td>\n      <td>47.0</td>\n      <td>27.968750</td>\n      <td>0.0</td>\n      <td>1.0</td>\n      <td>0.0</td>\n      <td>1.0</td>\n      <td>0.0</td>\n      <td>1.0</td>\n      <td>[[39.0, 729.26, 38.7, 71.0, 19.8], [0.0, 1110....</td>\n      <td>[ACTIVE, ACTIVE, ACTIVE, ACTIVE, ACTIVE, ACTIV...</td>\n    </tr>\n    <tr>\n      <th>99977561</th>\n      <td>153.0</td>\n      <td>59.0</td>\n      <td>24.392328</td>\n      <td>1.0</td>\n      <td>2.0</td>\n      <td>1.0</td>\n      <td>0.0</td>\n      <td>1.0</td>\n      <td>3.0</td>\n      <td>[[15.0, 480.28, 18.1, 48.1, 17.4], [13.0, 182....</td>\n      <td>[ACTIVE, ACTIVE, ACTIVE, ACTIVE, ACTIVE, ACTIV...</td>\n    </tr>\n  </tbody>\n</table>\n<p>1886 rows × 11 columns</p>\n</div>"
     },
     "metadata": {},
     "execution_count": 26
    }
   ],
   "source": []
  },
  {
   "cell_type": "code",
   "execution_count": 32,
   "metadata": {},
   "outputs": [],
   "source": [
    "y_labels = np.array(baseline_sueno_features_merged['DIABETES3'].to_list())\n",
    "x_data = np.array(baseline_sueno_features_merged['data'].to_list())"
   ]
  },
  {
   "cell_type": "code",
   "execution_count": 34,
   "metadata": {},
   "outputs": [
    {
     "output_type": "error",
     "ename": "ValueError",
     "evalue": "setting an array element with a sequence.",
     "traceback": [
      "\u001b[1;31m---------------------------------------------------------------------------\u001b[0m",
      "\u001b[1;31mTypeError\u001b[0m                                 Traceback (most recent call last)",
      "\u001b[1;31mTypeError\u001b[0m: only size-1 arrays can be converted to Python scalars",
      "\nThe above exception was the direct cause of the following exception:\n",
      "\u001b[1;31mValueError\u001b[0m                                Traceback (most recent call last)",
      "\u001b[1;32m<ipython-input-34-4e2c57974a01>\u001b[0m in \u001b[0;36m<module>\u001b[1;34m\u001b[0m\n\u001b[0;32m      1\u001b[0m \u001b[1;32mfrom\u001b[0m \u001b[0msklearn\u001b[0m\u001b[1;33m.\u001b[0m\u001b[0msvm\u001b[0m \u001b[1;32mimport\u001b[0m \u001b[0mSVC\u001b[0m\u001b[1;33m\u001b[0m\u001b[1;33m\u001b[0m\u001b[0m\n\u001b[0;32m      2\u001b[0m \u001b[0mclf\u001b[0m \u001b[1;33m=\u001b[0m \u001b[0mSVC\u001b[0m\u001b[1;33m(\u001b[0m\u001b[0mkernel\u001b[0m\u001b[1;33m=\u001b[0m\u001b[1;34m'linear'\u001b[0m\u001b[1;33m)\u001b[0m\u001b[1;33m\u001b[0m\u001b[1;33m\u001b[0m\u001b[0m\n\u001b[1;32m----> 3\u001b[1;33m \u001b[0mclf\u001b[0m\u001b[1;33m.\u001b[0m\u001b[0mfit\u001b[0m\u001b[1;33m(\u001b[0m\u001b[0mx_data\u001b[0m\u001b[1;33m,\u001b[0m \u001b[0my_labels\u001b[0m\u001b[1;33m)\u001b[0m\u001b[1;33m\u001b[0m\u001b[1;33m\u001b[0m\u001b[0m\n\u001b[0m",
      "\u001b[1;32m~\\anaconda3\\envs\\tf2\\lib\\site-packages\\sklearn\\svm\\_base.py\u001b[0m in \u001b[0;36mfit\u001b[1;34m(self, X, y, sample_weight)\u001b[0m\n\u001b[0;32m    158\u001b[0m             \u001b[0mcheck_consistent_length\u001b[0m\u001b[1;33m(\u001b[0m\u001b[0mX\u001b[0m\u001b[1;33m,\u001b[0m \u001b[0my\u001b[0m\u001b[1;33m)\u001b[0m\u001b[1;33m\u001b[0m\u001b[1;33m\u001b[0m\u001b[0m\n\u001b[0;32m    159\u001b[0m         \u001b[1;32melse\u001b[0m\u001b[1;33m:\u001b[0m\u001b[1;33m\u001b[0m\u001b[1;33m\u001b[0m\u001b[0m\n\u001b[1;32m--> 160\u001b[1;33m             X, y = self._validate_data(X, y, dtype=np.float64,\n\u001b[0m\u001b[0;32m    161\u001b[0m                                        \u001b[0morder\u001b[0m\u001b[1;33m=\u001b[0m\u001b[1;34m'C'\u001b[0m\u001b[1;33m,\u001b[0m \u001b[0maccept_sparse\u001b[0m\u001b[1;33m=\u001b[0m\u001b[1;34m'csr'\u001b[0m\u001b[1;33m,\u001b[0m\u001b[1;33m\u001b[0m\u001b[1;33m\u001b[0m\u001b[0m\n\u001b[0;32m    162\u001b[0m                                        accept_large_sparse=False)\n",
      "\u001b[1;32m~\\anaconda3\\envs\\tf2\\lib\\site-packages\\sklearn\\base.py\u001b[0m in \u001b[0;36m_validate_data\u001b[1;34m(self, X, y, reset, validate_separately, **check_params)\u001b[0m\n\u001b[0;32m    430\u001b[0m                 \u001b[0my\u001b[0m \u001b[1;33m=\u001b[0m \u001b[0mcheck_array\u001b[0m\u001b[1;33m(\u001b[0m\u001b[0my\u001b[0m\u001b[1;33m,\u001b[0m \u001b[1;33m**\u001b[0m\u001b[0mcheck_y_params\u001b[0m\u001b[1;33m)\u001b[0m\u001b[1;33m\u001b[0m\u001b[1;33m\u001b[0m\u001b[0m\n\u001b[0;32m    431\u001b[0m             \u001b[1;32melse\u001b[0m\u001b[1;33m:\u001b[0m\u001b[1;33m\u001b[0m\u001b[1;33m\u001b[0m\u001b[0m\n\u001b[1;32m--> 432\u001b[1;33m                 \u001b[0mX\u001b[0m\u001b[1;33m,\u001b[0m \u001b[0my\u001b[0m \u001b[1;33m=\u001b[0m \u001b[0mcheck_X_y\u001b[0m\u001b[1;33m(\u001b[0m\u001b[0mX\u001b[0m\u001b[1;33m,\u001b[0m \u001b[0my\u001b[0m\u001b[1;33m,\u001b[0m \u001b[1;33m**\u001b[0m\u001b[0mcheck_params\u001b[0m\u001b[1;33m)\u001b[0m\u001b[1;33m\u001b[0m\u001b[1;33m\u001b[0m\u001b[0m\n\u001b[0m\u001b[0;32m    433\u001b[0m             \u001b[0mout\u001b[0m \u001b[1;33m=\u001b[0m \u001b[0mX\u001b[0m\u001b[1;33m,\u001b[0m \u001b[0my\u001b[0m\u001b[1;33m\u001b[0m\u001b[1;33m\u001b[0m\u001b[0m\n\u001b[0;32m    434\u001b[0m \u001b[1;33m\u001b[0m\u001b[0m\n",
      "\u001b[1;32m~\\anaconda3\\envs\\tf2\\lib\\site-packages\\sklearn\\utils\\validation.py\u001b[0m in \u001b[0;36minner_f\u001b[1;34m(*args, **kwargs)\u001b[0m\n\u001b[0;32m     71\u001b[0m                           FutureWarning)\n\u001b[0;32m     72\u001b[0m         \u001b[0mkwargs\u001b[0m\u001b[1;33m.\u001b[0m\u001b[0mupdate\u001b[0m\u001b[1;33m(\u001b[0m\u001b[1;33m{\u001b[0m\u001b[0mk\u001b[0m\u001b[1;33m:\u001b[0m \u001b[0marg\u001b[0m \u001b[1;32mfor\u001b[0m \u001b[0mk\u001b[0m\u001b[1;33m,\u001b[0m \u001b[0marg\u001b[0m \u001b[1;32min\u001b[0m \u001b[0mzip\u001b[0m\u001b[1;33m(\u001b[0m\u001b[0msig\u001b[0m\u001b[1;33m.\u001b[0m\u001b[0mparameters\u001b[0m\u001b[1;33m,\u001b[0m \u001b[0margs\u001b[0m\u001b[1;33m)\u001b[0m\u001b[1;33m}\u001b[0m\u001b[1;33m)\u001b[0m\u001b[1;33m\u001b[0m\u001b[1;33m\u001b[0m\u001b[0m\n\u001b[1;32m---> 73\u001b[1;33m         \u001b[1;32mreturn\u001b[0m \u001b[0mf\u001b[0m\u001b[1;33m(\u001b[0m\u001b[1;33m**\u001b[0m\u001b[0mkwargs\u001b[0m\u001b[1;33m)\u001b[0m\u001b[1;33m\u001b[0m\u001b[1;33m\u001b[0m\u001b[0m\n\u001b[0m\u001b[0;32m     74\u001b[0m     \u001b[1;32mreturn\u001b[0m \u001b[0minner_f\u001b[0m\u001b[1;33m\u001b[0m\u001b[1;33m\u001b[0m\u001b[0m\n\u001b[0;32m     75\u001b[0m \u001b[1;33m\u001b[0m\u001b[0m\n",
      "\u001b[1;32m~\\anaconda3\\envs\\tf2\\lib\\site-packages\\sklearn\\utils\\validation.py\u001b[0m in \u001b[0;36mcheck_X_y\u001b[1;34m(X, y, accept_sparse, accept_large_sparse, dtype, order, copy, force_all_finite, ensure_2d, allow_nd, multi_output, ensure_min_samples, ensure_min_features, y_numeric, estimator)\u001b[0m\n\u001b[0;32m    794\u001b[0m         \u001b[1;32mraise\u001b[0m \u001b[0mValueError\u001b[0m\u001b[1;33m(\u001b[0m\u001b[1;34m\"y cannot be None\"\u001b[0m\u001b[1;33m)\u001b[0m\u001b[1;33m\u001b[0m\u001b[1;33m\u001b[0m\u001b[0m\n\u001b[0;32m    795\u001b[0m \u001b[1;33m\u001b[0m\u001b[0m\n\u001b[1;32m--> 796\u001b[1;33m     X = check_array(X, accept_sparse=accept_sparse,\n\u001b[0m\u001b[0;32m    797\u001b[0m                     \u001b[0maccept_large_sparse\u001b[0m\u001b[1;33m=\u001b[0m\u001b[0maccept_large_sparse\u001b[0m\u001b[1;33m,\u001b[0m\u001b[1;33m\u001b[0m\u001b[1;33m\u001b[0m\u001b[0m\n\u001b[0;32m    798\u001b[0m                     \u001b[0mdtype\u001b[0m\u001b[1;33m=\u001b[0m\u001b[0mdtype\u001b[0m\u001b[1;33m,\u001b[0m \u001b[0morder\u001b[0m\u001b[1;33m=\u001b[0m\u001b[0morder\u001b[0m\u001b[1;33m,\u001b[0m \u001b[0mcopy\u001b[0m\u001b[1;33m=\u001b[0m\u001b[0mcopy\u001b[0m\u001b[1;33m,\u001b[0m\u001b[1;33m\u001b[0m\u001b[1;33m\u001b[0m\u001b[0m\n",
      "\u001b[1;32m~\\anaconda3\\envs\\tf2\\lib\\site-packages\\sklearn\\utils\\validation.py\u001b[0m in \u001b[0;36minner_f\u001b[1;34m(*args, **kwargs)\u001b[0m\n\u001b[0;32m     71\u001b[0m                           FutureWarning)\n\u001b[0;32m     72\u001b[0m         \u001b[0mkwargs\u001b[0m\u001b[1;33m.\u001b[0m\u001b[0mupdate\u001b[0m\u001b[1;33m(\u001b[0m\u001b[1;33m{\u001b[0m\u001b[0mk\u001b[0m\u001b[1;33m:\u001b[0m \u001b[0marg\u001b[0m \u001b[1;32mfor\u001b[0m \u001b[0mk\u001b[0m\u001b[1;33m,\u001b[0m \u001b[0marg\u001b[0m \u001b[1;32min\u001b[0m \u001b[0mzip\u001b[0m\u001b[1;33m(\u001b[0m\u001b[0msig\u001b[0m\u001b[1;33m.\u001b[0m\u001b[0mparameters\u001b[0m\u001b[1;33m,\u001b[0m \u001b[0margs\u001b[0m\u001b[1;33m)\u001b[0m\u001b[1;33m}\u001b[0m\u001b[1;33m)\u001b[0m\u001b[1;33m\u001b[0m\u001b[1;33m\u001b[0m\u001b[0m\n\u001b[1;32m---> 73\u001b[1;33m         \u001b[1;32mreturn\u001b[0m \u001b[0mf\u001b[0m\u001b[1;33m(\u001b[0m\u001b[1;33m**\u001b[0m\u001b[0mkwargs\u001b[0m\u001b[1;33m)\u001b[0m\u001b[1;33m\u001b[0m\u001b[1;33m\u001b[0m\u001b[0m\n\u001b[0m\u001b[0;32m     74\u001b[0m     \u001b[1;32mreturn\u001b[0m \u001b[0minner_f\u001b[0m\u001b[1;33m\u001b[0m\u001b[1;33m\u001b[0m\u001b[0m\n\u001b[0;32m     75\u001b[0m \u001b[1;33m\u001b[0m\u001b[0m\n",
      "\u001b[1;32m~\\anaconda3\\envs\\tf2\\lib\\site-packages\\sklearn\\utils\\validation.py\u001b[0m in \u001b[0;36mcheck_array\u001b[1;34m(array, accept_sparse, accept_large_sparse, dtype, order, copy, force_all_finite, ensure_2d, allow_nd, ensure_min_samples, ensure_min_features, estimator)\u001b[0m\n\u001b[0;32m    597\u001b[0m                     \u001b[0marray\u001b[0m \u001b[1;33m=\u001b[0m \u001b[0marray\u001b[0m\u001b[1;33m.\u001b[0m\u001b[0mastype\u001b[0m\u001b[1;33m(\u001b[0m\u001b[0mdtype\u001b[0m\u001b[1;33m,\u001b[0m \u001b[0mcasting\u001b[0m\u001b[1;33m=\u001b[0m\u001b[1;34m\"unsafe\"\u001b[0m\u001b[1;33m,\u001b[0m \u001b[0mcopy\u001b[0m\u001b[1;33m=\u001b[0m\u001b[1;32mFalse\u001b[0m\u001b[1;33m)\u001b[0m\u001b[1;33m\u001b[0m\u001b[1;33m\u001b[0m\u001b[0m\n\u001b[0;32m    598\u001b[0m                 \u001b[1;32melse\u001b[0m\u001b[1;33m:\u001b[0m\u001b[1;33m\u001b[0m\u001b[1;33m\u001b[0m\u001b[0m\n\u001b[1;32m--> 599\u001b[1;33m                     \u001b[0marray\u001b[0m \u001b[1;33m=\u001b[0m \u001b[0mnp\u001b[0m\u001b[1;33m.\u001b[0m\u001b[0masarray\u001b[0m\u001b[1;33m(\u001b[0m\u001b[0marray\u001b[0m\u001b[1;33m,\u001b[0m \u001b[0morder\u001b[0m\u001b[1;33m=\u001b[0m\u001b[0morder\u001b[0m\u001b[1;33m,\u001b[0m \u001b[0mdtype\u001b[0m\u001b[1;33m=\u001b[0m\u001b[0mdtype\u001b[0m\u001b[1;33m)\u001b[0m\u001b[1;33m\u001b[0m\u001b[1;33m\u001b[0m\u001b[0m\n\u001b[0m\u001b[0;32m    600\u001b[0m             \u001b[1;32mexcept\u001b[0m \u001b[0mComplexWarning\u001b[0m\u001b[1;33m:\u001b[0m\u001b[1;33m\u001b[0m\u001b[1;33m\u001b[0m\u001b[0m\n\u001b[0;32m    601\u001b[0m                 raise ValueError(\"Complex data not supported\\n\"\n",
      "\u001b[1;32m~\\anaconda3\\envs\\tf2\\lib\\site-packages\\numpy\\core\\_asarray.py\u001b[0m in \u001b[0;36masarray\u001b[1;34m(a, dtype, order)\u001b[0m\n\u001b[0;32m     83\u001b[0m \u001b[1;33m\u001b[0m\u001b[0m\n\u001b[0;32m     84\u001b[0m     \"\"\"\n\u001b[1;32m---> 85\u001b[1;33m     \u001b[1;32mreturn\u001b[0m \u001b[0marray\u001b[0m\u001b[1;33m(\u001b[0m\u001b[0ma\u001b[0m\u001b[1;33m,\u001b[0m \u001b[0mdtype\u001b[0m\u001b[1;33m,\u001b[0m \u001b[0mcopy\u001b[0m\u001b[1;33m=\u001b[0m\u001b[1;32mFalse\u001b[0m\u001b[1;33m,\u001b[0m \u001b[0morder\u001b[0m\u001b[1;33m=\u001b[0m\u001b[0morder\u001b[0m\u001b[1;33m)\u001b[0m\u001b[1;33m\u001b[0m\u001b[1;33m\u001b[0m\u001b[0m\n\u001b[0m\u001b[0;32m     86\u001b[0m \u001b[1;33m\u001b[0m\u001b[0m\n\u001b[0;32m     87\u001b[0m \u001b[1;33m\u001b[0m\u001b[0m\n",
      "\u001b[1;31mValueError\u001b[0m: setting an array element with a sequence."
     ]
    }
   ],
   "source": [
    "from sklearn.svm import SVC\n",
    "clf = SVC(kernel='linear')\n",
    "clf.fit(x_data, y_labels)"
   ]
  },
  {
   "cell_type": "code",
   "execution_count": null,
   "metadata": {},
   "outputs": [],
   "source": []
  }
 ]
}